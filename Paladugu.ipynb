{
 "cells": [
  {
   "cell_type": "code",
   "execution_count": 1,
   "metadata": {},
   "outputs": [],
   "source": [
    "import pandas as pd\n",
    "import numpy as np\n",
    "import matplotlib.pyplot as plt\n",
    "import scipy.linalg as lin\n",
    "import scipy.sparse as sparse\n",
    "import scipy.sparse.linalg as slin\n",
    "import itertools\n",
    "import sklearn\n",
    "import time\n",
    "from IPython.display import display_markdown, Markdown\n",
    "%matplotlib inline"
   ]
  },
  {
   "cell_type": "markdown",
   "metadata": {
    "heading_collapsed": true
   },
   "source": [
    "# read data"
   ]
  },
  {
   "cell_type": "code",
   "execution_count": 4,
   "metadata": {
    "hidden": true
   },
   "outputs": [],
   "source": [
    "def is_mitochrondial(df):\n",
    "    return df.a.str.match(r'Q.*') | df.b.str.match(r'Q.*') | df.a.str.match(r't.*') | df.b.str.match(r't.*')\n",
    "def detect_mitochrondrial(df):\n",
    "    return np.any(is_mitochrondial(df))\n",
    "def remove_mitochrondrial(df):\n",
    "    return df[~is_mitochrondial(df)]\n",
    "\n",
    "def dict_to_np(d): #ensures proper ordering, if for whatever reason the keys are out of numerical order\n",
    "    return np.array([d[i] for i in range(len(d))])"
   ]
  },
  {
   "cell_type": "markdown",
   "metadata": {
    "heading_collapsed": true,
    "hidden": true
   },
   "source": [
    "## read protein-protein interaction data"
   ]
  },
  {
   "cell_type": "markdown",
   "metadata": {
    "hidden": true
   },
   "source": [
    "Data from [Reguly et al 2006](http://www.ncbi.nlm.nih.gov/pmc/articles/PMC1561585/)"
   ]
  },
  {
   "cell_type": "markdown",
   "metadata": {
    "hidden": true
   },
   "source": [
    "Read header"
   ]
  },
  {
   "cell_type": "code",
   "execution_count": 3,
   "metadata": {
    "hidden": true
   },
   "outputs": [
    {
     "data": {
      "text/html": [
       "<div>\n",
       "<style scoped>\n",
       "    .dataframe tbody tr th:only-of-type {\n",
       "        vertical-align: middle;\n",
       "    }\n",
       "\n",
       "    .dataframe tbody tr th {\n",
       "        vertical-align: top;\n",
       "    }\n",
       "\n",
       "    .dataframe thead th {\n",
       "        text-align: right;\n",
       "    }\n",
       "</style>\n",
       "<table border=\"1\" class=\"dataframe\">\n",
       "  <thead>\n",
       "    <tr style=\"text-align: right;\">\n",
       "      <th></th>\n",
       "      <th>Bait gene/protein</th>\n",
       "      <th>Hit gene/protein</th>\n",
       "      <th>Bait Standard Name</th>\n",
       "      <th>Hit Standard Name</th>\n",
       "      <th>Experimental System</th>\n",
       "      <th>Source</th>\n",
       "      <th>PubMed ID</th>\n",
       "    </tr>\n",
       "  </thead>\n",
       "  <tbody>\n",
       "    <tr>\n",
       "      <th>0</th>\n",
       "      <td>YBR236C</td>\n",
       "      <td>YML010W</td>\n",
       "      <td>ABD1</td>\n",
       "      <td>SPT5</td>\n",
       "      <td>Affinity Capture-MS</td>\n",
       "      <td>Lindstrom DL et al</td>\n",
       "      <td>12556496</td>\n",
       "    </tr>\n",
       "  </tbody>\n",
       "</table>\n",
       "</div>"
      ],
      "text/plain": [
       "  Bait gene/protein Hit gene/protein Bait Standard Name Hit Standard Name  \\\n",
       "0           YBR236C          YML010W               ABD1              SPT5   \n",
       "\n",
       "   Experimental System              Source  PubMed ID  \n",
       "0  Affinity Capture-MS  Lindstrom DL et al   12556496  "
      ]
     },
     "execution_count": 3,
     "metadata": {},
     "output_type": "execute_result"
    }
   ],
   "source": [
    "pd.read_csv('data/yeast/reguly06/LC_BIOCHEMICAL_011906_MinusRNA.txt',sep='\\t', nrows = 1)"
   ]
  },
  {
   "cell_type": "markdown",
   "metadata": {
    "hidden": true
   },
   "source": [
    "Load data"
   ]
  },
  {
   "cell_type": "code",
   "execution_count": 5,
   "metadata": {
    "hidden": true
   },
   "outputs": [
    {
     "data": {
      "text/html": [
       "<div>\n",
       "<style scoped>\n",
       "    .dataframe tbody tr th:only-of-type {\n",
       "        vertical-align: middle;\n",
       "    }\n",
       "\n",
       "    .dataframe tbody tr th {\n",
       "        vertical-align: top;\n",
       "    }\n",
       "\n",
       "    .dataframe thead th {\n",
       "        text-align: right;\n",
       "    }\n",
       "</style>\n",
       "<table border=\"1\" class=\"dataframe\">\n",
       "  <thead>\n",
       "    <tr style=\"text-align: right;\">\n",
       "      <th></th>\n",
       "      <th>a</th>\n",
       "      <th>b</th>\n",
       "    </tr>\n",
       "  </thead>\n",
       "  <tbody>\n",
       "    <tr>\n",
       "      <th>0</th>\n",
       "      <td>YBR236C</td>\n",
       "      <td>YML010W</td>\n",
       "    </tr>\n",
       "    <tr>\n",
       "      <th>1</th>\n",
       "      <td>YML010W</td>\n",
       "      <td>YBR236C</td>\n",
       "    </tr>\n",
       "    <tr>\n",
       "      <th>2</th>\n",
       "      <td>YDR448W</td>\n",
       "      <td>YPL254W</td>\n",
       "    </tr>\n",
       "    <tr>\n",
       "      <th>3</th>\n",
       "      <td>YDR448W</td>\n",
       "      <td>YDR176W</td>\n",
       "    </tr>\n",
       "    <tr>\n",
       "      <th>4</th>\n",
       "      <td>YDR448W</td>\n",
       "      <td>YOR257W</td>\n",
       "    </tr>\n",
       "    <tr>\n",
       "      <th>...</th>\n",
       "      <td>...</td>\n",
       "      <td>...</td>\n",
       "    </tr>\n",
       "    <tr>\n",
       "      <th>21130</th>\n",
       "      <td>YKL138C-A</td>\n",
       "      <td>YDR201W</td>\n",
       "    </tr>\n",
       "    <tr>\n",
       "      <th>21131</th>\n",
       "      <td>YKL138C-A</td>\n",
       "      <td>YKR083C</td>\n",
       "    </tr>\n",
       "    <tr>\n",
       "      <th>21132</th>\n",
       "      <td>YKL138C-A</td>\n",
       "      <td>YDR016C</td>\n",
       "    </tr>\n",
       "    <tr>\n",
       "      <th>21133</th>\n",
       "      <td>YKL138C-A</td>\n",
       "      <td>YBR233W-A</td>\n",
       "    </tr>\n",
       "    <tr>\n",
       "      <th>21134</th>\n",
       "      <td>YKL138C-A</td>\n",
       "      <td>YDR320C-A</td>\n",
       "    </tr>\n",
       "  </tbody>\n",
       "</table>\n",
       "<p>21091 rows × 2 columns</p>\n",
       "</div>"
      ],
      "text/plain": [
       "               a          b\n",
       "0        YBR236C    YML010W\n",
       "1        YML010W    YBR236C\n",
       "2        YDR448W    YPL254W\n",
       "3        YDR448W    YDR176W\n",
       "4        YDR448W    YOR257W\n",
       "...          ...        ...\n",
       "21130  YKL138C-A    YDR201W\n",
       "21131  YKL138C-A    YKR083C\n",
       "21132  YKL138C-A    YDR016C\n",
       "21133  YKL138C-A  YBR233W-A\n",
       "21134  YKL138C-A  YDR320C-A\n",
       "\n",
       "[21091 rows x 2 columns]"
      ]
     },
     "metadata": {},
     "output_type": "display_data"
    },
    {
     "name": "stdout",
     "output_type": "stream",
     "text": [
      "6956 duplicates\n",
      "14135 unique\n"
     ]
    }
   ],
   "source": [
    "usecols = 'Bait gene/protein,Hit gene/protein'.split(',')\n",
    "colnames = 'a,b'.split(',')\n",
    "reguly = pd.read_csv('data/yeast/reguly06/LC_BIOCHEMICAL_011906_MinusRNA.txt',sep='\\t', usecols = usecols,\n",
    "                     dtype=\"str\")\n",
    "reguly = reguly.rename(columns={k : v for k,v in zip(usecols,colnames)})\n",
    "\n",
    "reguly = remove_mitochrondrial(reguly) #remove mitochrondrial proteins\n",
    "\n",
    "display(reguly)\n",
    "print(np.count_nonzero(reguly.duplicated()), 'duplicates')\n",
    "print(len(reguly) - np.count_nonzero(reguly.duplicated()), 'unique')"
   ]
  },
  {
   "cell_type": "markdown",
   "metadata": {
    "hidden": true
   },
   "source": [
    "Sort each row and delete duplicates, since we are only interested in undirected edges. Yields a dataframe `pint` of unique protein interactions"
   ]
  },
  {
   "cell_type": "code",
   "execution_count": 6,
   "metadata": {
    "hidden": true
   },
   "outputs": [
    {
     "name": "stdout",
     "output_type": "stream",
     "text": [
      "9267 duplicates\n",
      "11824 unique\n"
     ]
    }
   ],
   "source": [
    "pint = pd.DataFrame(np.sort(reguly,axis=1),columns=['a','b'])\n",
    "\n",
    "duplicated = pint.duplicated()\n",
    "print(np.count_nonzero(duplicated), 'duplicates')\n",
    "\n",
    "pint = pint[~duplicated]\n",
    "print(len(pint), 'unique')"
   ]
  },
  {
   "cell_type": "markdown",
   "metadata": {
    "hidden": true
   },
   "source": [
    "collect gene names and assign indices"
   ]
  },
  {
   "cell_type": "code",
   "execution_count": 7,
   "metadata": {
    "hidden": true
   },
   "outputs": [
    {
     "name": "stdout",
     "output_type": "stream",
     "text": [
      "3287 genes\n"
     ]
    }
   ],
   "source": [
    "gene_names = list(set(pint['a'].append(pint['b']))) #find unique gene names\n",
    "gene_names.sort()\n",
    "n_genes = len(gene_names)\n",
    "print(n_genes,'genes')\n",
    "gene_name_dict = {k : v for k,v in zip(gene_names,range(len(gene_names)))}"
   ]
  },
  {
   "cell_type": "markdown",
   "metadata": {
    "hidden": true
   },
   "source": [
    "Build (sparse) protein-protein interaction matrix `pi_csc`"
   ]
  },
  {
   "cell_type": "code",
   "execution_count": 8,
   "metadata": {
    "hidden": true
   },
   "outputs": [
    {
     "name": "stderr",
     "output_type": "stream",
     "text": [
      "/home/akuczala/miniconda3/lib/python3.7/site-packages/scipy/sparse/_index.py:126: SparseEfficiencyWarning: Changing the sparsity structure of a csc_matrix is expensive. lil_matrix is more efficient.\n",
      "  self._set_arrayXarray(i, j, x)\n"
     ]
    }
   ],
   "source": [
    "#map genes to indices in pint\n",
    "ai = pint.loc[:,'a'].apply(lambda x: gene_name_dict[x])\n",
    "bi = pint.loc[:,'b'].apply(lambda x: gene_name_dict[x])\n",
    "#define upper triangle of protein interaction matrix\n",
    "pi_ut_coo = sparse.coo_matrix((np.ones(len(pint)),(ai,bi)),shape = (n_genes,n_genes))\n",
    "#convert to csc for efficiency and flexibility\n",
    "pi_csc = sparse.csc_matrix(pi_ut_coo,dtype=np.int)\n",
    "#symmetrize csc matrix\n",
    "rows, cols = pi_csc.nonzero()\n",
    "pi_csc[cols, rows] = pi_csc[rows, cols]"
   ]
  },
  {
   "cell_type": "markdown",
   "metadata": {
    "hidden": true
   },
   "source": [
    "According to Paladugu, there are 3289 proteins and 11334 interactions (excluding mitochrondrial genes)"
   ]
  },
  {
   "cell_type": "code",
   "execution_count": 9,
   "metadata": {
    "hidden": true
   },
   "outputs": [
    {
     "name": "stdout",
     "output_type": "stream",
     "text": [
      "3287 genes 11824 interactions\n"
     ]
    }
   ],
   "source": [
    "print(n_genes,\"genes\",len(ai),\"interactions\")"
   ]
  },
  {
   "cell_type": "markdown",
   "metadata": {
    "hidden": true
   },
   "source": [
    "## read gene interaction data"
   ]
  },
  {
   "cell_type": "markdown",
   "metadata": {
    "hidden": true
   },
   "source": [
    "Data from [Costanzo et al 2016](https://www.ncbi.nlm.nih.gov/pmc/articles/PMC5661885/#SD2)"
   ]
  },
  {
   "cell_type": "markdown",
   "metadata": {
    "hidden": true
   },
   "source": [
    "Costanzo et. al quantify genetic interactions with the score $$\\epsilon_{ij} \\equiv f_{ij} - f_i f_j$$\n",
    "\n",
    "- $f_i$:  fitness of gene $i$ mutant\n",
    "- $f_j$:  fitness of gene $j$ mutant\n",
    "- $f_{ij}$: fitness of double mutant\n",
    "\n",
    "\"We note that extreme negative genetic interactions scores, $\\epsilon$ < -0.35, often correspond to double mutants whose colony size is visibly smaller than the colony size of the corresponding single mutants and, thus, we consider most of the interactions below this threshold to be synthetic lethal. \"\n",
    "\n",
    "\"Genetic interactions were considered significant if they had a p-value < 0.05 and an SGA score > 0.16 for positive interactions and SGA score < -0.12 for negative interactions\""
   ]
  },
  {
   "cell_type": "markdown",
   "metadata": {
    "hidden": true
   },
   "source": [
    "### scores and fitness"
   ]
  },
  {
   "cell_type": "markdown",
   "metadata": {
    "hidden": true
   },
   "source": [
    "Examine datafile header"
   ]
  },
  {
   "cell_type": "code",
   "execution_count": 14,
   "metadata": {
    "hidden": true
   },
   "outputs": [
    {
     "data": {
      "text/html": [
       "<div>\n",
       "<style scoped>\n",
       "    .dataframe tbody tr th:only-of-type {\n",
       "        vertical-align: middle;\n",
       "    }\n",
       "\n",
       "    .dataframe tbody tr th {\n",
       "        vertical-align: top;\n",
       "    }\n",
       "\n",
       "    .dataframe thead th {\n",
       "        text-align: right;\n",
       "    }\n",
       "</style>\n",
       "<table border=\"1\" class=\"dataframe\">\n",
       "  <thead>\n",
       "    <tr style=\"text-align: right;\">\n",
       "      <th></th>\n",
       "      <th>Query Strain ID</th>\n",
       "      <th>Query allele name</th>\n",
       "      <th>Array Strain ID</th>\n",
       "      <th>Array allele name</th>\n",
       "      <th>Arraytype/Temp</th>\n",
       "      <th>Genetic interaction score (ε)</th>\n",
       "      <th>P-value</th>\n",
       "      <th>Query single mutant fitness (SMF)</th>\n",
       "      <th>Array SMF</th>\n",
       "      <th>Double mutant fitness</th>\n",
       "      <th>Double mutant fitness standard deviation</th>\n",
       "    </tr>\n",
       "  </thead>\n",
       "  <tbody>\n",
       "    <tr>\n",
       "      <th>0</th>\n",
       "      <td>YAL001C_tsq508</td>\n",
       "      <td>tfc3-g349e</td>\n",
       "      <td>YBL023C_tsa111</td>\n",
       "      <td>mcm2-1</td>\n",
       "      <td>TSA30</td>\n",
       "      <td>-0.0348</td>\n",
       "      <td>0.005042</td>\n",
       "      <td>0.8285</td>\n",
       "      <td>0.9254</td>\n",
       "      <td>0.7319</td>\n",
       "      <td>0.0102</td>\n",
       "    </tr>\n",
       "  </tbody>\n",
       "</table>\n",
       "</div>"
      ],
      "text/plain": [
       "  Query Strain ID Query allele name Array Strain ID Array allele name  \\\n",
       "0  YAL001C_tsq508        tfc3-g349e  YBL023C_tsa111            mcm2-1   \n",
       "\n",
       "  Arraytype/Temp  Genetic interaction score (ε)   P-value  \\\n",
       "0          TSA30                        -0.0348  0.005042   \n",
       "\n",
       "   Query single mutant fitness (SMF)  Array SMF  Double mutant fitness  \\\n",
       "0                             0.8285     0.9254                 0.7319   \n",
       "\n",
       "   Double mutant fitness standard deviation  \n",
       "0                                    0.0102  "
      ]
     },
     "metadata": {},
     "output_type": "display_data"
    },
    {
     "data": {
      "text/plain": [
       "Index(['Query Strain ID', 'Query allele name', 'Array Strain ID',\n",
       "       'Array allele name', 'Arraytype/Temp', 'Genetic interaction score (ε)',\n",
       "       'P-value', 'Query single mutant fitness (SMF)', 'Array SMF',\n",
       "       'Double mutant fitness', 'Double mutant fitness standard deviation'],\n",
       "      dtype='object')"
      ]
     },
     "execution_count": 14,
     "metadata": {},
     "output_type": "execute_result"
    }
   ],
   "source": [
    "header = pd.read_csv('/cjc/data/akuczala/costanzo/SGA_ExE.txt',sep='\\t',nrows=1)\n",
    "display(header)\n",
    "header.columns"
   ]
  },
  {
   "cell_type": "markdown",
   "metadata": {
    "hidden": true
   },
   "source": [
    "Load, clean and filter data"
   ]
  },
  {
   "cell_type": "code",
   "execution_count": 10,
   "metadata": {
    "hidden": true
   },
   "outputs": [],
   "source": [
    "#load gene interaction data and filter by the significance thresholds given by Costanzo et al\n",
    "def load_filter_significant(file,directory = '/cjc/data/akuczala/costanzo/'):\n",
    "    \n",
    "    usecols = ['Query Strain ID', 'Array Strain ID', 'Genetic interaction score (ε)',\n",
    "       'P-value', 'Query single mutant fitness (SMF)', 'Array SMF',\n",
    "       'Double mutant fitness', 'Double mutant fitness standard deviation']\n",
    "\n",
    "    names = {k : v for k,v in zip(usecols,'a,b,score,pvalue,afit,bfit,dfit,dfitstd'.split(','))}\n",
    "    \n",
    "    df =  pd.read_csv(directory + file,sep='\\t',usecols =usecols)\n",
    "    df = df.rename(columns = names)\n",
    "    return df[pvalue_filter]\n",
    "def pvalue_filter(df):\n",
    "    return (df['pvalue']<0.05)\n",
    "def score_filter(df):\n",
    "    return (df['score'] < -0.12) | (df['score'] > 0.16)\n",
    "@np.vectorize\n",
    "def clean_name(name): #remove spurious info from gene names\n",
    "    return name.split('_')[0]"
   ]
  },
  {
   "cell_type": "code",
   "execution_count": 11,
   "metadata": {
    "hidden": true
   },
   "outputs": [
    {
     "data": {
      "text/html": [
       "<div>\n",
       "<style scoped>\n",
       "    .dataframe tbody tr th:only-of-type {\n",
       "        vertical-align: middle;\n",
       "    }\n",
       "\n",
       "    .dataframe tbody tr th {\n",
       "        vertical-align: top;\n",
       "    }\n",
       "\n",
       "    .dataframe thead th {\n",
       "        text-align: right;\n",
       "    }\n",
       "</style>\n",
       "<table border=\"1\" class=\"dataframe\">\n",
       "  <thead>\n",
       "    <tr style=\"text-align: right;\">\n",
       "      <th></th>\n",
       "      <th>index</th>\n",
       "      <th>a</th>\n",
       "      <th>b</th>\n",
       "      <th>score</th>\n",
       "      <th>pvalue</th>\n",
       "      <th>afit</th>\n",
       "      <th>bfit</th>\n",
       "      <th>dfit</th>\n",
       "      <th>dfitstd</th>\n",
       "    </tr>\n",
       "  </thead>\n",
       "  <tbody>\n",
       "    <tr>\n",
       "      <th>0</th>\n",
       "      <td>0</td>\n",
       "      <td>YAL001C</td>\n",
       "      <td>YBL023C</td>\n",
       "      <td>-0.0348</td>\n",
       "      <td>5.042000e-03</td>\n",
       "      <td>0.8285</td>\n",
       "      <td>0.9254</td>\n",
       "      <td>0.7319</td>\n",
       "      <td>0.0102</td>\n",
       "    </tr>\n",
       "    <tr>\n",
       "      <th>1</th>\n",
       "      <td>1</td>\n",
       "      <td>YAL001C</td>\n",
       "      <td>YBL026W</td>\n",
       "      <td>-0.3529</td>\n",
       "      <td>3.591000e-06</td>\n",
       "      <td>0.8285</td>\n",
       "      <td>0.9408</td>\n",
       "      <td>0.4266</td>\n",
       "      <td>0.0790</td>\n",
       "    </tr>\n",
       "    <tr>\n",
       "      <th>2</th>\n",
       "      <td>6</td>\n",
       "      <td>YAL001C</td>\n",
       "      <td>YBL034C</td>\n",
       "      <td>-0.1294</td>\n",
       "      <td>1.931000e-02</td>\n",
       "      <td>0.8285</td>\n",
       "      <td>0.6690</td>\n",
       "      <td>0.4249</td>\n",
       "      <td>0.0482</td>\n",
       "    </tr>\n",
       "    <tr>\n",
       "      <th>3</th>\n",
       "      <td>12</td>\n",
       "      <td>YAL001C</td>\n",
       "      <td>YBL076C</td>\n",
       "      <td>-0.0250</td>\n",
       "      <td>1.301000e-04</td>\n",
       "      <td>0.8285</td>\n",
       "      <td>0.8097</td>\n",
       "      <td>0.6458</td>\n",
       "      <td>0.0054</td>\n",
       "    </tr>\n",
       "    <tr>\n",
       "      <th>4</th>\n",
       "      <td>15</td>\n",
       "      <td>YAL001C</td>\n",
       "      <td>YBL097W</td>\n",
       "      <td>-0.0808</td>\n",
       "      <td>5.582000e-15</td>\n",
       "      <td>0.8285</td>\n",
       "      <td>0.5464</td>\n",
       "      <td>0.3719</td>\n",
       "      <td>0.0077</td>\n",
       "    </tr>\n",
       "    <tr>\n",
       "      <th>...</th>\n",
       "      <td>...</td>\n",
       "      <td>...</td>\n",
       "      <td>...</td>\n",
       "      <td>...</td>\n",
       "      <td>...</td>\n",
       "      <td>...</td>\n",
       "      <td>...</td>\n",
       "      <td>...</td>\n",
       "      <td>...</td>\n",
       "    </tr>\n",
       "    <tr>\n",
       "      <th>2632912</th>\n",
       "      <td>5796117</td>\n",
       "      <td>YPR202W</td>\n",
       "      <td>YPL076W</td>\n",
       "      <td>0.0695</td>\n",
       "      <td>1.863000e-03</td>\n",
       "      <td>1.0095</td>\n",
       "      <td>0.7821</td>\n",
       "      <td>0.8590</td>\n",
       "      <td>0.0205</td>\n",
       "    </tr>\n",
       "    <tr>\n",
       "      <th>2632913</th>\n",
       "      <td>5796123</td>\n",
       "      <td>YPR202W</td>\n",
       "      <td>YPL169C</td>\n",
       "      <td>0.0567</td>\n",
       "      <td>2.518000e-03</td>\n",
       "      <td>1.0095</td>\n",
       "      <td>0.8034</td>\n",
       "      <td>0.8677</td>\n",
       "      <td>0.0172</td>\n",
       "    </tr>\n",
       "    <tr>\n",
       "      <th>2632914</th>\n",
       "      <td>5796124</td>\n",
       "      <td>YPR202W</td>\n",
       "      <td>YPL190C</td>\n",
       "      <td>0.0917</td>\n",
       "      <td>3.598000e-02</td>\n",
       "      <td>1.0095</td>\n",
       "      <td>0.4047</td>\n",
       "      <td>0.5002</td>\n",
       "      <td>0.0444</td>\n",
       "    </tr>\n",
       "    <tr>\n",
       "      <th>2632915</th>\n",
       "      <td>5796139</td>\n",
       "      <td>YPR202W</td>\n",
       "      <td>YPR019W</td>\n",
       "      <td>0.0336</td>\n",
       "      <td>3.863000e-02</td>\n",
       "      <td>1.0095</td>\n",
       "      <td>0.9255</td>\n",
       "      <td>0.9679</td>\n",
       "      <td>0.0144</td>\n",
       "    </tr>\n",
       "    <tr>\n",
       "      <th>2632916</th>\n",
       "      <td>5796143</td>\n",
       "      <td>YPR202W</td>\n",
       "      <td>YPR055W</td>\n",
       "      <td>0.0437</td>\n",
       "      <td>5.593000e-05</td>\n",
       "      <td>1.0095</td>\n",
       "      <td>0.9409</td>\n",
       "      <td>0.9935</td>\n",
       "      <td>0.0092</td>\n",
       "    </tr>\n",
       "  </tbody>\n",
       "</table>\n",
       "<p>2632917 rows × 9 columns</p>\n",
       "</div>"
      ],
      "text/plain": [
       "           index        a        b   score        pvalue    afit    bfit  \\\n",
       "0              0  YAL001C  YBL023C -0.0348  5.042000e-03  0.8285  0.9254   \n",
       "1              1  YAL001C  YBL026W -0.3529  3.591000e-06  0.8285  0.9408   \n",
       "2              6  YAL001C  YBL034C -0.1294  1.931000e-02  0.8285  0.6690   \n",
       "3             12  YAL001C  YBL076C -0.0250  1.301000e-04  0.8285  0.8097   \n",
       "4             15  YAL001C  YBL097W -0.0808  5.582000e-15  0.8285  0.5464   \n",
       "...          ...      ...      ...     ...           ...     ...     ...   \n",
       "2632912  5796117  YPR202W  YPL076W  0.0695  1.863000e-03  1.0095  0.7821   \n",
       "2632913  5796123  YPR202W  YPL169C  0.0567  2.518000e-03  1.0095  0.8034   \n",
       "2632914  5796124  YPR202W  YPL190C  0.0917  3.598000e-02  1.0095  0.4047   \n",
       "2632915  5796139  YPR202W  YPR019W  0.0336  3.863000e-02  1.0095  0.9255   \n",
       "2632916  5796143  YPR202W  YPR055W  0.0437  5.593000e-05  1.0095  0.9409   \n",
       "\n",
       "           dfit  dfitstd  \n",
       "0        0.7319   0.0102  \n",
       "1        0.4266   0.0790  \n",
       "2        0.4249   0.0482  \n",
       "3        0.6458   0.0054  \n",
       "4        0.3719   0.0077  \n",
       "...         ...      ...  \n",
       "2632912  0.8590   0.0205  \n",
       "2632913  0.8677   0.0172  \n",
       "2632914  0.5002   0.0444  \n",
       "2632915  0.9679   0.0144  \n",
       "2632916  0.9935   0.0092  \n",
       "\n",
       "[2632917 rows x 9 columns]"
      ]
     },
     "execution_count": 11,
     "metadata": {},
     "output_type": "execute_result"
    }
   ],
   "source": [
    "costanzo = pd.concat([\n",
    "    load_filter_significant('SGA_ExE.txt'), #essential x essential gene interactions\n",
    "    load_filter_significant('SGA_NxN.txt'), #nonessential x nonessential\n",
    "    load_filter_significant('SGA_ExN_NxE.txt') #essential x nonessential\n",
    "])\n",
    "costanzo[['a','b']] =costanzo[['a','b']].apply(clean_name)\n",
    "costanzo = costanzo.reset_index()\n",
    "\n",
    "costanzo = remove_mitochrondrial(costanzo)\n",
    "costanzo"
   ]
  },
  {
   "cell_type": "markdown",
   "metadata": {
    "hidden": true
   },
   "source": [
    "### sort and average duplicates"
   ]
  },
  {
   "cell_type": "markdown",
   "metadata": {
    "hidden": true
   },
   "source": [
    "Average the scores for all rows with the same gene pair"
   ]
  },
  {
   "cell_type": "code",
   "execution_count": 12,
   "metadata": {
    "hidden": true,
    "scrolled": false
   },
   "outputs": [
    {
     "name": "stdout",
     "output_type": "stream",
     "text": [
      "287416 duplicate interactions\n"
     ]
    },
    {
     "data": {
      "text/html": [
       "<div>\n",
       "<style scoped>\n",
       "    .dataframe tbody tr th:only-of-type {\n",
       "        vertical-align: middle;\n",
       "    }\n",
       "\n",
       "    .dataframe tbody tr th {\n",
       "        vertical-align: top;\n",
       "    }\n",
       "\n",
       "    .dataframe thead th {\n",
       "        text-align: right;\n",
       "    }\n",
       "</style>\n",
       "<table border=\"1\" class=\"dataframe\">\n",
       "  <thead>\n",
       "    <tr style=\"text-align: right;\">\n",
       "      <th></th>\n",
       "      <th>a</th>\n",
       "      <th>b</th>\n",
       "      <th>score</th>\n",
       "      <th>afit</th>\n",
       "      <th>bfit</th>\n",
       "      <th>dfit</th>\n",
       "      <th>dfitstd</th>\n",
       "    </tr>\n",
       "  </thead>\n",
       "  <tbody>\n",
       "    <tr>\n",
       "      <th>0</th>\n",
       "      <td>YAL001C</td>\n",
       "      <td>YBL006C</td>\n",
       "      <td>-0.03800</td>\n",
       "      <td>0.7930</td>\n",
       "      <td>0.8658</td>\n",
       "      <td>0.64860</td>\n",
       "      <td>0.0164</td>\n",
       "    </tr>\n",
       "    <tr>\n",
       "      <th>1</th>\n",
       "      <td>YAL001C</td>\n",
       "      <td>YBL007C</td>\n",
       "      <td>0.02370</td>\n",
       "      <td>0.8285</td>\n",
       "      <td>0.8322</td>\n",
       "      <td>0.71320</td>\n",
       "      <td>0.0074</td>\n",
       "    </tr>\n",
       "    <tr>\n",
       "      <th>2</th>\n",
       "      <td>YAL001C</td>\n",
       "      <td>YBL010C</td>\n",
       "      <td>-0.08180</td>\n",
       "      <td>0.8285</td>\n",
       "      <td>0.9870</td>\n",
       "      <td>0.73600</td>\n",
       "      <td>0.0361</td>\n",
       "    </tr>\n",
       "    <tr>\n",
       "      <th>3</th>\n",
       "      <td>YAL001C</td>\n",
       "      <td>YBL013W</td>\n",
       "      <td>-0.03820</td>\n",
       "      <td>0.8285</td>\n",
       "      <td>0.9740</td>\n",
       "      <td>0.76870</td>\n",
       "      <td>0.0115</td>\n",
       "    </tr>\n",
       "    <tr>\n",
       "      <th>4</th>\n",
       "      <td>YAL001C</td>\n",
       "      <td>YBL023C</td>\n",
       "      <td>-0.03480</td>\n",
       "      <td>0.8285</td>\n",
       "      <td>0.9254</td>\n",
       "      <td>0.73190</td>\n",
       "      <td>0.0102</td>\n",
       "    </tr>\n",
       "    <tr>\n",
       "      <th>...</th>\n",
       "      <td>...</td>\n",
       "      <td>...</td>\n",
       "      <td>...</td>\n",
       "      <td>...</td>\n",
       "      <td>...</td>\n",
       "      <td>...</td>\n",
       "      <td>...</td>\n",
       "    </tr>\n",
       "    <tr>\n",
       "      <th>2345496</th>\n",
       "      <td>YPR074C</td>\n",
       "      <td>YPR197C</td>\n",
       "      <td>-0.04440</td>\n",
       "      <td>0.9105</td>\n",
       "      <td>1.0640</td>\n",
       "      <td>0.92430</td>\n",
       "      <td>0.0162</td>\n",
       "    </tr>\n",
       "    <tr>\n",
       "      <th>2345497</th>\n",
       "      <td>YPR077C</td>\n",
       "      <td>YPR190C</td>\n",
       "      <td>0.12340</td>\n",
       "      <td>0.9047</td>\n",
       "      <td>1.0060</td>\n",
       "      <td>1.03360</td>\n",
       "      <td>0.0362</td>\n",
       "    </tr>\n",
       "    <tr>\n",
       "      <th>2345498</th>\n",
       "      <td>YPR088C</td>\n",
       "      <td>YPR188C</td>\n",
       "      <td>-0.07870</td>\n",
       "      <td>1.0260</td>\n",
       "      <td>0.9359</td>\n",
       "      <td>0.88150</td>\n",
       "      <td>0.0136</td>\n",
       "    </tr>\n",
       "    <tr>\n",
       "      <th>2345499</th>\n",
       "      <td>YPR094W</td>\n",
       "      <td>YPR188C</td>\n",
       "      <td>-0.07780</td>\n",
       "      <td>1.0260</td>\n",
       "      <td>0.8911</td>\n",
       "      <td>0.83650</td>\n",
       "      <td>0.0349</td>\n",
       "    </tr>\n",
       "    <tr>\n",
       "      <th>2345500</th>\n",
       "      <td>YPR102C</td>\n",
       "      <td>YPR161C</td>\n",
       "      <td>-0.18095</td>\n",
       "      <td>0.5065</td>\n",
       "      <td>0.8022</td>\n",
       "      <td>0.22535</td>\n",
       "      <td>0.0335</td>\n",
       "    </tr>\n",
       "  </tbody>\n",
       "</table>\n",
       "<p>2345501 rows × 7 columns</p>\n",
       "</div>"
      ],
      "text/plain": [
       "               a        b    score    afit    bfit     dfit  dfitstd\n",
       "0        YAL001C  YBL006C -0.03800  0.7930  0.8658  0.64860   0.0164\n",
       "1        YAL001C  YBL007C  0.02370  0.8285  0.8322  0.71320   0.0074\n",
       "2        YAL001C  YBL010C -0.08180  0.8285  0.9870  0.73600   0.0361\n",
       "3        YAL001C  YBL013W -0.03820  0.8285  0.9740  0.76870   0.0115\n",
       "4        YAL001C  YBL023C -0.03480  0.8285  0.9254  0.73190   0.0102\n",
       "...          ...      ...      ...     ...     ...      ...      ...\n",
       "2345496  YPR074C  YPR197C -0.04440  0.9105  1.0640  0.92430   0.0162\n",
       "2345497  YPR077C  YPR190C  0.12340  0.9047  1.0060  1.03360   0.0362\n",
       "2345498  YPR088C  YPR188C -0.07870  1.0260  0.9359  0.88150   0.0136\n",
       "2345499  YPR094W  YPR188C -0.07780  1.0260  0.8911  0.83650   0.0349\n",
       "2345500  YPR102C  YPR161C -0.18095  0.5065  0.8022  0.22535   0.0335\n",
       "\n",
       "[2345501 rows x 7 columns]"
      ]
     },
     "execution_count": 12,
     "metadata": {},
     "output_type": "execute_result"
    }
   ],
   "source": [
    "def prop_error(stds):\n",
    "    if len(stds) == 1:\n",
    "        return stds\n",
    "    else:\n",
    "        return np.sqrt(np.dot(stds,stds))\n",
    "\n",
    "#sort to lower triangle\n",
    "costanzo_mean = pd.DataFrame(np.sort(costanzo[['a','b']],axis=1),columns=['a','b'])\n",
    "\n",
    "print(np.count_nonzero(costanzo_mean[['a','b']].duplicated()), 'duplicate interactions')\n",
    "\n",
    "#reappend the rest of the data\n",
    "costanzo_mean = pd.concat([costanzo_mean,costanzo.loc[:,'score':]],axis=1)\n",
    "\n",
    "#average scores and fitness of duplicates\n",
    "costanzo_mean = \\\n",
    "    costanzo_mean \\\n",
    "    .groupby(['a','b']) \\\n",
    "    .agg(\n",
    "    {'score' : 'mean',\n",
    "     'afit' : 'mean', 'bfit' : 'mean',\n",
    "     'dfit' : 'mean', 'dfitstd' : prop_error\n",
    "    }) \\\n",
    "    .reset_index()\n",
    "\n",
    "costanzo_mean"
   ]
  },
  {
   "cell_type": "markdown",
   "metadata": {
    "hidden": true
   },
   "source": [
    "## assign indices to gene interaction network"
   ]
  },
  {
   "cell_type": "markdown",
   "metadata": {
    "hidden": true
   },
   "source": [
    "Build gene interaction dataframe `gint`"
   ]
  },
  {
   "cell_type": "code",
   "execution_count": 13,
   "metadata": {
    "hidden": true
   },
   "outputs": [
    {
     "data": {
      "text/html": [
       "<div>\n",
       "<style scoped>\n",
       "    .dataframe tbody tr th:only-of-type {\n",
       "        vertical-align: middle;\n",
       "    }\n",
       "\n",
       "    .dataframe tbody tr th {\n",
       "        vertical-align: top;\n",
       "    }\n",
       "\n",
       "    .dataframe thead tr th {\n",
       "        text-align: left;\n",
       "    }\n",
       "</style>\n",
       "<table border=\"1\" class=\"dataframe\">\n",
       "  <thead>\n",
       "    <tr>\n",
       "      <th></th>\n",
       "      <th>a</th>\n",
       "      <th>b</th>\n",
       "      <th>a</th>\n",
       "      <th>b</th>\n",
       "      <th>score</th>\n",
       "      <th>a</th>\n",
       "      <th>b</th>\n",
       "      <th>pair</th>\n",
       "    </tr>\n",
       "    <tr>\n",
       "      <th></th>\n",
       "      <th>i</th>\n",
       "      <th>i</th>\n",
       "      <th>name</th>\n",
       "      <th>name</th>\n",
       "      <th></th>\n",
       "      <th>fit</th>\n",
       "      <th>fit</th>\n",
       "      <th>fit</th>\n",
       "    </tr>\n",
       "  </thead>\n",
       "  <tbody>\n",
       "    <tr>\n",
       "      <th>1</th>\n",
       "      <td>0</td>\n",
       "      <td>61</td>\n",
       "      <td>YAL001C</td>\n",
       "      <td>YBL007C</td>\n",
       "      <td>0.02370</td>\n",
       "      <td>0.82850</td>\n",
       "      <td>0.8322</td>\n",
       "      <td>0.71320</td>\n",
       "    </tr>\n",
       "    <tr>\n",
       "      <th>3</th>\n",
       "      <td>0</td>\n",
       "      <td>63</td>\n",
       "      <td>YAL001C</td>\n",
       "      <td>YBL013W</td>\n",
       "      <td>-0.03820</td>\n",
       "      <td>0.82850</td>\n",
       "      <td>0.9740</td>\n",
       "      <td>0.76870</td>\n",
       "    </tr>\n",
       "    <tr>\n",
       "      <th>4</th>\n",
       "      <td>0</td>\n",
       "      <td>73</td>\n",
       "      <td>YAL001C</td>\n",
       "      <td>YBL023C</td>\n",
       "      <td>-0.03480</td>\n",
       "      <td>0.82850</td>\n",
       "      <td>0.9254</td>\n",
       "      <td>0.73190</td>\n",
       "    </tr>\n",
       "    <tr>\n",
       "      <th>5</th>\n",
       "      <td>0</td>\n",
       "      <td>75</td>\n",
       "      <td>YAL001C</td>\n",
       "      <td>YBL026W</td>\n",
       "      <td>-0.35290</td>\n",
       "      <td>0.82850</td>\n",
       "      <td>0.9408</td>\n",
       "      <td>0.42660</td>\n",
       "    </tr>\n",
       "    <tr>\n",
       "      <th>6</th>\n",
       "      <td>0</td>\n",
       "      <td>78</td>\n",
       "      <td>YAL001C</td>\n",
       "      <td>YBL034C</td>\n",
       "      <td>-0.01245</td>\n",
       "      <td>0.87945</td>\n",
       "      <td>0.7674</td>\n",
       "      <td>0.66745</td>\n",
       "    </tr>\n",
       "    <tr>\n",
       "      <th>...</th>\n",
       "      <td>...</td>\n",
       "      <td>...</td>\n",
       "      <td>...</td>\n",
       "      <td>...</td>\n",
       "      <td>...</td>\n",
       "      <td>...</td>\n",
       "      <td>...</td>\n",
       "      <td>...</td>\n",
       "    </tr>\n",
       "    <tr>\n",
       "      <th>2345480</th>\n",
       "      <td>3206</td>\n",
       "      <td>3284</td>\n",
       "      <td>YPR046W</td>\n",
       "      <td>YPR190C</td>\n",
       "      <td>-0.07330</td>\n",
       "      <td>0.90470</td>\n",
       "      <td>1.0240</td>\n",
       "      <td>0.85310</td>\n",
       "    </tr>\n",
       "    <tr>\n",
       "      <th>2345490</th>\n",
       "      <td>3214</td>\n",
       "      <td>3284</td>\n",
       "      <td>YPR068C</td>\n",
       "      <td>YPR190C</td>\n",
       "      <td>-0.06490</td>\n",
       "      <td>0.90470</td>\n",
       "      <td>1.0272</td>\n",
       "      <td>0.86440</td>\n",
       "    </tr>\n",
       "    <tr>\n",
       "      <th>2345498</th>\n",
       "      <td>3223</td>\n",
       "      <td>3282</td>\n",
       "      <td>YPR088C</td>\n",
       "      <td>YPR188C</td>\n",
       "      <td>-0.07870</td>\n",
       "      <td>1.02600</td>\n",
       "      <td>0.9359</td>\n",
       "      <td>0.88150</td>\n",
       "    </tr>\n",
       "    <tr>\n",
       "      <th>2345499</th>\n",
       "      <td>3225</td>\n",
       "      <td>3282</td>\n",
       "      <td>YPR094W</td>\n",
       "      <td>YPR188C</td>\n",
       "      <td>-0.07780</td>\n",
       "      <td>1.02600</td>\n",
       "      <td>0.8911</td>\n",
       "      <td>0.83650</td>\n",
       "    </tr>\n",
       "    <tr>\n",
       "      <th>2345500</th>\n",
       "      <td>3229</td>\n",
       "      <td>3259</td>\n",
       "      <td>YPR102C</td>\n",
       "      <td>YPR161C</td>\n",
       "      <td>-0.18095</td>\n",
       "      <td>0.50650</td>\n",
       "      <td>0.8022</td>\n",
       "      <td>0.22535</td>\n",
       "    </tr>\n",
       "  </tbody>\n",
       "</table>\n",
       "<p>842503 rows × 8 columns</p>\n",
       "</div>"
      ],
      "text/plain": [
       "            a     b        a        b    score        a       b     pair\n",
       "            i     i     name     name               fit     fit      fit\n",
       "1           0    61  YAL001C  YBL007C  0.02370  0.82850  0.8322  0.71320\n",
       "3           0    63  YAL001C  YBL013W -0.03820  0.82850  0.9740  0.76870\n",
       "4           0    73  YAL001C  YBL023C -0.03480  0.82850  0.9254  0.73190\n",
       "5           0    75  YAL001C  YBL026W -0.35290  0.82850  0.9408  0.42660\n",
       "6           0    78  YAL001C  YBL034C -0.01245  0.87945  0.7674  0.66745\n",
       "...       ...   ...      ...      ...      ...      ...     ...      ...\n",
       "2345480  3206  3284  YPR046W  YPR190C -0.07330  0.90470  1.0240  0.85310\n",
       "2345490  3214  3284  YPR068C  YPR190C -0.06490  0.90470  1.0272  0.86440\n",
       "2345498  3223  3282  YPR088C  YPR188C -0.07870  1.02600  0.9359  0.88150\n",
       "2345499  3225  3282  YPR094W  YPR188C -0.07780  1.02600  0.8911  0.83650\n",
       "2345500  3229  3259  YPR102C  YPR161C -0.18095  0.50650  0.8022  0.22535\n",
       "\n",
       "[842503 rows x 8 columns]"
      ]
     },
     "metadata": {},
     "output_type": "display_data"
    }
   ],
   "source": [
    "def index_filter(name):\n",
    "    try:\n",
    "        return gene_name_dict[name]\n",
    "    except:\n",
    "        return -1\n",
    "\n",
    "gint = costanzo_mean[['a','b']].applymap(index_filter)\n",
    "gint.columns = [gint.columns,['i','i']]\n",
    "\n",
    "gint['a','name'] = costanzo_mean['a']\n",
    "gint['b','name'] = costanzo_mean['b']\n",
    "\n",
    "gint['score'] = costanzo_mean['score']\n",
    "\n",
    "gint['a','fit'] = costanzo_mean['afit']\n",
    "gint['b','fit'] = costanzo_mean['bfit']\n",
    "gint['pair','fit'] = costanzo_mean['dfit']\n",
    "\n",
    "#filter out genes not in protein network\n",
    "gint = gint[np.logical_and(gint.a.i > -1,gint.b.i > -1) ]\n",
    "assert np.all(gint['a','i'] < gint['b','i'])\n",
    "display(gint)\n",
    "\n",
    "gi_coo = sparse.coo_matrix((gint['score'],(gint.a.i,gint.b.i)),shape = [n_genes,n_genes])\n",
    "gi_csc = sparse.csc_matrix(gi_coo)\n",
    "\n",
    "assert gi_csc.shape == pi_csc.shape, \\\n",
    "    'gene and protein matrices have different shapes' + str(gi_csc.shape)+ ' ' + str(pi_csc.shape)\n",
    "assert np.count_nonzero(np.diag(gi_csc.toarray()))==0, 'There should be no gene self-interaction'\n"
   ]
  },
  {
   "cell_type": "markdown",
   "metadata": {
    "heading_collapsed": true,
    "hidden": true
   },
   "source": [
    "### visualization"
   ]
  },
  {
   "cell_type": "code",
   "execution_count": 31,
   "metadata": {
    "hidden": true
   },
   "outputs": [
    {
     "data": {
      "text/plain": [
       "<matplotlib.colorbar.Colorbar at 0x7fd51c44ee90>"
      ]
     },
     "execution_count": 31,
     "metadata": {},
     "output_type": "execute_result"
    },
    {
     "data": {
      "image/png": "[encoded data removed]",
      "text/plain": [
       "<Figure size 360x360 with 2 Axes>"
      ]
     },
     "metadata": {
      "needs_background": "light"
     },
     "output_type": "display_data"
    }
   ],
   "source": [
    "def bwr_plot(arr,**kwargs):\n",
    "    vmax = np.max(np.abs(arr))\n",
    "    plt.imshow(arr,vmax=vmax,vmin=-vmax,cmap='bwr')\n",
    "plt.figure(figsize=(5,5))\n",
    "bwr_plot(gi_csc.toarray());plt.colorbar()"
   ]
  },
  {
   "cell_type": "code",
   "execution_count": 39,
   "metadata": {
    "hidden": true
   },
   "outputs": [
    {
     "data": {
      "image/png": "[encoded data removed]",
      "text/plain": [
       "<Figure size 1080x360 with 2 Axes>"
      ]
     },
     "metadata": {
      "needs_background": "light"
     },
     "output_type": "display_data"
    }
   ],
   "source": [
    "fig, axes = plt.subplots(1,2,figsize=(15,5))\n",
    "for ax, col in zip(axes.ravel(),['score',('pair','fit')]):\n",
    "    ax.hist(gint[col],bins = int(np.sqrt(len(gint[col]))));\n",
    "    ax.set_xlabel(col)\n",
    "plt.tight_layout()\n",
    "plt.show()"
   ]
  },
  {
   "cell_type": "markdown",
   "metadata": {
    "heading_collapsed": true
   },
   "source": [
    "# compute/load PI network metrics"
   ]
  },
  {
   "cell_type": "code",
   "execution_count": 14,
   "metadata": {
    "hidden": true
   },
   "outputs": [],
   "source": [
    "import networkx as nx\n",
    "pi_graph = nx.from_scipy_sparse_matrix(pi_csc,create_using=nx.Graph)\n",
    "\n",
    "def in_same_community(i,j,communities):\n",
    "    return np.any([set([i,j]).issubset(comm) for comm in communities]).astype(np.int)\n",
    "\n",
    "def calc_inv_dist_mat(shortest_mat):\n",
    "    inv_dist_mat = 1./shortest_mat\n",
    "    inv_dist_mat[shortest_mat == 0] = 0\n",
    "    return inv_dist_mat"
   ]
  },
  {
   "cell_type": "markdown",
   "metadata": {
    "heading_collapsed": true,
    "hidden": true
   },
   "source": [
    "## Compute single protein metrics"
   ]
  },
  {
   "cell_type": "markdown",
   "metadata": {
    "hidden": true
   },
   "source": [
    "### Closeness"
   ]
  },
  {
   "cell_type": "code",
   "execution_count": 80,
   "metadata": {
    "hidden": true
   },
   "outputs": [
    {
     "name": "stdout",
     "output_type": "stream",
     "text": [
      "CPU times: user 1min 39s, sys: 0 ns, total: 1min 39s\n",
      "Wall time: 1min 39s\n"
     ]
    }
   ],
   "source": [
    "%%time\n",
    "closeness = dict_to_np(nx.closeness_centrality(pi_graph))"
   ]
  },
  {
   "cell_type": "markdown",
   "metadata": {
    "hidden": true
   },
   "source": [
    "### Degree"
   ]
  },
  {
   "cell_type": "code",
   "execution_count": 81,
   "metadata": {
    "hidden": true
   },
   "outputs": [
    {
     "name": "stdout",
     "output_type": "stream",
     "text": [
      "CPU times: user 0 ns, sys: 0 ns, total: 0 ns\n",
      "Wall time: 486 µs\n"
     ]
    }
   ],
   "source": [
    "%%time\n",
    "degree = np.array(pi_csc.sum(axis=1)).ravel()"
   ]
  },
  {
   "cell_type": "markdown",
   "metadata": {
    "hidden": true
   },
   "source": [
    "### Eigenvector centrality"
   ]
  },
  {
   "cell_type": "code",
   "execution_count": 82,
   "metadata": {
    "hidden": true
   },
   "outputs": [
    {
     "name": "stdout",
     "output_type": "stream",
     "text": [
      "88 are zero\n",
      "CPU times: user 64 ms, sys: 0 ns, total: 64 ms\n",
      "Wall time: 9.16 ms\n"
     ]
    }
   ],
   "source": [
    "%%time\n",
    "eigs, vecs = slin.eigsh(pi_csc.astype(np.float),k=1)\n",
    "pfeig, pfvec = eigs[0], vecs[:,0]\n",
    "#clean up pfvec\n",
    "pfvec[np.isclose(pfvec,0)] = 0\n",
    "\n",
    "#make entries positive\n",
    "pfvec = pfvec/np.sign(pfvec.sum())\n",
    "assert(not np.any(pfvec < 0)) #assert non-negativity of pfvec\n",
    "\n",
    "print(np.count_nonzero(np.isclose(pfvec,0)),'are zero')\n",
    "\n",
    "pfvec_normed = pfvec/np.sum(pfvec)\n",
    "min_log = np.min(np.log10(pfvec_normed[pfvec>0]))\n",
    "log_pfvec = np.log10(np.maximum(10**(min_log-1),pfvec_normed))"
   ]
  },
  {
   "cell_type": "markdown",
   "metadata": {
    "hidden": true
   },
   "source": [
    "### Betweenness centrality"
   ]
  },
  {
   "cell_type": "code",
   "execution_count": 83,
   "metadata": {
    "hidden": true
   },
   "outputs": [],
   "source": [
    "betweenness = dict_to_np(nx.betweenness_centrality(pi_graph))"
   ]
  },
  {
   "cell_type": "markdown",
   "metadata": {
    "heading_collapsed": true,
    "hidden": true
   },
   "source": [
    "## Compute protein pair metrics"
   ]
  },
  {
   "cell_type": "markdown",
   "metadata": {
    "heading_collapsed": true,
    "hidden": true
   },
   "source": [
    "### Community identity"
   ]
  },
  {
   "cell_type": "code",
   "execution_count": 84,
   "metadata": {
    "hidden": true
   },
   "outputs": [
    {
     "name": "stdout",
     "output_type": "stream",
     "text": [
      "CPU times: user 7.84 s, sys: 4 ms, total: 7.84 s\n",
      "Wall time: 7.84 s\n"
     ]
    }
   ],
   "source": [
    "%%time\n",
    "communities = nx.community.greedy_modularity_communities(pi_graph)"
   ]
  },
  {
   "cell_type": "markdown",
   "metadata": {
    "hidden": true
   },
   "source": [
    "### Shortest paths"
   ]
  },
  {
   "cell_type": "markdown",
   "metadata": {
    "hidden": true
   },
   "source": [
    "Find the shortest path between each protein pair"
   ]
  },
  {
   "cell_type": "code",
   "execution_count": 86,
   "metadata": {
    "hidden": true
   },
   "outputs": [
    {
     "name": "stdout",
     "output_type": "stream",
     "text": [
      "CPU times: user 1min 50s, sys: 84 ms, total: 1min 50s\n",
      "Wall time: 1min 50s\n"
     ]
    }
   ],
   "source": [
    "%%time\n",
    "shortest_iter = nx.shortest_path_length(pi_graph)\n",
    "shortest_mat_lt = np.full([n_genes,n_genes],0)\n",
    "for source, targets in shortest_iter:\n",
    "    for target, dist in targets.items():\n",
    "        if target < source:\n",
    "            shortest_mat_lt[source,target] = dist\n",
    "shortest_mat = shortest_mat_lt + shortest_mat_lt.T #symmetrize\n",
    "shortest_mat = sparse.csc_matrix(shortest_mat)\n",
    "\n",
    "inv_dist_mat = 1./shortest_mat\n",
    "inv_dist_mat[shortest_mat == 0] = 0 #For the diagonals"
   ]
  },
  {
   "cell_type": "markdown",
   "metadata": {
    "hidden": true
   },
   "source": [
    "### Number of common neighbors"
   ]
  },
  {
   "cell_type": "code",
   "execution_count": 94,
   "metadata": {
    "hidden": true
   },
   "outputs": [
    {
     "name": "stdout",
     "output_type": "stream",
     "text": [
      "CPU times: user 1min 16s, sys: 716 ms, total: 1min 17s\n",
      "Wall time: 1min 17s\n"
     ]
    }
   ],
   "source": [
    "%%time\n",
    "def n_neighbors(pi_graph,i,j):\n",
    "    return len(list(nx.common_neighbors(pi_graph,i,j)))\n",
    "neighbor_pairs, ilist, jlist = list(zip(*[\n",
    "    (n_neighbors(pi_graph,i,j),i,j)\n",
    "    for i,j in itertools.product(range(n_genes),range(n_genes))\n",
    "    if i < j]))\n",
    "#create symmetric matrix\n",
    "neighbor_mat_csc = sparse.csc_matrix(sparse.coo_matrix(\n",
    "        (neighbor_pairs + neighbor_pairs,(ilist + jlist,jlist + ilist))\n",
    "))"
   ]
  },
  {
   "cell_type": "markdown",
   "metadata": {
    "heading_collapsed": true,
    "hidden": true
   },
   "source": [
    "## save network metrics"
   ]
  },
  {
   "cell_type": "code",
   "execution_count": 100,
   "metadata": {
    "hidden": true
   },
   "outputs": [
    {
     "name": "stdout",
     "output_type": "stream",
     "text": [
      "saved\n"
     ]
    }
   ],
   "source": [
    "cache_dir = 'cached/yeast/032920/dontoverwrite'\n",
    "filenames = 'closeness,degree,logeigcent,between,communities,shortest,sharedneighbors'.split(',')\n",
    "network_data = [closeness,degree,log_pfvec,betweenness,communities,shortest_mat.astype(np.uint8),neighbor_mat_csc]\n",
    "try:\n",
    "    for name, arr in zip(filenames,network_data):\n",
    "        if name == 'sharedneighbors':\n",
    "            sparse.save_npz(cache_dir + name + '.npz',arr)\n",
    "        else:\n",
    "            np.save(cache_dir + name + '.npy',arr)\n",
    "    print('saved')\n",
    "except:\n",
    "    raise"
   ]
  },
  {
   "cell_type": "markdown",
   "metadata": {
    "heading_collapsed": true,
    "hidden": true
   },
   "source": [
    "## load network metrics"
   ]
  },
  {
   "cell_type": "code",
   "execution_count": 15,
   "metadata": {
    "hidden": true
   },
   "outputs": [
    {
     "name": "stdout",
     "output_type": "stream",
     "text": [
      "loaded\n"
     ]
    }
   ],
   "source": [
    "cache_dir = 'cached/yeast/032920/'\n",
    "filenames = 'closeness,degree,logeigcent,between,communities,shortest,sharedneighbors'.split(',')\n",
    "try:\n",
    "    network_data = [sparse.load_npz(cache_dir + name + '.npz') if name == 'sharedneighbors'\n",
    "    else np.load(cache_dir + name + '.npy',allow_pickle=True)\n",
    "    for name in filenames]\n",
    "    print('loaded')\n",
    "    closeness,degree,log_pfvec,betweenness,communities,shortest_mat,neighbor_mat_csc = network_data\n",
    "except:\n",
    "    raise"
   ]
  },
  {
   "cell_type": "markdown",
   "metadata": {
    "hidden": true
   },
   "source": [
    "## Network visualizations"
   ]
  },
  {
   "cell_type": "markdown",
   "metadata": {
    "heading_collapsed": true,
    "hidden": true
   },
   "source": [
    "### Single vertex"
   ]
  },
  {
   "cell_type": "code",
   "execution_count": null,
   "metadata": {
    "hidden": true
   },
   "outputs": [],
   "source": [
    "fig, axes = plt.subplots(1,4)\n",
    "for ax, prop, name in zip(axes,[closen])\n",
    "\n",
    "#plt.hist(np.log10(pfvec_normed[pfvec>0]),bins=int(np.sqrt(n_genes)));\n",
    "plt.hist(log_pfvec,bins=int(np.sqrt(n_genes)));\n",
    "plt.axvline(np.log10(1/n_genes),c='black')\n",
    "plt.title('nonzero pfvec_normed_i')\n",
    "plt.xlabel('log pfvec_normed_i')\n",
    "plt.show()"
   ]
  },
  {
   "cell_type": "code",
   "execution_count": 75,
   "metadata": {
    "hidden": true
   },
   "outputs": [
    {
     "data": {
      "text/plain": [
       "SpectralBiclustering(init='k-means++', method='bistochastic', mini_batch=False,\n",
       "                     n_best=3, n_clusters=20, n_components=6, n_init=10,\n",
       "                     n_jobs=None, n_svd_vecs=None, random_state=None,\n",
       "                     svd_method='randomized')"
      ]
     },
     "execution_count": 75,
     "metadata": {},
     "output_type": "execute_result"
    }
   ],
   "source": [
    "import sklearn.cluster as cluster\n",
    "spectral_model = cluster.SpectralBiclustering(n_clusters=20)\n",
    "spectral_model.fit(pi_csc)"
   ]
  },
  {
   "cell_type": "code",
   "execution_count": 76,
   "metadata": {
    "hidden": true
   },
   "outputs": [
    {
     "name": "stdout",
     "output_type": "stream",
     "text": [
      "524\n",
      "524\n"
     ]
    },
    {
     "data": {
      "image/png": "[encoded data removed]",
      "text/plain": [
       "<Figure size 1080x504 with 2 Axes>"
      ]
     },
     "metadata": {
      "needs_background": "light"
     },
     "output_type": "display_data"
    }
   ],
   "source": [
    "pi_fit = pi_csc[np.argsort(spectral_model.row_labels_)]\n",
    "pi_fit = pi_fit[:, np.argsort(spectral_model.row_labels_)]\n",
    "print(np.count_nonzero(np.diag(pi_csc.toarray())))\n",
    "print(np.count_nonzero(np.diag(pi_fit.toarray())))\n",
    "fig, axes = plt.subplots(1,2,figsize=(15,7))\n",
    "for ax, mat in zip(axes,[pi_csc,pi_fit]):\n",
    "    ax.matshow(mat.toarray(), cmap='binary')"
   ]
  },
  {
   "cell_type": "code",
   "execution_count": null,
   "metadata": {
    "hidden": true
   },
   "outputs": [],
   "source": [
    "plt.imshow(shortest_mat); plt.colorbar(); plt.show()\n",
    "\n",
    "plt.imshow(inv_dist_mat); plt.colorbar(); plt.show()"
   ]
  },
  {
   "cell_type": "code",
   "execution_count": null,
   "metadata": {
    "hidden": true
   },
   "outputs": [],
   "source": [
    "plt.imshow(neighbor_mat_csc.toarray()[:50,:50],cmap='gray_r'); plt.colorbar()"
   ]
  },
  {
   "cell_type": "markdown",
   "metadata": {},
   "source": [
    "# make samples, labels"
   ]
  },
  {
   "cell_type": "markdown",
   "metadata": {},
   "source": [
    "Paladugu excludes proteins localized to mitochondria"
   ]
  },
  {
   "cell_type": "code",
   "execution_count": 16,
   "metadata": {},
   "outputs": [
    {
     "data": {
      "image/png": "[encoded data removed]",
      "text/plain": [
       "<Figure size 432x288 with 1 Axes>"
      ]
     },
     "metadata": {
      "needs_background": "light"
     },
     "output_type": "display_data"
    },
    {
     "name": "stdout",
     "output_type": "stream",
     "text": [
      "left of threshold: 10432\n",
      "right of threshhold: 832068\n"
     ]
    }
   ],
   "source": [
    "class_sign = -1\n",
    "label_thresh = -0.35 #lethal threshold chosen by costanzo\n",
    "plt.hist(gint['score'],bins = int(np.sqrt(len(gint))));\n",
    "plt.axvline(label_thresh,c='black')\n",
    "plt.xlabel('score'); plt.show()\n",
    "print(\"left of threshold:\", np.count_nonzero(gint['score']<label_thresh))\n",
    "print(\"right of threshhold:\", np.count_nonzero(gint['score']>label_thresh))\n"
   ]
  },
  {
   "cell_type": "markdown",
   "metadata": {},
   "source": [
    "Generate samples: both features and labels"
   ]
  },
  {
   "cell_type": "code",
   "execution_count": 17,
   "metadata": {},
   "outputs": [
    {
     "name": "stderr",
     "output_type": "stream",
     "text": [
      "/home/akuczala/miniconda3/lib/python3.7/site-packages/ipykernel_launcher.py:8: RuntimeWarning: divide by zero encountered in true_divide\n",
      "  \n"
     ]
    }
   ],
   "source": [
    "maxmin = True\n",
    "pair_names = ['max','min'] if maxmin else ['a','b']\n",
    "\n",
    "vertex_features = 'deg,eigcent,closeness,betweenness'.split(',')\n",
    "vertex_data = [degree,log_pfvec,closeness,betweenness]\n",
    "\n",
    "pair_features = 'invdist,shareneigh,samecomm'.split(',')\n",
    "inv_dist_mat = calc_inv_dist_mat(shortest_mat)\n",
    "pair_funs = [\n",
    "    lambda i,j: inv_dist_mat[i,j],\n",
    "    lambda i,j: neighbor_mat_csc[i,j],\n",
    "    lambda i,j: in_same_community(i,j,communities)\n",
    "]\n",
    "features = list(itertools.product(pair_names,vertex_features)) + list(itertools.product(['pair'],pair_features))\n",
    "samples = gint.copy()\n",
    "\n",
    "samples['label'] = samples['score']*class_sign>label_thresh*class_sign\n",
    "\n",
    "#map vertex features to samples\n",
    "for vfeat, vdat in zip(vertex_features,vertex_data):\n",
    "    a_samples, b_samples = vdat[samples.a.i], vdat[samples.b.i]\n",
    "    if maxmin:\n",
    "        samples['max',vfeat] = np.maximum(a_samples,b_samples)\n",
    "        samples['min',vfeat] = np.minimum(a_samples,b_samples)\n",
    "    else:\n",
    "        samples['a',vfeat] = a_samples\n",
    "        samples['b',vfeat] = b_samples\n",
    "\n",
    "#map vertex pair features\n",
    "for pfeat, pfun in zip(pair_features,pair_funs):\n",
    "    samples['pair',pfeat] = np.vectorize(pfun)(samples.a.i,samples.b.i)\n"
   ]
  },
  {
   "cell_type": "markdown",
   "metadata": {},
   "source": [
    "## Scale features"
   ]
  },
  {
   "cell_type": "code",
   "execution_count": 67,
   "metadata": {},
   "outputs": [],
   "source": [
    "for feature, scaled in zip(features,sklearn.preprocessing.scale(samples[features]).T):\n",
    "    samples[feature[0],feature[1]] = scaled"
   ]
  },
  {
   "cell_type": "markdown",
   "metadata": {},
   "source": [
    "## Feature variance"
   ]
  },
  {
   "cell_type": "code",
   "execution_count": 58,
   "metadata": {},
   "outputs": [
    {
     "data": {
      "image/png": "[encoded data removed]",
      "text/plain": [
       "<Figure size 1080x360 with 2 Axes>"
      ]
     },
     "metadata": {
      "needs_background": "light"
     },
     "output_type": "display_data"
    }
   ],
   "source": [
    "from sklearn.decomposition import PCA\n",
    "pca = PCA()\n",
    "pca.fit()\n",
    "\n",
    "fig, axes = plt.subplots(1,2,figsize=(15,5))\n",
    "axes[0].bar(np.arange(len(features)),pca.explained_variance_ratio_);\n",
    "axes[0].set_xlabel('PCA component'); axes[0].set_ylabel('Explained variance ratio')\n",
    "axes[0].set_title('Explained variance ratio')\n",
    "pd.Series(pca.components_[0],index=list(map(' '.join,features))).plot.bar(ax=axes[1])\n",
    "axes[1].set_title('PC 0')\n",
    "plt.show()"
   ]
  },
  {
   "cell_type": "markdown",
   "metadata": {},
   "source": [
    "## Take sample subset"
   ]
  },
  {
   "cell_type": "code",
   "execution_count": 18,
   "metadata": {},
   "outputs": [],
   "source": [
    "def sample_balanced(samples,frac):\n",
    "    smallest = min(len(samples[samples.label == 0]),len(samples[samples.label == 1]))\n",
    "    samples0 = samples[samples.label == 0].sample(n=int(smallest*frac))\n",
    "    samples1 = samples[samples.label == 1].sample(n=int(smallest*frac))\n",
    "    return samples0.append(samples1,verify_integrity = True).sample(frac=1)\n",
    "def sample_between(samples,score_low,score_high, **kwargs):\n",
    "    return samples[(samples['score'] > score_low) & (samples['score'] < score_high)].sample(**kwargs)\n",
    "def sample_outside(samples,score_low,score_high, **kwargs):\n",
    "    return samples[(samples['score'] < score_low) | (samples['score'] > score_high)].sample(**kwargs)"
   ]
  },
  {
   "cell_type": "code",
   "execution_count": 101,
   "metadata": {},
   "outputs": [
    {
     "data": {
      "text/html": [
       "<div>\n",
       "<style scoped>\n",
       "    .dataframe tbody tr th:only-of-type {\n",
       "        vertical-align: middle;\n",
       "    }\n",
       "\n",
       "    .dataframe tbody tr th {\n",
       "        vertical-align: top;\n",
       "    }\n",
       "\n",
       "    .dataframe thead tr th {\n",
       "        text-align: left;\n",
       "    }\n",
       "</style>\n",
       "<table border=\"1\" class=\"dataframe\">\n",
       "  <thead>\n",
       "    <tr>\n",
       "      <th></th>\n",
       "      <th>a</th>\n",
       "      <th>b</th>\n",
       "      <th>a</th>\n",
       "      <th>b</th>\n",
       "      <th>score</th>\n",
       "      <th>a</th>\n",
       "      <th>b</th>\n",
       "      <th>pair</th>\n",
       "      <th>label</th>\n",
       "      <th>max</th>\n",
       "      <th>min</th>\n",
       "      <th>max</th>\n",
       "      <th>min</th>\n",
       "      <th>max</th>\n",
       "      <th>min</th>\n",
       "      <th>max</th>\n",
       "      <th>min</th>\n",
       "      <th colspan=\"3\" halign=\"left\">pair</th>\n",
       "    </tr>\n",
       "    <tr>\n",
       "      <th></th>\n",
       "      <th>i</th>\n",
       "      <th>i</th>\n",
       "      <th>name</th>\n",
       "      <th>name</th>\n",
       "      <th></th>\n",
       "      <th>fit</th>\n",
       "      <th>fit</th>\n",
       "      <th>fit</th>\n",
       "      <th></th>\n",
       "      <th>deg</th>\n",
       "      <th>deg</th>\n",
       "      <th>eigcent</th>\n",
       "      <th>eigcent</th>\n",
       "      <th>closeness</th>\n",
       "      <th>closeness</th>\n",
       "      <th>betweenness</th>\n",
       "      <th>betweenness</th>\n",
       "      <th>invdist</th>\n",
       "      <th>shareneigh</th>\n",
       "      <th>samecomm</th>\n",
       "    </tr>\n",
       "  </thead>\n",
       "  <tbody>\n",
       "    <tr>\n",
       "      <th>2187125</th>\n",
       "      <td>2356</td>\n",
       "      <td>2597</td>\n",
       "      <td>YMR047C</td>\n",
       "      <td>YNL154C</td>\n",
       "      <td>-0.0589</td>\n",
       "      <td>NaN</td>\n",
       "      <td>1.0042</td>\n",
       "      <td>0.9453</td>\n",
       "      <td>False</td>\n",
       "      <td>3.741976</td>\n",
       "      <td>-0.382476</td>\n",
       "      <td>1.524047</td>\n",
       "      <td>-0.097092</td>\n",
       "      <td>1.518922</td>\n",
       "      <td>-0.201661</td>\n",
       "      <td>1.893225</td>\n",
       "      <td>-0.197820</td>\n",
       "      <td>-0.028747</td>\n",
       "      <td>-0.145846</td>\n",
       "      <td>-0.403486</td>\n",
       "    </tr>\n",
       "    <tr>\n",
       "      <th>183772</th>\n",
       "      <td>134</td>\n",
       "      <td>744</td>\n",
       "      <td>YBR030W</td>\n",
       "      <td>YDR440W</td>\n",
       "      <td>-0.0682</td>\n",
       "      <td>0.9832</td>\n",
       "      <td>0.9413</td>\n",
       "      <td>0.8573</td>\n",
       "      <td>False</td>\n",
       "      <td>-0.414655</td>\n",
       "      <td>-0.642743</td>\n",
       "      <td>0.098020</td>\n",
       "      <td>0.686483</td>\n",
       "      <td>0.474373</td>\n",
       "      <td>0.748219</td>\n",
       "      <td>-0.223808</td>\n",
       "      <td>-0.309711</td>\n",
       "      <td>0.753748</td>\n",
       "      <td>-0.145846</td>\n",
       "      <td>-0.403486</td>\n",
       "    </tr>\n",
       "    <tr>\n",
       "      <th>764540</th>\n",
       "      <td>564</td>\n",
       "      <td>2602</td>\n",
       "      <td>YDR118W</td>\n",
       "      <td>YNL172W</td>\n",
       "      <td>-0.5395</td>\n",
       "      <td>NaN</td>\n",
       "      <td>1.0518</td>\n",
       "      <td>0.5123</td>\n",
       "      <td>True</td>\n",
       "      <td>0.022885</td>\n",
       "      <td>2.220194</td>\n",
       "      <td>-0.410949</td>\n",
       "      <td>0.622843</td>\n",
       "      <td>-1.383720</td>\n",
       "      <td>0.171788</td>\n",
       "      <td>-0.249042</td>\n",
       "      <td>-0.309515</td>\n",
       "      <td>7.013700</td>\n",
       "      <td>16.470648</td>\n",
       "      <td>2.478398</td>\n",
       "    </tr>\n",
       "    <tr>\n",
       "      <th>481290</th>\n",
       "      <td>343</td>\n",
       "      <td>2987</td>\n",
       "      <td>YCR065W</td>\n",
       "      <td>YOR298C-A</td>\n",
       "      <td>0.0347</td>\n",
       "      <td>0.9990</td>\n",
       "      <td>0.9760</td>\n",
       "      <td>1.0098</td>\n",
       "      <td>False</td>\n",
       "      <td>-0.524040</td>\n",
       "      <td>-0.122209</td>\n",
       "      <td>0.684339</td>\n",
       "      <td>0.960412</td>\n",
       "      <td>1.345952</td>\n",
       "      <td>0.704852</td>\n",
       "      <td>-0.173688</td>\n",
       "      <td>-0.229263</td>\n",
       "      <td>0.753748</td>\n",
       "      <td>-0.145846</td>\n",
       "      <td>-0.403486</td>\n",
       "    </tr>\n",
       "    <tr>\n",
       "      <th>1842964</th>\n",
       "      <td>1720</td>\n",
       "      <td>3014</td>\n",
       "      <td>YJR053W</td>\n",
       "      <td>YOR353C</td>\n",
       "      <td>-0.4428</td>\n",
       "      <td>NaN</td>\n",
       "      <td>0.9440</td>\n",
       "      <td>0.5012</td>\n",
       "      <td>True</td>\n",
       "      <td>-0.359962</td>\n",
       "      <td>-0.382476</td>\n",
       "      <td>-0.594217</td>\n",
       "      <td>-0.146089</td>\n",
       "      <td>-0.717475</td>\n",
       "      <td>-0.161868</td>\n",
       "      <td>-0.240819</td>\n",
       "      <td>-0.189676</td>\n",
       "      <td>-0.028747</td>\n",
       "      <td>-0.145846</td>\n",
       "      <td>2.478398</td>\n",
       "    </tr>\n",
       "    <tr>\n",
       "      <th>...</th>\n",
       "      <td>...</td>\n",
       "      <td>...</td>\n",
       "      <td>...</td>\n",
       "      <td>...</td>\n",
       "      <td>...</td>\n",
       "      <td>...</td>\n",
       "      <td>...</td>\n",
       "      <td>...</td>\n",
       "      <td>...</td>\n",
       "      <td>...</td>\n",
       "      <td>...</td>\n",
       "      <td>...</td>\n",
       "      <td>...</td>\n",
       "      <td>...</td>\n",
       "      <td>...</td>\n",
       "      <td>...</td>\n",
       "      <td>...</td>\n",
       "      <td>...</td>\n",
       "      <td>...</td>\n",
       "      <td>...</td>\n",
       "    </tr>\n",
       "    <tr>\n",
       "      <th>945759</th>\n",
       "      <td>711</td>\n",
       "      <td>1959</td>\n",
       "      <td>YDR381W</td>\n",
       "      <td>YKR095W</td>\n",
       "      <td>-0.7225</td>\n",
       "      <td>NaN</td>\n",
       "      <td>1.0100</td>\n",
       "      <td>0.2875</td>\n",
       "      <td>True</td>\n",
       "      <td>2.429356</td>\n",
       "      <td>1.179126</td>\n",
       "      <td>1.198232</td>\n",
       "      <td>1.092305</td>\n",
       "      <td>1.656373</td>\n",
       "      <td>1.121992</td>\n",
       "      <td>1.757627</td>\n",
       "      <td>0.617285</td>\n",
       "      <td>7.013700</td>\n",
       "      <td>4.839102</td>\n",
       "      <td>2.478398</td>\n",
       "    </tr>\n",
       "    <tr>\n",
       "      <th>2110135</th>\n",
       "      <td>2172</td>\n",
       "      <td>2861</td>\n",
       "      <td>YLR323C</td>\n",
       "      <td>YOR075W</td>\n",
       "      <td>-0.0488</td>\n",
       "      <td>0.6949</td>\n",
       "      <td>0.9378</td>\n",
       "      <td>0.6029</td>\n",
       "      <td>False</td>\n",
       "      <td>-0.086500</td>\n",
       "      <td>-0.122209</td>\n",
       "      <td>0.416485</td>\n",
       "      <td>0.756111</td>\n",
       "      <td>0.508088</td>\n",
       "      <td>0.596926</td>\n",
       "      <td>0.180466</td>\n",
       "      <td>-0.309711</td>\n",
       "      <td>0.753748</td>\n",
       "      <td>-0.145846</td>\n",
       "      <td>-0.403486</td>\n",
       "    </tr>\n",
       "    <tr>\n",
       "      <th>19722</th>\n",
       "      <td>18</td>\n",
       "      <td>1584</td>\n",
       "      <td>YAL024C</td>\n",
       "      <td>YJL008C</td>\n",
       "      <td>-0.4875</td>\n",
       "      <td>NaN</td>\n",
       "      <td>0.9460</td>\n",
       "      <td>0.4585</td>\n",
       "      <td>True</td>\n",
       "      <td>-0.250577</td>\n",
       "      <td>-0.382476</td>\n",
       "      <td>0.502077</td>\n",
       "      <td>1.049108</td>\n",
       "      <td>1.075606</td>\n",
       "      <td>0.955053</td>\n",
       "      <td>-0.125922</td>\n",
       "      <td>-0.309711</td>\n",
       "      <td>-0.028747</td>\n",
       "      <td>-0.145846</td>\n",
       "      <td>-0.403486</td>\n",
       "    </tr>\n",
       "    <tr>\n",
       "      <th>1645175</th>\n",
       "      <td>1460</td>\n",
       "      <td>2159</td>\n",
       "      <td>YHR200W</td>\n",
       "      <td>YLR305C</td>\n",
       "      <td>-0.3731</td>\n",
       "      <td>0.8355</td>\n",
       "      <td>0.9343</td>\n",
       "      <td>0.4075</td>\n",
       "      <td>True</td>\n",
       "      <td>0.460425</td>\n",
       "      <td>0.138058</td>\n",
       "      <td>0.748143</td>\n",
       "      <td>0.070384</td>\n",
       "      <td>0.353519</td>\n",
       "      <td>0.178184</td>\n",
       "      <td>-0.160023</td>\n",
       "      <td>0.873485</td>\n",
       "      <td>-0.498243</td>\n",
       "      <td>-0.145846</td>\n",
       "      <td>-0.403486</td>\n",
       "    </tr>\n",
       "    <tr>\n",
       "      <th>266612</th>\n",
       "      <td>197</td>\n",
       "      <td>2416</td>\n",
       "      <td>YBR130C</td>\n",
       "      <td>YMR152W</td>\n",
       "      <td>0.0575</td>\n",
       "      <td>1.0035</td>\n",
       "      <td>0.9928</td>\n",
       "      <td>1.0538</td>\n",
       "      <td>False</td>\n",
       "      <td>-0.305270</td>\n",
       "      <td>-0.642743</td>\n",
       "      <td>0.437602</td>\n",
       "      <td>-0.480912</td>\n",
       "      <td>0.987202</td>\n",
       "      <td>-0.375623</td>\n",
       "      <td>-0.180070</td>\n",
       "      <td>-0.309711</td>\n",
       "      <td>-0.028747</td>\n",
       "      <td>-0.145846</td>\n",
       "      <td>-0.403486</td>\n",
       "    </tr>\n",
       "  </tbody>\n",
       "</table>\n",
       "<p>20864 rows × 20 columns</p>\n",
       "</div>"
      ],
      "text/plain": [
       "            a     b        a          b   score       a       b    pair  \\\n",
       "            i     i     name       name             fit     fit     fit   \n",
       "2187125  2356  2597  YMR047C    YNL154C -0.0589     NaN  1.0042  0.9453   \n",
       "183772    134   744  YBR030W    YDR440W -0.0682  0.9832  0.9413  0.8573   \n",
       "764540    564  2602  YDR118W    YNL172W -0.5395     NaN  1.0518  0.5123   \n",
       "481290    343  2987  YCR065W  YOR298C-A  0.0347  0.9990  0.9760  1.0098   \n",
       "1842964  1720  3014  YJR053W    YOR353C -0.4428     NaN  0.9440  0.5012   \n",
       "...       ...   ...      ...        ...     ...     ...     ...     ...   \n",
       "945759    711  1959  YDR381W    YKR095W -0.7225     NaN  1.0100  0.2875   \n",
       "2110135  2172  2861  YLR323C    YOR075W -0.0488  0.6949  0.9378  0.6029   \n",
       "19722      18  1584  YAL024C    YJL008C -0.4875     NaN  0.9460  0.4585   \n",
       "1645175  1460  2159  YHR200W    YLR305C -0.3731  0.8355  0.9343  0.4075   \n",
       "266612    197  2416  YBR130C    YMR152W  0.0575  1.0035  0.9928  1.0538   \n",
       "\n",
       "         label       max       min       max       min       max       min  \\\n",
       "                     deg       deg   eigcent   eigcent closeness closeness   \n",
       "2187125  False  3.741976 -0.382476  1.524047 -0.097092  1.518922 -0.201661   \n",
       "183772   False -0.414655 -0.642743  0.098020  0.686483  0.474373  0.748219   \n",
       "764540    True  0.022885  2.220194 -0.410949  0.622843 -1.383720  0.171788   \n",
       "481290   False -0.524040 -0.122209  0.684339  0.960412  1.345952  0.704852   \n",
       "1842964   True -0.359962 -0.382476 -0.594217 -0.146089 -0.717475 -0.161868   \n",
       "...        ...       ...       ...       ...       ...       ...       ...   \n",
       "945759    True  2.429356  1.179126  1.198232  1.092305  1.656373  1.121992   \n",
       "2110135  False -0.086500 -0.122209  0.416485  0.756111  0.508088  0.596926   \n",
       "19722     True -0.250577 -0.382476  0.502077  1.049108  1.075606  0.955053   \n",
       "1645175   True  0.460425  0.138058  0.748143  0.070384  0.353519  0.178184   \n",
       "266612   False -0.305270 -0.642743  0.437602 -0.480912  0.987202 -0.375623   \n",
       "\n",
       "                max         min      pair                       \n",
       "        betweenness betweenness   invdist shareneigh  samecomm  \n",
       "2187125    1.893225   -0.197820 -0.028747  -0.145846 -0.403486  \n",
       "183772    -0.223808   -0.309711  0.753748  -0.145846 -0.403486  \n",
       "764540    -0.249042   -0.309515  7.013700  16.470648  2.478398  \n",
       "481290    -0.173688   -0.229263  0.753748  -0.145846 -0.403486  \n",
       "1842964   -0.240819   -0.189676 -0.028747  -0.145846  2.478398  \n",
       "...             ...         ...       ...        ...       ...  \n",
       "945759     1.757627    0.617285  7.013700   4.839102  2.478398  \n",
       "2110135    0.180466   -0.309711  0.753748  -0.145846 -0.403486  \n",
       "19722     -0.125922   -0.309711 -0.028747  -0.145846 -0.403486  \n",
       "1645175   -0.160023    0.873485 -0.498243  -0.145846 -0.403486  \n",
       "266612    -0.180070   -0.309711 -0.028747  -0.145846 -0.403486  \n",
       "\n",
       "[20864 rows x 20 columns]"
      ]
     },
     "metadata": {},
     "output_type": "display_data"
    },
    {
     "name": "stdout",
     "output_type": "stream",
     "text": [
      "number of small samples: 20864\n",
      "number of samples: 842503\n"
     ]
    }
   ],
   "source": [
    "small_samples = sample_balanced(samples,1)\n",
    "#small_samples = samples.sample(frac=0.5)\n",
    "#small_samples = sample_between(samples,-0.3,0.3,frac=0.01)\n",
    "#small_samples = sample_balanced(sample_outside(samples,-0.3,0.3,frac=1),1)\n",
    "#divide into training, testing\n",
    "frac_test = 0.2\n",
    "n_test = int(len(small_samples)*frac_test)\n",
    "n_train = len(small_samples) - n_test\n",
    "\n",
    "small_training = small_samples.iloc[:n_train]\n",
    "small_testing = small_samples.iloc[n_train:]\n",
    "display(small_samples)\n",
    "print('number of small samples:',len(small_samples))\n",
    "print('number of samples:',len(samples))"
   ]
  },
  {
   "cell_type": "markdown",
   "metadata": {},
   "source": [
    "# fit data"
   ]
  },
  {
   "cell_type": "markdown",
   "metadata": {},
   "source": [
    "## define helper functions"
   ]
  },
  {
   "cell_type": "code",
   "execution_count": 95,
   "metadata": {},
   "outputs": [],
   "source": [
    "import sklearn.metrics as metrics\n",
    "from sklearn.inspection import permutation_importance\n",
    "\n",
    "def train(model,train_samples,features,labels='label'):\n",
    "    model.fit(train_samples[features],train_samples[labels])\n",
    "\n",
    "def predict(model,test_samples,features):\n",
    "    return model.predict(test_samples[features])\n",
    "\n",
    "def cross_validate(model,samples,features,labels='label',cv=5,scoring = None):\n",
    "    if scoring is None:\n",
    "        scoring = ['accuracy_score']\n",
    "    scores = sklearn.model_selection.cross_validate(\n",
    "        model, samples[features], samples[labels],\n",
    "        cv=cv,scoring = scoring)\n",
    "    for score_name in scoring:\n",
    "        print(score_name + \": %0.2f (+/- %0.2f)\" % (\n",
    "            scores['test_' + score_name].mean(), scores['test_' + score_name].std() * 2))\n",
    "    return scores\n",
    "\n",
    "def calc_matt_coef(model,test_samples,features,labels='label'):\n",
    "    return metrics.matthews_corrcoef(test_samples[labels],model.predict(test_samples[features]))\n",
    "\n",
    "def plot_pr_curve(model,test_samples,features,labels='label',ax = None):\n",
    "    if ax is None:\n",
    "        ax = plt.gca()\n",
    "    metrics.plot_precision_recall_curve(model,test_samples[features],test_samples[labels],ax = ax)\n",
    "    \n",
    "def plot_roc_curve(model,test_samples,features,labels='label',ax=None):\n",
    "    if ax is None:\n",
    "        ax = plt.gca()\n",
    "    metrics.plot_roc_curve(model,test_samples[features],test_samples[labels],ax =ax)\n",
    "    ax.plot([0,1],[0,1],c='gray',linestyle='--')\n",
    "    ax.set_aspect(1)\n",
    "    \n",
    "def plot_confusion_matrix(model,samples,features,labels='label',ax=None):\n",
    "    if ax is None:\n",
    "        ax = plt.gca()\n",
    "    return metrics.plot_confusion_matrix(model,samples[features],samples[labels],\n",
    "                                         normalize = 'all',ax = ax,cmap='Blues')"
   ]
  },
  {
   "cell_type": "code",
   "execution_count": 22,
   "metadata": {},
   "outputs": [],
   "source": [
    "def calc_importance(model,samples,features,labels='label',n_repeats=10,n_jobs=8):\n",
    "    importance_dict = permutation_importance(\n",
    "        model,samples[features],samples[labels])\n",
    "    return importance_dict\n",
    "\n",
    "def plot_importances_ab(features,importances,axes = None):\n",
    "    if axes is None:\n",
    "        fig, axes = plt.subplots(1,2,figsize=(18,6))\n",
    "    \n",
    "    #convert importance matrix to dataframe\n",
    "    imdf = pd.DataFrame(importances['importances'].T,\n",
    "                        columns = pd.MultiIndex.from_tuples(features))\n",
    "    #combine features from a, b or max, min\n",
    "    imdf_ab = imdf.stack(level=0)\n",
    "    \n",
    "    #compute importance statistics\n",
    "    imdf_stats = \\\n",
    "         imdf \\\n",
    "        .agg([np.mean,np.std]) \\\n",
    "        .transpose() \\\n",
    "        .sort_values('mean',axis=0,ascending=False)\n",
    "    #display(imdf_stats)\n",
    "\n",
    "    #errorbar plot of feature importance\n",
    "    imdf_stats.plot(y='mean',ax=axes[0])\n",
    "    axes[0].errorbar(np.arange(len(imdf_stats)),imdf_stats['mean'],\n",
    "                 yerr=imdf_stats['std'],linestyle='',capsize=10,marker='o')\n",
    "    axes[0].set_ylabel('importance')\n",
    "    \n",
    "    #box plot of feature importance\n",
    "    imdf_ab.reindex(imdf_ab.mean().sort_values(ascending=False).index, axis=1).boxplot(ax=axes[1])\n",
    "    \n",
    "def plot_importances(features,importances,pair_names,ax = None,sort = False):\n",
    "    if pair_names == ['a','b']:\n",
    "        plot_importances_ab(features,importances,axes=ax)\n",
    "        return\n",
    "    \n",
    "    #convert importance matrix to dataframe\n",
    "    imdf = pd.DataFrame(importances['importances'].T,\n",
    "                        columns = pd.MultiIndex.from_tuples(features))\n",
    "    index = imdf.mean().sort_values(ascending=False).index if sort else imdf.columns\n",
    "    #box plot of feature importance\n",
    "    imdf.reindex(index, axis=1).boxplot(ax=ax)\n",
    "    ticklabels = [t[0]+'\\n' + t[1][:min(len(t[1]),4)] for t in index]\n",
    "    ax.set_xticklabels(ticklabels)\n",
    "    #compare max, min of each vertex feature\n",
    "#     for name,color in zip(pair_names,['r','b']):\n",
    "#         imdf[name].boxplot(ax=axes[1],color=color)\n",
    "\n",
    "#compute partial dependence on the two features with the highest mean importance\n",
    "def plot_top_dependences(model,samples,features,importances,ax = None):\n",
    "    #format feature names into strings\n",
    "    feature_names = np.array(list(map(' '.join,features)))\n",
    "    major_features = tuple(feature_names[np.argsort(importances['importances_mean'])[::-1]][:2])\n",
    "    sklearn.inspection.plot_partial_dependence(\n",
    "    model,samples[features],[major_features],\n",
    "        feature_names = feature_names, ax = ax, contour_kw = dict(cmap = 'Blues'))"
   ]
  },
  {
   "cell_type": "markdown",
   "metadata": {},
   "source": [
    "## Benchmarking functions"
   ]
  },
  {
   "cell_type": "code",
   "execution_count": 98,
   "metadata": {},
   "outputs": [],
   "source": [
    "def benchmark(model,samples,train_samples,test_samples,features,labels='label',scoring=None):\n",
    "    print('Cross validation')\n",
    "    cross_validate(model,samples,features,labels,scoring = scoring)\n",
    "    print('Training')\n",
    "    train(model,train_samples,features,labels)\n",
    "    print('Testing')\n",
    "    test_results = predict(model,test_samples,features)\n",
    "    print('Calculating importances')\n",
    "    importances = calc_importance(model,test_samples,features,labels)\n",
    "    \n",
    "    return dict(\n",
    "        model=model, test_samples=test_samples, features = features,\n",
    "        test_results=test_results, importances=importances)\n",
    "    \n",
    "def benchmark_plots(model,test_samples,test_results,importances,features,labels='label',axes = None):\n",
    "    #plot performance metrics\n",
    "    if axes is None:\n",
    "        fig, axes = plt.subplots(2,2,figsize=(15,15))\n",
    "        axes = axes.ravel()\n",
    "    plot_confusion_matrix(model,test_samples,features,labels,ax = axes[0])\n",
    "    plot_roc_curve(model,test_samples,features,labels,ax = axes[1])\n",
    "    plot_pr_curve(model,test_samples,features,labels,ax = axes[2])\n",
    "    \n",
    "    plot_importances(features,importances,pair_names,ax =axes[3])\n",
    "    plot_top_dependences(model,test_samples,features,importances,ax = axes[4])\n",
    "    "
   ]
  },
  {
   "cell_type": "markdown",
   "metadata": {},
   "source": [
    "## Binary classification"
   ]
  },
  {
   "cell_type": "code",
   "execution_count": 103,
   "metadata": {},
   "outputs": [],
   "source": [
    "from sklearn.linear_model import LogisticRegression\n",
    "from sklearn.ensemble import RandomForestClassifier\n",
    "from sklearn.neural_network import MLPClassifier\n",
    "from sklearn.svm import SVC"
   ]
  },
  {
   "cell_type": "code",
   "execution_count": 113,
   "metadata": {
    "scrolled": false
   },
   "outputs": [
    {
     "data": {
      "text/markdown": [
       "Benchmarking Logistic"
      ]
     },
     "metadata": {},
     "output_type": "display_data"
    },
    {
     "name": "stdout",
     "output_type": "stream",
     "text": [
      "Cross validation\n",
      "balanced_accuracy: 0.50 (+/- 0.00)\n",
      "f1_weighted: 0.98 (+/- 0.00)\n",
      "Training\n",
      "Testing\n",
      "Calculating importances\n",
      "time: 138 s\n"
     ]
    },
    {
     "data": {
      "text/markdown": [
       "Benchmarking Random Forest"
      ]
     },
     "metadata": {},
     "output_type": "display_data"
    },
    {
     "name": "stdout",
     "output_type": "stream",
     "text": [
      "Cross validation\n",
      "balanced_accuracy: 0.50 (+/- 0.00)\n",
      "f1_weighted: 0.98 (+/- 0.00)\n",
      "Training\n",
      "Testing\n",
      "Calculating importances\n",
      "time: 238 s\n"
     ]
    }
   ],
   "source": [
    "model_names = ['Logistic','Random Forest','MLP']\n",
    "models = [\n",
    "    #LogisticRegression(max_iter=500,n_jobs=8),\n",
    "    #RandomForestClassifier(n_jobs=8),\n",
    "    MLPClassifier(hidden_layer_sizes=(20,20),max_iter=500),\n",
    "    MLPClassifier(hidden_layer_sizes=(20,20,20),max_iter=500)]\n",
    "\n",
    "results = []\n",
    "for model, model_name in zip(models,model_names):\n",
    "    display_markdown(Markdown('Benchmarking ' + model_name))\n",
    "    t0 = time.time()\n",
    "    result = benchmark(model,samples,small_training,small_testing,features,\n",
    "                       scoring = ['balanced_accuracy','f1_weighted'])\n",
    "    results.append(result)\n",
    "    print('time:',int(time.time()-t0),'s')\n",
    "plt.show()"
   ]
  },
  {
   "cell_type": "code",
   "execution_count": 114,
   "metadata": {},
   "outputs": [
    {
     "data": {
      "image/png": "[encoded data removed]",
      "text/plain": [
       "<Figure size 1080x2160 with 19 Axes>"
      ]
     },
     "metadata": {
      "needs_background": "light"
     },
     "output_type": "display_data"
    }
   ],
   "source": [
    "fig, axes = plt.subplots(5,3,figsize = (15,30))\n",
    "\n",
    "for model, model_name, result, plot_axes in list(zip(models,model_names,results,axes.T)):\n",
    "\n",
    "    benchmark_plots(axes = plot_axes,**result)\n",
    "plt.show()"
   ]
  },
  {
   "cell_type": "markdown",
   "metadata": {
    "heading_collapsed": true
   },
   "source": [
    "## Regression models"
   ]
  },
  {
   "cell_type": "code",
   "execution_count": 25,
   "metadata": {
    "hidden": true
   },
   "outputs": [],
   "source": [
    "from sklearn.linear_model import LinearRegression\n",
    "from sklearn.ensemble import RandomForestRegressor\n",
    "\n",
    "#from sklearn.svm import SVR #too slow"
   ]
  },
  {
   "cell_type": "code",
   "execution_count": 35,
   "metadata": {
    "hidden": true,
    "scrolled": false
   },
   "outputs": [
    {
     "data": {
      "text/markdown": [
       "Benchmarking Linear"
      ]
     },
     "metadata": {},
     "output_type": "display_data"
    },
    {
     "name": "stdout",
     "output_type": "stream",
     "text": [
      "Cross validation\n",
      "Accuracy: 0.00 (+/- 0.00)\n",
      "Training\n",
      "Testing\n",
      "Calculating importances\n",
      "0\n"
     ]
    },
    {
     "data": {
      "text/markdown": [
       "Benchmarking Random Forest"
      ]
     },
     "metadata": {},
     "output_type": "display_data"
    },
    {
     "name": "stdout",
     "output_type": "stream",
     "text": [
      "Cross validation\n",
      "Accuracy: 0.00 (+/- 0.00)\n",
      "Training\n",
      "Testing\n",
      "Calculating importances\n",
      "18\n"
     ]
    }
   ],
   "source": [
    "models = [LinearRegression(n_jobs = 8),RandomForestRegressor(n_jobs=8)]\n",
    "model_names = ['Linear','Random Forest']\n",
    "results = []\n",
    "for model, model_name in list(zip(models,model_names)):\n",
    "    display_markdown(Markdown('Benchmarking ' + model_name))\n",
    "    t0 = time.time()\n",
    "    result = benchmark(model,samples,small_training,small_testing,[features],labels='score')\n",
    "    results.append(result)\n",
    "    print(int(time.time()-t0))\n",
    "    #benchmark_plots(axes = plot_axes,**result)"
   ]
  },
  {
   "cell_type": "code",
   "execution_count": 27,
   "metadata": {
    "hidden": true,
    "scrolled": false
   },
   "outputs": [
    {
     "ename": "AttributeError",
     "evalue": "'numpy.ndarray' object has no attribute 'boxplot'",
     "output_type": "error",
     "traceback": [
      "\u001b[0;31m---------------------------------------------------------------------------\u001b[0m",
      "\u001b[0;31mAttributeError\u001b[0m                            Traceback (most recent call last)",
      "\u001b[0;32m<ipython-input-27-c77fff0cf3d3>\u001b[0m in \u001b[0;36m<module>\u001b[0;34m\u001b[0m\n\u001b[1;32m      1\u001b[0m \u001b[0mfig\u001b[0m\u001b[0;34m,\u001b[0m \u001b[0maxes\u001b[0m \u001b[0;34m=\u001b[0m \u001b[0mplt\u001b[0m\u001b[0;34m.\u001b[0m\u001b[0msubplots\u001b[0m\u001b[0;34m(\u001b[0m\u001b[0;36m2\u001b[0m\u001b[0;34m,\u001b[0m\u001b[0;36m2\u001b[0m\u001b[0;34m,\u001b[0m\u001b[0mfigsize\u001b[0m \u001b[0;34m=\u001b[0m \u001b[0;34m(\u001b[0m\u001b[0;36m15\u001b[0m\u001b[0;34m,\u001b[0m\u001b[0;36m10\u001b[0m\u001b[0;34m)\u001b[0m\u001b[0;34m)\u001b[0m\u001b[0;34m\u001b[0m\u001b[0;34m\u001b[0m\u001b[0m\n\u001b[1;32m      2\u001b[0m \u001b[0;32mfor\u001b[0m \u001b[0mmodel\u001b[0m\u001b[0;34m,\u001b[0m \u001b[0mresult\u001b[0m\u001b[0;34m,\u001b[0m \u001b[0mplot_axes\u001b[0m \u001b[0;32min\u001b[0m \u001b[0mzip\u001b[0m\u001b[0;34m(\u001b[0m\u001b[0mmodels\u001b[0m\u001b[0;34m,\u001b[0m\u001b[0mresults\u001b[0m\u001b[0;34m,\u001b[0m\u001b[0maxes\u001b[0m\u001b[0;34m.\u001b[0m\u001b[0mT\u001b[0m\u001b[0;34m)\u001b[0m\u001b[0;34m:\u001b[0m\u001b[0;34m\u001b[0m\u001b[0;34m\u001b[0m\u001b[0m\n\u001b[0;32m----> 3\u001b[0;31m     \u001b[0mplot_importances\u001b[0m\u001b[0;34m(\u001b[0m\u001b[0mfeatures\u001b[0m\u001b[0;34m,\u001b[0m\u001b[0mresult\u001b[0m\u001b[0;34m[\u001b[0m\u001b[0;34m'importances'\u001b[0m\u001b[0;34m]\u001b[0m\u001b[0;34m,\u001b[0m\u001b[0mpair_names\u001b[0m\u001b[0;34m,\u001b[0m\u001b[0max\u001b[0m \u001b[0;34m=\u001b[0m\u001b[0maxes\u001b[0m\u001b[0;34m[\u001b[0m\u001b[0;36m0\u001b[0m\u001b[0;34m]\u001b[0m\u001b[0;34m)\u001b[0m\u001b[0;34m\u001b[0m\u001b[0;34m\u001b[0m\u001b[0m\n\u001b[0m\u001b[1;32m      4\u001b[0m     \u001b[0mplot_top_dependences\u001b[0m\u001b[0;34m(\u001b[0m\u001b[0mmodel\u001b[0m\u001b[0;34m,\u001b[0m\u001b[0mresult\u001b[0m\u001b[0;34m[\u001b[0m\u001b[0;34m'test_samples'\u001b[0m\u001b[0;34m]\u001b[0m\u001b[0;34m,\u001b[0m\u001b[0mfeatures\u001b[0m\u001b[0;34m,\u001b[0m\u001b[0mresult\u001b[0m\u001b[0;34m[\u001b[0m\u001b[0;34m'importances'\u001b[0m\u001b[0;34m]\u001b[0m\u001b[0;34m,\u001b[0m\u001b[0max\u001b[0m \u001b[0;34m=\u001b[0m \u001b[0maxes\u001b[0m\u001b[0;34m[\u001b[0m\u001b[0;36m1\u001b[0m\u001b[0;34m]\u001b[0m\u001b[0;34m)\u001b[0m\u001b[0;34m\u001b[0m\u001b[0;34m\u001b[0m\u001b[0m\n\u001b[1;32m      5\u001b[0m \u001b[0mplt\u001b[0m\u001b[0;34m.\u001b[0m\u001b[0mshow\u001b[0m\u001b[0;34m(\u001b[0m\u001b[0;34m)\u001b[0m\u001b[0;34m\u001b[0m\u001b[0;34m\u001b[0m\u001b[0m\n",
      "\u001b[0;32m<ipython-input-22-f69346e051c8>\u001b[0m in \u001b[0;36mplot_importances\u001b[0;34m(features, importances, pair_names, ax, sort)\u001b[0m\n\u001b[1;32m     41\u001b[0m     \u001b[0mindex\u001b[0m \u001b[0;34m=\u001b[0m \u001b[0mimdf\u001b[0m\u001b[0;34m.\u001b[0m\u001b[0mmean\u001b[0m\u001b[0;34m(\u001b[0m\u001b[0;34m)\u001b[0m\u001b[0;34m.\u001b[0m\u001b[0msort_values\u001b[0m\u001b[0;34m(\u001b[0m\u001b[0mascending\u001b[0m\u001b[0;34m=\u001b[0m\u001b[0;32mFalse\u001b[0m\u001b[0;34m)\u001b[0m\u001b[0;34m.\u001b[0m\u001b[0mindex\u001b[0m \u001b[0;32mif\u001b[0m \u001b[0msort\u001b[0m \u001b[0;32melse\u001b[0m \u001b[0mimdf\u001b[0m\u001b[0;34m.\u001b[0m\u001b[0mcolumns\u001b[0m\u001b[0;34m\u001b[0m\u001b[0;34m\u001b[0m\u001b[0m\n\u001b[1;32m     42\u001b[0m     \u001b[0;31m#box plot of feature importance\u001b[0m\u001b[0;34m\u001b[0m\u001b[0;34m\u001b[0m\u001b[0;34m\u001b[0m\u001b[0m\n\u001b[0;32m---> 43\u001b[0;31m     \u001b[0mimdf\u001b[0m\u001b[0;34m.\u001b[0m\u001b[0mreindex\u001b[0m\u001b[0;34m(\u001b[0m\u001b[0mindex\u001b[0m\u001b[0;34m,\u001b[0m \u001b[0maxis\u001b[0m\u001b[0;34m=\u001b[0m\u001b[0;36m1\u001b[0m\u001b[0;34m)\u001b[0m\u001b[0;34m.\u001b[0m\u001b[0mboxplot\u001b[0m\u001b[0;34m(\u001b[0m\u001b[0max\u001b[0m\u001b[0;34m=\u001b[0m\u001b[0max\u001b[0m\u001b[0;34m)\u001b[0m\u001b[0;34m\u001b[0m\u001b[0;34m\u001b[0m\u001b[0m\n\u001b[0m\u001b[1;32m     44\u001b[0m     \u001b[0mticklabels\u001b[0m \u001b[0;34m=\u001b[0m \u001b[0;34m[\u001b[0m\u001b[0mt\u001b[0m\u001b[0;34m[\u001b[0m\u001b[0;36m0\u001b[0m\u001b[0;34m]\u001b[0m\u001b[0;34m+\u001b[0m\u001b[0;34m'\\n'\u001b[0m \u001b[0;34m+\u001b[0m \u001b[0mt\u001b[0m\u001b[0;34m[\u001b[0m\u001b[0;36m1\u001b[0m\u001b[0;34m]\u001b[0m\u001b[0;34m[\u001b[0m\u001b[0;34m:\u001b[0m\u001b[0mmin\u001b[0m\u001b[0;34m(\u001b[0m\u001b[0mlen\u001b[0m\u001b[0;34m(\u001b[0m\u001b[0mt\u001b[0m\u001b[0;34m[\u001b[0m\u001b[0;36m1\u001b[0m\u001b[0;34m]\u001b[0m\u001b[0;34m)\u001b[0m\u001b[0;34m,\u001b[0m\u001b[0;36m4\u001b[0m\u001b[0;34m)\u001b[0m\u001b[0;34m]\u001b[0m \u001b[0;32mfor\u001b[0m \u001b[0mt\u001b[0m \u001b[0;32min\u001b[0m \u001b[0mindex\u001b[0m\u001b[0;34m]\u001b[0m\u001b[0;34m\u001b[0m\u001b[0;34m\u001b[0m\u001b[0m\n\u001b[1;32m     45\u001b[0m     \u001b[0max\u001b[0m\u001b[0;34m.\u001b[0m\u001b[0mset_xticklabels\u001b[0m\u001b[0;34m(\u001b[0m\u001b[0mticklabels\u001b[0m\u001b[0;34m)\u001b[0m\u001b[0;34m\u001b[0m\u001b[0;34m\u001b[0m\u001b[0m\n",
      "\u001b[0;32m~/miniconda3/lib/python3.7/site-packages/pandas/plotting/_core.py\u001b[0m in \u001b[0;36mboxplot_frame\u001b[0;34m(self, column, by, ax, fontsize, rot, grid, figsize, layout, return_type, backend, **kwargs)\u001b[0m\n\u001b[1;32m    445\u001b[0m         \u001b[0mlayout\u001b[0m\u001b[0;34m=\u001b[0m\u001b[0mlayout\u001b[0m\u001b[0;34m,\u001b[0m\u001b[0;34m\u001b[0m\u001b[0;34m\u001b[0m\u001b[0m\n\u001b[1;32m    446\u001b[0m         \u001b[0mreturn_type\u001b[0m\u001b[0;34m=\u001b[0m\u001b[0mreturn_type\u001b[0m\u001b[0;34m,\u001b[0m\u001b[0;34m\u001b[0m\u001b[0;34m\u001b[0m\u001b[0m\n\u001b[0;32m--> 447\u001b[0;31m         \u001b[0;34m**\u001b[0m\u001b[0mkwargs\u001b[0m\u001b[0;34m,\u001b[0m\u001b[0;34m\u001b[0m\u001b[0;34m\u001b[0m\u001b[0m\n\u001b[0m\u001b[1;32m    448\u001b[0m     )\n\u001b[1;32m    449\u001b[0m \u001b[0;34m\u001b[0m\u001b[0m\n",
      "\u001b[0;32m~/miniconda3/lib/python3.7/site-packages/pandas/plotting/_matplotlib/boxplot.py\u001b[0m in \u001b[0;36mboxplot_frame\u001b[0;34m(self, column, by, ax, fontsize, rot, grid, figsize, layout, return_type, **kwds)\u001b[0m\n\u001b[1;32m    373\u001b[0m         \u001b[0mlayout\u001b[0m\u001b[0;34m=\u001b[0m\u001b[0mlayout\u001b[0m\u001b[0;34m,\u001b[0m\u001b[0;34m\u001b[0m\u001b[0;34m\u001b[0m\u001b[0m\n\u001b[1;32m    374\u001b[0m         \u001b[0mreturn_type\u001b[0m\u001b[0;34m=\u001b[0m\u001b[0mreturn_type\u001b[0m\u001b[0;34m,\u001b[0m\u001b[0;34m\u001b[0m\u001b[0;34m\u001b[0m\u001b[0m\n\u001b[0;32m--> 375\u001b[0;31m         \u001b[0;34m**\u001b[0m\u001b[0mkwds\u001b[0m\u001b[0;34m,\u001b[0m\u001b[0;34m\u001b[0m\u001b[0;34m\u001b[0m\u001b[0m\n\u001b[0m\u001b[1;32m    376\u001b[0m     )\n\u001b[1;32m    377\u001b[0m     \u001b[0mplt\u001b[0m\u001b[0;34m.\u001b[0m\u001b[0mdraw_if_interactive\u001b[0m\u001b[0;34m(\u001b[0m\u001b[0;34m)\u001b[0m\u001b[0;34m\u001b[0m\u001b[0;34m\u001b[0m\u001b[0m\n",
      "\u001b[0;32m~/miniconda3/lib/python3.7/site-packages/pandas/plotting/_matplotlib/boxplot.py\u001b[0m in \u001b[0;36mboxplot\u001b[0;34m(data, column, by, ax, fontsize, rot, grid, figsize, layout, return_type, **kwds)\u001b[0m\n\u001b[1;32m    341\u001b[0m             \u001b[0mdata\u001b[0m \u001b[0;34m=\u001b[0m \u001b[0mdata\u001b[0m\u001b[0;34m[\u001b[0m\u001b[0mcolumns\u001b[0m\u001b[0;34m]\u001b[0m\u001b[0;34m\u001b[0m\u001b[0;34m\u001b[0m\u001b[0m\n\u001b[1;32m    342\u001b[0m \u001b[0;34m\u001b[0m\u001b[0m\n\u001b[0;32m--> 343\u001b[0;31m         \u001b[0mresult\u001b[0m \u001b[0;34m=\u001b[0m \u001b[0mplot_group\u001b[0m\u001b[0;34m(\u001b[0m\u001b[0mcolumns\u001b[0m\u001b[0;34m,\u001b[0m \u001b[0mdata\u001b[0m\u001b[0;34m.\u001b[0m\u001b[0mvalues\u001b[0m\u001b[0;34m.\u001b[0m\u001b[0mT\u001b[0m\u001b[0;34m,\u001b[0m \u001b[0max\u001b[0m\u001b[0;34m)\u001b[0m\u001b[0;34m\u001b[0m\u001b[0;34m\u001b[0m\u001b[0m\n\u001b[0m\u001b[1;32m    344\u001b[0m         \u001b[0max\u001b[0m\u001b[0;34m.\u001b[0m\u001b[0mgrid\u001b[0m\u001b[0;34m(\u001b[0m\u001b[0mgrid\u001b[0m\u001b[0;34m)\u001b[0m\u001b[0;34m\u001b[0m\u001b[0;34m\u001b[0m\u001b[0m\n\u001b[1;32m    345\u001b[0m \u001b[0;34m\u001b[0m\u001b[0m\n",
      "\u001b[0;32m~/miniconda3/lib/python3.7/site-packages/pandas/plotting/_matplotlib/boxplot.py\u001b[0m in \u001b[0;36mplot_group\u001b[0;34m(keys, values, ax)\u001b[0m\n\u001b[1;32m    285\u001b[0m         \u001b[0mkeys\u001b[0m \u001b[0;34m=\u001b[0m \u001b[0;34m[\u001b[0m\u001b[0mpprint_thing\u001b[0m\u001b[0;34m(\u001b[0m\u001b[0mx\u001b[0m\u001b[0;34m)\u001b[0m \u001b[0;32mfor\u001b[0m \u001b[0mx\u001b[0m \u001b[0;32min\u001b[0m \u001b[0mkeys\u001b[0m\u001b[0;34m]\u001b[0m\u001b[0;34m\u001b[0m\u001b[0;34m\u001b[0m\u001b[0m\n\u001b[1;32m    286\u001b[0m         \u001b[0mvalues\u001b[0m \u001b[0;34m=\u001b[0m \u001b[0;34m[\u001b[0m\u001b[0mnp\u001b[0m\u001b[0;34m.\u001b[0m\u001b[0masarray\u001b[0m\u001b[0;34m(\u001b[0m\u001b[0mremove_na_arraylike\u001b[0m\u001b[0;34m(\u001b[0m\u001b[0mv\u001b[0m\u001b[0;34m)\u001b[0m\u001b[0;34m)\u001b[0m \u001b[0;32mfor\u001b[0m \u001b[0mv\u001b[0m \u001b[0;32min\u001b[0m \u001b[0mvalues\u001b[0m\u001b[0;34m]\u001b[0m\u001b[0;34m\u001b[0m\u001b[0;34m\u001b[0m\u001b[0m\n\u001b[0;32m--> 287\u001b[0;31m         \u001b[0mbp\u001b[0m \u001b[0;34m=\u001b[0m \u001b[0max\u001b[0m\u001b[0;34m.\u001b[0m\u001b[0mboxplot\u001b[0m\u001b[0;34m(\u001b[0m\u001b[0mvalues\u001b[0m\u001b[0;34m,\u001b[0m \u001b[0;34m**\u001b[0m\u001b[0mkwds\u001b[0m\u001b[0;34m)\u001b[0m\u001b[0;34m\u001b[0m\u001b[0;34m\u001b[0m\u001b[0m\n\u001b[0m\u001b[1;32m    288\u001b[0m         \u001b[0;32mif\u001b[0m \u001b[0mfontsize\u001b[0m \u001b[0;32mis\u001b[0m \u001b[0;32mnot\u001b[0m \u001b[0;32mNone\u001b[0m\u001b[0;34m:\u001b[0m\u001b[0;34m\u001b[0m\u001b[0;34m\u001b[0m\u001b[0m\n\u001b[1;32m    289\u001b[0m             \u001b[0max\u001b[0m\u001b[0;34m.\u001b[0m\u001b[0mtick_params\u001b[0m\u001b[0;34m(\u001b[0m\u001b[0maxis\u001b[0m\u001b[0;34m=\u001b[0m\u001b[0;34m\"both\"\u001b[0m\u001b[0;34m,\u001b[0m \u001b[0mlabelsize\u001b[0m\u001b[0;34m=\u001b[0m\u001b[0mfontsize\u001b[0m\u001b[0;34m)\u001b[0m\u001b[0;34m\u001b[0m\u001b[0;34m\u001b[0m\u001b[0m\n",
      "\u001b[0;31mAttributeError\u001b[0m: 'numpy.ndarray' object has no attribute 'boxplot'"
     ]
    },
    {
     "data": {
      "image/png": "[encoded data removed]",
      "text/plain": [
       "<Figure size 1080x720 with 4 Axes>"
      ]
     },
     "metadata": {
      "needs_background": "light"
     },
     "output_type": "display_data"
    }
   ],
   "source": [
    "fig, axes = plt.subplots(2,2,figsize = (15,10))\n",
    "for model, result, plot_axes in zip(models,results,axes.T):\n",
    "    plot_importances(features,result['importances'],pair_names,ax =axes[0])\n",
    "    plot_top_dependences(model,result['test_samples'],features,result['importances'],ax = axes[1])\n",
    "plt.show()"
   ]
  },
  {
   "cell_type": "code",
   "execution_count": 29,
   "metadata": {
    "hidden": true
   },
   "outputs": [
    {
     "data": {
      "text/plain": [
       "-0.00809404897791599"
      ]
     },
     "execution_count": 29,
     "metadata": {},
     "output_type": "execute_result"
    }
   ],
   "source": [
    "metrics.explained_variance_score(result['test_samples']['score'],result['test_results'])"
   ]
  },
  {
   "cell_type": "code",
   "execution_count": 28,
   "metadata": {
    "hidden": true
   },
   "outputs": [
    {
     "data": {
      "text/plain": [
       "<matplotlib.collections.PathCollection at 0x7f49bd0f0950>"
      ]
     },
     "execution_count": 28,
     "metadata": {},
     "output_type": "execute_result"
    },
    {
     "data": {
      "image/png": "[encoded data removed]",
      "text/plain": [
       "<Figure size 432x288 with 1 Axes>"
      ]
     },
     "metadata": {
      "needs_background": "light"
     },
     "output_type": "display_data"
    }
   ],
   "source": [
    "plt.scatter(result['test_samples']['score'],result['test_results'])"
   ]
  },
  {
   "cell_type": "code",
   "execution_count": null,
   "metadata": {
    "hidden": true
   },
   "outputs": [],
   "source": []
  }
 ],
 "metadata": {
  "kernelspec": {
   "display_name": "Python 3",
   "language": "python",
   "name": "python3"
  },
  "language_info": {
   "codemirror_mode": {
    "name": "ipython",
    "version": 3
   },
   "file_extension": ".py",
   "mimetype": "text/x-python",
   "name": "python",
   "nbconvert_exporter": "python",
   "pygments_lexer": "ipython3",
   "version": "3.7.6"
  },
  "latex_envs": {
   "LaTeX_envs_menu_present": true,
   "autoclose": false,
   "autocomplete": true,
   "bibliofile": "biblio.bib",
   "cite_by": "apalike",
   "current_citInitial": 1,
   "eqLabelWithNumbers": true,
   "eqNumInitial": 1,
   "hotkeys": {
    "equation": "Ctrl-E",
    "itemize": "Ctrl-I"
   },
   "labels_anchors": false,
   "latex_user_defs": false,
   "report_style_numbering": false,
   "user_envs_cfg": false
  },
  "toc": {
   "nav_menu": {},
   "number_sections": true,
   "sideBar": true,
   "skip_h1_title": false,
   "toc_cell": false,
   "toc_position": {},
   "toc_section_display": true,
   "toc_window_display": true
  },
  "varInspector": {
   "cols": {
    "lenName": 16,
    "lenType": 16,
    "lenVar": 40
   },
   "kernels_config": {
    "python": {
     "delete_cmd_postfix": "",
     "delete_cmd_prefix": "del ",
     "library": "var_list.py",
     "varRefreshCmd": "print(var_dic_list())"
    },
    "r": {
     "delete_cmd_postfix": ") ",
     "delete_cmd_prefix": "rm(",
     "library": "var_list.r",
     "varRefreshCmd": "cat(var_dic_list()) "
    }
   },
   "position": {
    "height": "581px",
    "left": "953px",
    "right": "20px",
    "top": "118px",
    "width": "350px"
   },
   "types_to_exclude": [
    "module",
    "function",
    "builtin_function_or_method",
    "instance",
    "_Feature"
   ],
   "window_display": false
  }
 },
 "nbformat": 4,
 "nbformat_minor": 4
}
