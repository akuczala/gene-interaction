{
 "cells": [
  {
   "cell_type": "code",
   "execution_count": 1,
   "metadata": {},
   "outputs": [],
   "source": [
    "import pandas as pd\n",
    "import numpy as np\n",
    "import matplotlib.pyplot as plt\n",
    "import scipy.linalg as lin\n",
    "import scipy.sparse.linalg as slin\n",
    "%matplotlib inline"
   ]
  },
  {
   "cell_type": "markdown",
   "metadata": {},
   "source": [
    "# read data"
   ]
  },
  {
   "cell_type": "markdown",
   "metadata": {
    "heading_collapsed": true
   },
   "source": [
    "## read Reguly 06 data"
   ]
  },
  {
   "cell_type": "code",
   "execution_count": 2,
   "metadata": {
    "hidden": true
   },
   "outputs": [
    {
     "data": {
      "text/html": [
       "<div>\n",
       "<style scoped>\n",
       "    .dataframe tbody tr th:only-of-type {\n",
       "        vertical-align: middle;\n",
       "    }\n",
       "\n",
       "    .dataframe tbody tr th {\n",
       "        vertical-align: top;\n",
       "    }\n",
       "\n",
       "    .dataframe thead th {\n",
       "        text-align: right;\n",
       "    }\n",
       "</style>\n",
       "<table border=\"1\" class=\"dataframe\">\n",
       "  <thead>\n",
       "    <tr style=\"text-align: right;\">\n",
       "      <th></th>\n",
       "      <th>Bait gene/protein</th>\n",
       "      <th>Hit gene/protein</th>\n",
       "      <th>Bait Standard Name</th>\n",
       "      <th>Hit Standard Name</th>\n",
       "      <th>Experimental System</th>\n",
       "      <th>Source</th>\n",
       "      <th>PubMed ID</th>\n",
       "    </tr>\n",
       "  </thead>\n",
       "  <tbody>\n",
       "    <tr>\n",
       "      <th>0</th>\n",
       "      <td>YBR236C</td>\n",
       "      <td>YML010W</td>\n",
       "      <td>ABD1</td>\n",
       "      <td>SPT5</td>\n",
       "      <td>Affinity Capture-MS</td>\n",
       "      <td>Lindstrom DL et al</td>\n",
       "      <td>12556496</td>\n",
       "    </tr>\n",
       "  </tbody>\n",
       "</table>\n",
       "</div>"
      ],
      "text/plain": [
       "  Bait gene/protein Hit gene/protein Bait Standard Name Hit Standard Name  \\\n",
       "0           YBR236C          YML010W               ABD1              SPT5   \n",
       "\n",
       "   Experimental System              Source  PubMed ID  \n",
       "0  Affinity Capture-MS  Lindstrom DL et al   12556496  "
      ]
     },
     "execution_count": 2,
     "metadata": {},
     "output_type": "execute_result"
    }
   ],
   "source": [
    "pd.read_csv('data/yeast/reguly06/LC_BIOCHEMICAL_011906_MinusRNA.txt',sep='\\t', nrows = 1)\n"
   ]
  },
  {
   "cell_type": "code",
   "execution_count": 3,
   "metadata": {
    "hidden": true
   },
   "outputs": [
    {
     "data": {
      "text/html": [
       "<div>\n",
       "<style scoped>\n",
       "    .dataframe tbody tr th:only-of-type {\n",
       "        vertical-align: middle;\n",
       "    }\n",
       "\n",
       "    .dataframe tbody tr th {\n",
       "        vertical-align: top;\n",
       "    }\n",
       "\n",
       "    .dataframe thead th {\n",
       "        text-align: right;\n",
       "    }\n",
       "</style>\n",
       "<table border=\"1\" class=\"dataframe\">\n",
       "  <thead>\n",
       "    <tr style=\"text-align: right;\">\n",
       "      <th></th>\n",
       "      <th>bait</th>\n",
       "      <th>hit</th>\n",
       "    </tr>\n",
       "  </thead>\n",
       "  <tbody>\n",
       "    <tr>\n",
       "      <th>0</th>\n",
       "      <td>YBR236C</td>\n",
       "      <td>YML010W</td>\n",
       "    </tr>\n",
       "    <tr>\n",
       "      <th>1</th>\n",
       "      <td>YML010W</td>\n",
       "      <td>YBR236C</td>\n",
       "    </tr>\n",
       "    <tr>\n",
       "      <th>2</th>\n",
       "      <td>YDR448W</td>\n",
       "      <td>YPL254W</td>\n",
       "    </tr>\n",
       "    <tr>\n",
       "      <th>3</th>\n",
       "      <td>YDR448W</td>\n",
       "      <td>YDR176W</td>\n",
       "    </tr>\n",
       "    <tr>\n",
       "      <th>4</th>\n",
       "      <td>YDR448W</td>\n",
       "      <td>YOR257W</td>\n",
       "    </tr>\n",
       "    <tr>\n",
       "      <th>...</th>\n",
       "      <td>...</td>\n",
       "      <td>...</td>\n",
       "    </tr>\n",
       "    <tr>\n",
       "      <th>21130</th>\n",
       "      <td>YKL138C-A</td>\n",
       "      <td>YDR201W</td>\n",
       "    </tr>\n",
       "    <tr>\n",
       "      <th>21131</th>\n",
       "      <td>YKL138C-A</td>\n",
       "      <td>YKR083C</td>\n",
       "    </tr>\n",
       "    <tr>\n",
       "      <th>21132</th>\n",
       "      <td>YKL138C-A</td>\n",
       "      <td>YDR016C</td>\n",
       "    </tr>\n",
       "    <tr>\n",
       "      <th>21133</th>\n",
       "      <td>YKL138C-A</td>\n",
       "      <td>YBR233W-A</td>\n",
       "    </tr>\n",
       "    <tr>\n",
       "      <th>21134</th>\n",
       "      <td>YKL138C-A</td>\n",
       "      <td>YDR320C-A</td>\n",
       "    </tr>\n",
       "  </tbody>\n",
       "</table>\n",
       "<p>21135 rows × 2 columns</p>\n",
       "</div>"
      ],
      "text/plain": [
       "            bait        hit\n",
       "0        YBR236C    YML010W\n",
       "1        YML010W    YBR236C\n",
       "2        YDR448W    YPL254W\n",
       "3        YDR448W    YDR176W\n",
       "4        YDR448W    YOR257W\n",
       "...          ...        ...\n",
       "21130  YKL138C-A    YDR201W\n",
       "21131  YKL138C-A    YKR083C\n",
       "21132  YKL138C-A    YDR016C\n",
       "21133  YKL138C-A  YBR233W-A\n",
       "21134  YKL138C-A  YDR320C-A\n",
       "\n",
       "[21135 rows x 2 columns]"
      ]
     },
     "metadata": {},
     "output_type": "display_data"
    },
    {
     "name": "stdout",
     "output_type": "stream",
     "text": [
      "6966 duplicates\n",
      "14169 unique\n"
     ]
    }
   ],
   "source": [
    "usecols = 'Bait gene/protein,Hit gene/protein'.split(',')\n",
    "colnames = 'bait,hit'.split(',')\n",
    "reguly = pd.read_csv('data/yeast/reguly06/LC_BIOCHEMICAL_011906_MinusRNA.txt',sep='\\t', usecols = usecols,\n",
    "                     dtype=\"str\")\n",
    "reguly = reguly.rename(columns={k : v for k,v in zip(usecols,colnames)})\n",
    "display(reguly)\n",
    "print(np.count_nonzero(reguly.duplicated()), 'duplicates')\n",
    "print(len(reguly) - np.count_nonzero(reguly.duplicated()), 'unique')"
   ]
  },
  {
   "cell_type": "code",
   "execution_count": 4,
   "metadata": {
    "hidden": true
   },
   "outputs": [
    {
     "data": {
      "text/html": [
       "<div>\n",
       "<style scoped>\n",
       "    .dataframe tbody tr th:only-of-type {\n",
       "        vertical-align: middle;\n",
       "    }\n",
       "\n",
       "    .dataframe tbody tr th {\n",
       "        vertical-align: top;\n",
       "    }\n",
       "\n",
       "    .dataframe thead th {\n",
       "        text-align: right;\n",
       "    }\n",
       "</style>\n",
       "<table border=\"1\" class=\"dataframe\">\n",
       "  <thead>\n",
       "    <tr style=\"text-align: right;\">\n",
       "      <th></th>\n",
       "      <th>a</th>\n",
       "      <th>b</th>\n",
       "    </tr>\n",
       "  </thead>\n",
       "  <tbody>\n",
       "    <tr>\n",
       "      <th>0</th>\n",
       "      <td>YBR236C</td>\n",
       "      <td>YML010W</td>\n",
       "    </tr>\n",
       "    <tr>\n",
       "      <th>1</th>\n",
       "      <td>YBR236C</td>\n",
       "      <td>YML010W</td>\n",
       "    </tr>\n",
       "    <tr>\n",
       "      <th>2</th>\n",
       "      <td>YDR448W</td>\n",
       "      <td>YPL254W</td>\n",
       "    </tr>\n",
       "    <tr>\n",
       "      <th>3</th>\n",
       "      <td>YDR176W</td>\n",
       "      <td>YDR448W</td>\n",
       "    </tr>\n",
       "    <tr>\n",
       "      <th>4</th>\n",
       "      <td>YDR448W</td>\n",
       "      <td>YOR257W</td>\n",
       "    </tr>\n",
       "    <tr>\n",
       "      <th>...</th>\n",
       "      <td>...</td>\n",
       "      <td>...</td>\n",
       "    </tr>\n",
       "    <tr>\n",
       "      <th>21130</th>\n",
       "      <td>YDR201W</td>\n",
       "      <td>YKL138C-A</td>\n",
       "    </tr>\n",
       "    <tr>\n",
       "      <th>21131</th>\n",
       "      <td>YKL138C-A</td>\n",
       "      <td>YKR083C</td>\n",
       "    </tr>\n",
       "    <tr>\n",
       "      <th>21132</th>\n",
       "      <td>YDR016C</td>\n",
       "      <td>YKL138C-A</td>\n",
       "    </tr>\n",
       "    <tr>\n",
       "      <th>21133</th>\n",
       "      <td>YBR233W-A</td>\n",
       "      <td>YKL138C-A</td>\n",
       "    </tr>\n",
       "    <tr>\n",
       "      <th>21134</th>\n",
       "      <td>YDR320C-A</td>\n",
       "      <td>YKL138C-A</td>\n",
       "    </tr>\n",
       "  </tbody>\n",
       "</table>\n",
       "<p>21135 rows × 2 columns</p>\n",
       "</div>"
      ],
      "text/plain": [
       "               a          b\n",
       "0        YBR236C    YML010W\n",
       "1        YBR236C    YML010W\n",
       "2        YDR448W    YPL254W\n",
       "3        YDR176W    YDR448W\n",
       "4        YDR448W    YOR257W\n",
       "...          ...        ...\n",
       "21130    YDR201W  YKL138C-A\n",
       "21131  YKL138C-A    YKR083C\n",
       "21132    YDR016C  YKL138C-A\n",
       "21133  YBR233W-A  YKL138C-A\n",
       "21134  YDR320C-A  YKL138C-A\n",
       "\n",
       "[21135 rows x 2 columns]"
      ]
     },
     "metadata": {},
     "output_type": "display_data"
    },
    {
     "name": "stdout",
     "output_type": "stream",
     "text": [
      "9277 duplicates\n",
      "11858 unique\n"
     ]
    }
   ],
   "source": [
    "# sort bait, hit since we are only interested in undirected edges\n",
    "# this will cause transposes to look like duplicates, which then get removed\n",
    "pint = pd.DataFrame(np.sort(reguly,axis=1),columns=['a','b'])\n",
    "display(pint)\n",
    "duplicated = pint.duplicated()\n",
    "print(np.count_nonzero(duplicated), 'duplicates')\n",
    "pint = pint[~duplicated]\n",
    "print(len(pint), 'unique')"
   ]
  },
  {
   "cell_type": "code",
   "execution_count": 5,
   "metadata": {
    "hidden": true
   },
   "outputs": [
    {
     "name": "stdout",
     "output_type": "stream",
     "text": [
      "3307 genes\n"
     ]
    }
   ],
   "source": [
    "gene_names = list(set(pint['a'].append(pint['b']))) #find unique gene names\n",
    "gene_names.sort()\n",
    "n_genes = len(gene_names)\n",
    "print(n_genes,'genes')\n",
    "gene_name_hash = {k : v for k,v in zip(gene_names,range(len(gene_names)))}"
   ]
  },
  {
   "cell_type": "code",
   "execution_count": 6,
   "metadata": {
    "hidden": true
   },
   "outputs": [
    {
     "name": "stderr",
     "output_type": "stream",
     "text": [
      "/home/akuczala/miniconda3/lib/python3.7/site-packages/scipy/sparse/_index.py:126: SparseEfficiencyWarning: Changing the sparsity structure of a csc_matrix is expensive. lil_matrix is more efficient.\n",
      "  self._set_arrayXarray(i, j, x)\n"
     ]
    }
   ],
   "source": [
    "import scipy.sparse as sparse\n",
    "ai = pint.loc[:,'a'].apply(lambda x: gene_name_hash[x])\n",
    "bi = pint.loc[:,'b'].apply(lambda x: gene_name_hash[x])\n",
    "#define upper triangle of protein interaction matrix\n",
    "pi_ut_coo = sparse.coo_matrix((np.ones(len(pint)),(ai,bi)),shape = (n_genes,n_genes))\n",
    "#convert to csc for efficiency and flexibility\n",
    "pi_csc = sparse.csc_matrix(pi_ut_coo)\n",
    "#symmetrize csc matrix\n",
    "rows, cols = pi_csc.nonzero()\n",
    "pi_csc[cols, rows] = pi_csc[rows, cols]"
   ]
  },
  {
   "cell_type": "code",
   "execution_count": 7,
   "metadata": {
    "hidden": true
   },
   "outputs": [
    {
     "data": {
      "text/plain": [
       "<matplotlib.image.AxesImage at 0x7f65d06bfd50>"
      ]
     },
     "execution_count": 7,
     "metadata": {},
     "output_type": "execute_result"
    },
    {
     "data": {
      "image/png": "[encoded data removed]",
      "text/plain": [
       "<Figure size 432x288 with 1 Axes>"
      ]
     },
     "metadata": {
      "needs_background": "light"
     },
     "output_type": "display_data"
    }
   ],
   "source": [
    "pi_dense = pi_csc.toarray()\n",
    "plt.imshow(pi_dense,cmap='gray_r')"
   ]
  },
  {
   "cell_type": "markdown",
   "metadata": {
    "heading_collapsed": true
   },
   "source": [
    "## read Costanzo 10 or 16 data"
   ]
  },
  {
   "cell_type": "code",
   "execution_count": 106,
   "metadata": {
    "hidden": true,
    "scrolled": true
   },
   "outputs": [
    {
     "data": {
      "text/html": [
       "<div>\n",
       "<style scoped>\n",
       "    .dataframe tbody tr th:only-of-type {\n",
       "        vertical-align: middle;\n",
       "    }\n",
       "\n",
       "    .dataframe tbody tr th {\n",
       "        vertical-align: top;\n",
       "    }\n",
       "\n",
       "    .dataframe thead th {\n",
       "        text-align: right;\n",
       "    }\n",
       "</style>\n",
       "<table border=\"1\" class=\"dataframe\">\n",
       "  <thead>\n",
       "    <tr style=\"text-align: right;\">\n",
       "      <th></th>\n",
       "      <th>#BioGRID Interaction ID</th>\n",
       "      <th>Entrez Gene Interactor A</th>\n",
       "      <th>Entrez Gene Interactor B</th>\n",
       "      <th>BioGRID ID Interactor A</th>\n",
       "      <th>BioGRID ID Interactor B</th>\n",
       "      <th>Systematic Name Interactor A</th>\n",
       "      <th>Systematic Name Interactor B</th>\n",
       "      <th>Official Symbol Interactor A</th>\n",
       "      <th>Official Symbol Interactor B</th>\n",
       "      <th>Synonyms Interactor A</th>\n",
       "      <th>...</th>\n",
       "      <th>Pubmed ID</th>\n",
       "      <th>Organism Interactor A</th>\n",
       "      <th>Organism Interactor B</th>\n",
       "      <th>Throughput</th>\n",
       "      <th>Score</th>\n",
       "      <th>Modification</th>\n",
       "      <th>Phenotypes</th>\n",
       "      <th>Qualifications</th>\n",
       "      <th>Tags</th>\n",
       "      <th>Source Database</th>\n",
       "    </tr>\n",
       "  </thead>\n",
       "  <tbody>\n",
       "    <tr>\n",
       "      <th>0</th>\n",
       "      <td>354378</td>\n",
       "      <td>851236</td>\n",
       "      <td>850395</td>\n",
       "      <td>31767</td>\n",
       "      <td>31012</td>\n",
       "      <td>YAL063C</td>\n",
       "      <td>YCR028C-A</td>\n",
       "      <td>FLO9</td>\n",
       "      <td>RIM1</td>\n",
       "      <td>flocculin FLO9|L000003331</td>\n",
       "      <td>...</td>\n",
       "      <td>20093466</td>\n",
       "      <td>559292</td>\n",
       "      <td>559292</td>\n",
       "      <td>High Throughput</td>\n",
       "      <td>-0.1969</td>\n",
       "      <td>-</td>\n",
       "      <td>colony size</td>\n",
       "      <td>A Synthetic Genetic Array (SGA) analysis was c...</td>\n",
       "      <td>-</td>\n",
       "      <td>BIOGRID</td>\n",
       "    </tr>\n",
       "  </tbody>\n",
       "</table>\n",
       "<p>1 rows × 24 columns</p>\n",
       "</div>"
      ],
      "text/plain": [
       "   #BioGRID Interaction ID  Entrez Gene Interactor A  \\\n",
       "0                   354378                    851236   \n",
       "\n",
       "   Entrez Gene Interactor B  BioGRID ID Interactor A  BioGRID ID Interactor B  \\\n",
       "0                    850395                    31767                    31012   \n",
       "\n",
       "  Systematic Name Interactor A Systematic Name Interactor B  \\\n",
       "0                      YAL063C                    YCR028C-A   \n",
       "\n",
       "  Official Symbol Interactor A Official Symbol Interactor B  \\\n",
       "0                         FLO9                         RIM1   \n",
       "\n",
       "       Synonyms Interactor A  ... Pubmed ID Organism Interactor A  \\\n",
       "0  flocculin FLO9|L000003331  ...  20093466                559292   \n",
       "\n",
       "  Organism Interactor B       Throughput   Score  Modification   Phenotypes  \\\n",
       "0                559292  High Throughput -0.1969             -  colony size   \n",
       "\n",
       "                                      Qualifications  Tags Source Database  \n",
       "0  A Synthetic Genetic Array (SGA) analysis was c...     -         BIOGRID  \n",
       "\n",
       "[1 rows x 24 columns]"
      ]
     },
     "execution_count": 106,
     "metadata": {},
     "output_type": "execute_result"
    }
   ],
   "source": [
    "pd.read_csv('data/yeast/costanzo10.txt',sep='\\t', nrows = 1)"
   ]
  },
  {
   "cell_type": "code",
   "execution_count": 8,
   "metadata": {
    "hidden": true,
    "scrolled": false
   },
   "outputs": [
    {
     "data": {
      "text/html": [
       "<div>\n",
       "<style scoped>\n",
       "    .dataframe tbody tr th:only-of-type {\n",
       "        vertical-align: middle;\n",
       "    }\n",
       "\n",
       "    .dataframe tbody tr th {\n",
       "        vertical-align: top;\n",
       "    }\n",
       "\n",
       "    .dataframe thead th {\n",
       "        text-align: right;\n",
       "    }\n",
       "</style>\n",
       "<table border=\"1\" class=\"dataframe\">\n",
       "  <thead>\n",
       "    <tr style=\"text-align: right;\">\n",
       "      <th></th>\n",
       "      <th>a</th>\n",
       "      <th>b</th>\n",
       "      <th>score</th>\n",
       "    </tr>\n",
       "  </thead>\n",
       "  <tbody>\n",
       "    <tr>\n",
       "      <th>0</th>\n",
       "      <td>YAL001C</td>\n",
       "      <td>YDL126C</td>\n",
       "      <td>0.1745</td>\n",
       "    </tr>\n",
       "    <tr>\n",
       "      <th>1</th>\n",
       "      <td>YAL001C</td>\n",
       "      <td>YDL145C</td>\n",
       "      <td>0.1957</td>\n",
       "    </tr>\n",
       "    <tr>\n",
       "      <th>2</th>\n",
       "      <td>YAL001C</td>\n",
       "      <td>YDR238C</td>\n",
       "      <td>0.2682</td>\n",
       "    </tr>\n",
       "    <tr>\n",
       "      <th>3</th>\n",
       "      <td>YAL001C</td>\n",
       "      <td>YDR280W</td>\n",
       "      <td>0.2291</td>\n",
       "    </tr>\n",
       "    <tr>\n",
       "      <th>4</th>\n",
       "      <td>YAL001C</td>\n",
       "      <td>YDR292C</td>\n",
       "      <td>0.1834</td>\n",
       "    </tr>\n",
       "    <tr>\n",
       "      <th>...</th>\n",
       "      <td>...</td>\n",
       "      <td>...</td>\n",
       "      <td>...</td>\n",
       "    </tr>\n",
       "    <tr>\n",
       "      <th>326785</th>\n",
       "      <td>YPR201W</td>\n",
       "      <td>YOR140W</td>\n",
       "      <td>-0.1497</td>\n",
       "    </tr>\n",
       "    <tr>\n",
       "      <th>326786</th>\n",
       "      <td>YPR201W</td>\n",
       "      <td>YOR270C</td>\n",
       "      <td>-0.1228</td>\n",
       "    </tr>\n",
       "    <tr>\n",
       "      <th>326787</th>\n",
       "      <td>YPR201W</td>\n",
       "      <td>YPL101W</td>\n",
       "      <td>-0.1839</td>\n",
       "    </tr>\n",
       "    <tr>\n",
       "      <th>326788</th>\n",
       "      <td>YPR201W</td>\n",
       "      <td>YPL106C</td>\n",
       "      <td>-0.1640</td>\n",
       "    </tr>\n",
       "    <tr>\n",
       "      <th>326789</th>\n",
       "      <td>YPR201W</td>\n",
       "      <td>YPL213W</td>\n",
       "      <td>-0.1576</td>\n",
       "    </tr>\n",
       "  </tbody>\n",
       "</table>\n",
       "<p>326790 rows × 3 columns</p>\n",
       "</div>"
      ],
      "text/plain": [
       "              a        b   score\n",
       "0       YAL001C  YDL126C  0.1745\n",
       "1       YAL001C  YDL145C  0.1957\n",
       "2       YAL001C  YDR238C  0.2682\n",
       "3       YAL001C  YDR280W  0.2291\n",
       "4       YAL001C  YDR292C  0.1834\n",
       "...         ...      ...     ...\n",
       "326785  YPR201W  YOR140W -0.1497\n",
       "326786  YPR201W  YOR270C -0.1228\n",
       "326787  YPR201W  YPL101W -0.1839\n",
       "326788  YPR201W  YPL106C -0.1640\n",
       "326789  YPR201W  YPL213W -0.1576\n",
       "\n",
       "[326790 rows x 3 columns]"
      ]
     },
     "execution_count": 8,
     "metadata": {},
     "output_type": "execute_result"
    }
   ],
   "source": [
    "#usecols = 'Official Symbol Interactor A,Official Symbol Interactor B,Score'.split(',')\n",
    "usecols = 'Systematic Name Interactor A,Systematic Name Interactor B,Score'.split(',')\n",
    "names = {k : v for k,v in zip(usecols,'a,b,score'.split(','))}\n",
    "\n",
    "costanzo = pd.read_csv('data/yeast/costanzo16.tab2',\n",
    "                 sep='\\t', usecols = usecols,\n",
    "                 dtype = {k : v for k,v in zip(usecols,[np.str,np.str,np.float])},\n",
    "                na_values = ['-'])\n",
    "costanzo = costanzo.rename(columns = names)\n",
    "costanzo"
   ]
  },
  {
   "cell_type": "code",
   "execution_count": 9,
   "metadata": {
    "hidden": true
   },
   "outputs": [
    {
     "name": "stdout",
     "output_type": "stream",
     "text": [
      "1156 duplicates\n",
      "325634 unique\n"
     ]
    }
   ],
   "source": [
    "duplicated = costanzo.drop('score',axis=1).duplicated()\n",
    "print(np.count_nonzero(duplicated), 'duplicates')\n",
    "costanzo_unique = costanzo[~duplicated]\n",
    "print(len(costanzo_unique),'unique')"
   ]
  },
  {
   "cell_type": "markdown",
   "metadata": {
    "heading_collapsed": true
   },
   "source": [
    "## assign indices to gene interaction network"
   ]
  },
  {
   "cell_type": "code",
   "execution_count": 10,
   "metadata": {
    "hidden": true
   },
   "outputs": [],
   "source": [
    "def hashbrown(name):\n",
    "    try:\n",
    "        return gene_name_hash[name]\n",
    "    except:\n",
    "        return -1"
   ]
  },
  {
   "cell_type": "code",
   "execution_count": 11,
   "metadata": {
    "hidden": true
   },
   "outputs": [
    {
     "data": {
      "text/html": [
       "<div>\n",
       "<style scoped>\n",
       "    .dataframe tbody tr th:only-of-type {\n",
       "        vertical-align: middle;\n",
       "    }\n",
       "\n",
       "    .dataframe tbody tr th {\n",
       "        vertical-align: top;\n",
       "    }\n",
       "\n",
       "    .dataframe thead th {\n",
       "        text-align: right;\n",
       "    }\n",
       "</style>\n",
       "<table border=\"1\" class=\"dataframe\">\n",
       "  <thead>\n",
       "    <tr style=\"text-align: right;\">\n",
       "      <th></th>\n",
       "      <th>a_i</th>\n",
       "      <th>b_i</th>\n",
       "      <th>a</th>\n",
       "      <th>b</th>\n",
       "      <th>score</th>\n",
       "    </tr>\n",
       "  </thead>\n",
       "  <tbody>\n",
       "    <tr>\n",
       "      <th>0</th>\n",
       "      <td>11</td>\n",
       "      <td>445</td>\n",
       "      <td>YAL001C</td>\n",
       "      <td>YDL126C</td>\n",
       "      <td>0.1745</td>\n",
       "    </tr>\n",
       "    <tr>\n",
       "      <th>1</th>\n",
       "      <td>11</td>\n",
       "      <td>459</td>\n",
       "      <td>YAL001C</td>\n",
       "      <td>YDL145C</td>\n",
       "      <td>0.1957</td>\n",
       "    </tr>\n",
       "    <tr>\n",
       "      <th>2</th>\n",
       "      <td>11</td>\n",
       "      <td>653</td>\n",
       "      <td>YAL001C</td>\n",
       "      <td>YDR238C</td>\n",
       "      <td>0.2682</td>\n",
       "    </tr>\n",
       "    <tr>\n",
       "      <th>3</th>\n",
       "      <td>11</td>\n",
       "      <td>669</td>\n",
       "      <td>YAL001C</td>\n",
       "      <td>YDR280W</td>\n",
       "      <td>0.2291</td>\n",
       "    </tr>\n",
       "    <tr>\n",
       "      <th>4</th>\n",
       "      <td>11</td>\n",
       "      <td>674</td>\n",
       "      <td>YAL001C</td>\n",
       "      <td>YDR292C</td>\n",
       "      <td>0.1834</td>\n",
       "    </tr>\n",
       "    <tr>\n",
       "      <th>...</th>\n",
       "      <td>...</td>\n",
       "      <td>...</td>\n",
       "      <td>...</td>\n",
       "      <td>...</td>\n",
       "      <td>...</td>\n",
       "    </tr>\n",
       "    <tr>\n",
       "      <th>326785</th>\n",
       "      <td>3306</td>\n",
       "      <td>2922</td>\n",
       "      <td>YPR201W</td>\n",
       "      <td>YOR140W</td>\n",
       "      <td>-0.1497</td>\n",
       "    </tr>\n",
       "    <tr>\n",
       "      <th>326786</th>\n",
       "      <td>3306</td>\n",
       "      <td>2995</td>\n",
       "      <td>YPR201W</td>\n",
       "      <td>YOR270C</td>\n",
       "      <td>-0.1228</td>\n",
       "    </tr>\n",
       "    <tr>\n",
       "      <th>326787</th>\n",
       "      <td>3306</td>\n",
       "      <td>3105</td>\n",
       "      <td>YPR201W</td>\n",
       "      <td>YPL101W</td>\n",
       "      <td>-0.1839</td>\n",
       "    </tr>\n",
       "    <tr>\n",
       "      <th>326788</th>\n",
       "      <td>3306</td>\n",
       "      <td>3107</td>\n",
       "      <td>YPR201W</td>\n",
       "      <td>YPL106C</td>\n",
       "      <td>-0.1640</td>\n",
       "    </tr>\n",
       "    <tr>\n",
       "      <th>326789</th>\n",
       "      <td>3306</td>\n",
       "      <td>3168</td>\n",
       "      <td>YPR201W</td>\n",
       "      <td>YPL213W</td>\n",
       "      <td>-0.1576</td>\n",
       "    </tr>\n",
       "  </tbody>\n",
       "</table>\n",
       "<p>173469 rows × 5 columns</p>\n",
       "</div>"
      ],
      "text/plain": [
       "         a_i   b_i        a        b   score\n",
       "0         11   445  YAL001C  YDL126C  0.1745\n",
       "1         11   459  YAL001C  YDL145C  0.1957\n",
       "2         11   653  YAL001C  YDR238C  0.2682\n",
       "3         11   669  YAL001C  YDR280W  0.2291\n",
       "4         11   674  YAL001C  YDR292C  0.1834\n",
       "...      ...   ...      ...      ...     ...\n",
       "326785  3306  2922  YPR201W  YOR140W -0.1497\n",
       "326786  3306  2995  YPR201W  YOR270C -0.1228\n",
       "326787  3306  3105  YPR201W  YPL101W -0.1839\n",
       "326788  3306  3107  YPR201W  YPL106C -0.1640\n",
       "326789  3306  3168  YPR201W  YPL213W -0.1576\n",
       "\n",
       "[173469 rows x 5 columns]"
      ]
     },
     "metadata": {},
     "output_type": "display_data"
    }
   ],
   "source": [
    "gint = costanzo_unique[['a','b']].applymap(hashbrown).rename(columns={'a':'a_i','b':'b_i'})\n",
    "gint['a'] = costanzo_unique['a']\n",
    "gint['b'] = costanzo_unique['b']\n",
    "gint['score'] = costanzo_unique['score']\n",
    "gint = gint[np.logical_and(gint.a_i > -1,gint.b_i > -1) ]\n",
    "display(gint)\n",
    "\n",
    "gi_coo = sparse.coo_matrix((gint['score'],(gint['a_i'],gint['b_i'])))\n",
    "gi_csc = sparse.csc_matrix(gi_coo)\n",
    "\n",
    "assert(gi_csc.shape == pi_csc.shape)"
   ]
  },
  {
   "cell_type": "code",
   "execution_count": 12,
   "metadata": {
    "hidden": true
   },
   "outputs": [
    {
     "data": {
      "text/plain": [
       "<matplotlib.colorbar.Colorbar at 0x7f65cb09ec50>"
      ]
     },
     "execution_count": 12,
     "metadata": {},
     "output_type": "execute_result"
    },
    {
     "data": {
      "image/png": "[encoded data removed]",
      "text/plain": [
       "<Figure size 360x360 with 2 Axes>"
      ]
     },
     "metadata": {
      "needs_background": "light"
     },
     "output_type": "display_data"
    }
   ],
   "source": [
    "def bwr_plot(arr,**kwargs):\n",
    "    vmax = np.max(np.abs(arr))\n",
    "    plt.imshow(arr,vmax=vmax,vmin=-vmax,cmap='bwr')\n",
    "plt.figure(figsize=(5,5))\n",
    "bwr_plot(gi_csc.toarray());plt.colorbar()"
   ]
  },
  {
   "cell_type": "markdown",
   "metadata": {},
   "source": [
    "# compute PI network properties"
   ]
  },
  {
   "cell_type": "markdown",
   "metadata": {},
   "source": [
    "## eigenvector centrality"
   ]
  },
  {
   "cell_type": "markdown",
   "metadata": {},
   "source": [
    "find the perron-frobenius eigenvector"
   ]
  },
  {
   "cell_type": "code",
   "execution_count": 14,
   "metadata": {},
   "outputs": [
    {
     "name": "stdout",
     "output_type": "stream",
     "text": [
      "84\n"
     ]
    },
    {
     "data": {
      "text/plain": [
       "[<matplotlib.lines.Line2D at 0x7f65c9ac4610>]"
      ]
     },
     "execution_count": 14,
     "metadata": {},
     "output_type": "execute_result"
    },
    {
     "data": {
      "image/png": "[encoded data removed]",
      "text/plain": [
       "<Figure size 432x288 with 1 Axes>"
      ]
     },
     "metadata": {
      "needs_background": "light"
     },
     "output_type": "display_data"
    }
   ],
   "source": [
    "eigs, vecs = slin.eigsh(pi_csc,k=1)\n",
    "pfeig, pfvec = eigs[0], vecs[:,0]\n",
    "#clean up pfvec\n",
    "pfvec[np.isclose(pfvec,0)] = 0\n",
    "\n",
    "pfvec = pfvec/np.sign(pfvec.sum())\n",
    "assert(not np.any(pfvec < 0)) #assert non-negativity of pfvec\n",
    "print(np.count_nonzero(np.isclose(pfvec,0)))\n",
    "plt.plot(np.sort(pfvec)[::-1])"
   ]
  },
  {
   "cell_type": "markdown",
   "metadata": {},
   "source": [
    "# make samples, labels"
   ]
  },
  {
   "cell_type": "code",
   "execution_count": null,
   "metadata": {},
   "outputs": [],
   "source": [
    "pi_dense = pi_csc.toarray()"
   ]
  },
  {
   "cell_type": "code",
   "execution_count": 43,
   "metadata": {},
   "outputs": [
    {
     "data": {
      "text/html": [
       "<div>\n",
       "<style scoped>\n",
       "    .dataframe tbody tr th:only-of-type {\n",
       "        vertical-align: middle;\n",
       "    }\n",
       "\n",
       "    .dataframe tbody tr th {\n",
       "        vertical-align: top;\n",
       "    }\n",
       "\n",
       "    .dataframe thead th {\n",
       "        text-align: right;\n",
       "    }\n",
       "</style>\n",
       "<table border=\"1\" class=\"dataframe\">\n",
       "  <thead>\n",
       "    <tr style=\"text-align: right;\">\n",
       "      <th></th>\n",
       "      <th>a_i</th>\n",
       "      <th>b_i</th>\n",
       "      <th>a</th>\n",
       "      <th>b</th>\n",
       "      <th>score</th>\n",
       "      <th>a_eigcent</th>\n",
       "      <th>b_eigcent</th>\n",
       "      <th>label</th>\n",
       "    </tr>\n",
       "  </thead>\n",
       "  <tbody>\n",
       "    <tr>\n",
       "      <th>0</th>\n",
       "      <td>11</td>\n",
       "      <td>445</td>\n",
       "      <td>YAL001C</td>\n",
       "      <td>YDL126C</td>\n",
       "      <td>0.1745</td>\n",
       "      <td>0.000794</td>\n",
       "      <td>0.018736</td>\n",
       "      <td>1</td>\n",
       "    </tr>\n",
       "    <tr>\n",
       "      <th>1</th>\n",
       "      <td>11</td>\n",
       "      <td>459</td>\n",
       "      <td>YAL001C</td>\n",
       "      <td>YDL145C</td>\n",
       "      <td>0.1957</td>\n",
       "      <td>0.000794</td>\n",
       "      <td>0.001203</td>\n",
       "      <td>1</td>\n",
       "    </tr>\n",
       "    <tr>\n",
       "      <th>2</th>\n",
       "      <td>11</td>\n",
       "      <td>653</td>\n",
       "      <td>YAL001C</td>\n",
       "      <td>YDR238C</td>\n",
       "      <td>0.2682</td>\n",
       "      <td>0.000794</td>\n",
       "      <td>0.000393</td>\n",
       "      <td>1</td>\n",
       "    </tr>\n",
       "    <tr>\n",
       "      <th>3</th>\n",
       "      <td>11</td>\n",
       "      <td>669</td>\n",
       "      <td>YAL001C</td>\n",
       "      <td>YDR280W</td>\n",
       "      <td>0.2291</td>\n",
       "      <td>0.000794</td>\n",
       "      <td>0.025867</td>\n",
       "      <td>1</td>\n",
       "    </tr>\n",
       "    <tr>\n",
       "      <th>4</th>\n",
       "      <td>11</td>\n",
       "      <td>674</td>\n",
       "      <td>YAL001C</td>\n",
       "      <td>YDR292C</td>\n",
       "      <td>0.1834</td>\n",
       "      <td>0.000794</td>\n",
       "      <td>0.000512</td>\n",
       "      <td>1</td>\n",
       "    </tr>\n",
       "    <tr>\n",
       "      <th>...</th>\n",
       "      <td>...</td>\n",
       "      <td>...</td>\n",
       "      <td>...</td>\n",
       "      <td>...</td>\n",
       "      <td>...</td>\n",
       "      <td>...</td>\n",
       "      <td>...</td>\n",
       "      <td>...</td>\n",
       "    </tr>\n",
       "    <tr>\n",
       "      <th>326785</th>\n",
       "      <td>3306</td>\n",
       "      <td>2922</td>\n",
       "      <td>YPR201W</td>\n",
       "      <td>YOR140W</td>\n",
       "      <td>-0.1497</td>\n",
       "      <td>0.007668</td>\n",
       "      <td>0.007432</td>\n",
       "      <td>0</td>\n",
       "    </tr>\n",
       "    <tr>\n",
       "      <th>326786</th>\n",
       "      <td>3306</td>\n",
       "      <td>2995</td>\n",
       "      <td>YPR201W</td>\n",
       "      <td>YOR270C</td>\n",
       "      <td>-0.1228</td>\n",
       "      <td>0.007668</td>\n",
       "      <td>0.001131</td>\n",
       "      <td>0</td>\n",
       "    </tr>\n",
       "    <tr>\n",
       "      <th>326787</th>\n",
       "      <td>3306</td>\n",
       "      <td>3105</td>\n",
       "      <td>YPR201W</td>\n",
       "      <td>YPL101W</td>\n",
       "      <td>-0.1839</td>\n",
       "      <td>0.007668</td>\n",
       "      <td>0.018218</td>\n",
       "      <td>0</td>\n",
       "    </tr>\n",
       "    <tr>\n",
       "      <th>326788</th>\n",
       "      <td>3306</td>\n",
       "      <td>3107</td>\n",
       "      <td>YPR201W</td>\n",
       "      <td>YPL106C</td>\n",
       "      <td>-0.1640</td>\n",
       "      <td>0.007668</td>\n",
       "      <td>0.023984</td>\n",
       "      <td>0</td>\n",
       "    </tr>\n",
       "    <tr>\n",
       "      <th>326789</th>\n",
       "      <td>3306</td>\n",
       "      <td>3168</td>\n",
       "      <td>YPR201W</td>\n",
       "      <td>YPL213W</td>\n",
       "      <td>-0.1576</td>\n",
       "      <td>0.007668</td>\n",
       "      <td>0.008991</td>\n",
       "      <td>0</td>\n",
       "    </tr>\n",
       "  </tbody>\n",
       "</table>\n",
       "<p>173469 rows × 8 columns</p>\n",
       "</div>"
      ],
      "text/plain": [
       "         a_i   b_i        a        b   score  a_eigcent  b_eigcent  label\n",
       "0         11   445  YAL001C  YDL126C  0.1745   0.000794   0.018736      1\n",
       "1         11   459  YAL001C  YDL145C  0.1957   0.000794   0.001203      1\n",
       "2         11   653  YAL001C  YDR238C  0.2682   0.000794   0.000393      1\n",
       "3         11   669  YAL001C  YDR280W  0.2291   0.000794   0.025867      1\n",
       "4         11   674  YAL001C  YDR292C  0.1834   0.000794   0.000512      1\n",
       "...      ...   ...      ...      ...     ...        ...        ...    ...\n",
       "326785  3306  2922  YPR201W  YOR140W -0.1497   0.007668   0.007432      0\n",
       "326786  3306  2995  YPR201W  YOR270C -0.1228   0.007668   0.001131      0\n",
       "326787  3306  3105  YPR201W  YPL101W -0.1839   0.007668   0.018218      0\n",
       "326788  3306  3107  YPR201W  YPL106C -0.1640   0.007668   0.023984      0\n",
       "326789  3306  3168  YPR201W  YPL213W -0.1576   0.007668   0.008991      0\n",
       "\n",
       "[173469 rows x 8 columns]"
      ]
     },
     "metadata": {},
     "output_type": "display_data"
    },
    {
     "data": {
      "text/html": [
       "<div>\n",
       "<style scoped>\n",
       "    .dataframe tbody tr th:only-of-type {\n",
       "        vertical-align: middle;\n",
       "    }\n",
       "\n",
       "    .dataframe tbody tr th {\n",
       "        vertical-align: top;\n",
       "    }\n",
       "\n",
       "    .dataframe thead th {\n",
       "        text-align: right;\n",
       "    }\n",
       "</style>\n",
       "<table border=\"1\" class=\"dataframe\">\n",
       "  <thead>\n",
       "    <tr style=\"text-align: right;\">\n",
       "      <th></th>\n",
       "      <th>a_i</th>\n",
       "      <th>b_i</th>\n",
       "      <th>a</th>\n",
       "      <th>b</th>\n",
       "      <th>score</th>\n",
       "      <th>a_eigcent</th>\n",
       "      <th>b_eigcent</th>\n",
       "      <th>label</th>\n",
       "    </tr>\n",
       "  </thead>\n",
       "  <tbody>\n",
       "    <tr>\n",
       "      <th>227655</th>\n",
       "      <td>650</td>\n",
       "      <td>2044</td>\n",
       "      <td>YDR231C</td>\n",
       "      <td>YLR056W</td>\n",
       "      <td>-0.1530</td>\n",
       "      <td>0.000512</td>\n",
       "      <td>8.443429e-07</td>\n",
       "      <td>0</td>\n",
       "    </tr>\n",
       "    <tr>\n",
       "      <th>102612</th>\n",
       "      <td>753</td>\n",
       "      <td>1031</td>\n",
       "      <td>YDR434W</td>\n",
       "      <td>YGL019W</td>\n",
       "      <td>-0.4233</td>\n",
       "      <td>-0.000000</td>\n",
       "      <td>3.724981e-02</td>\n",
       "      <td>0</td>\n",
       "    </tr>\n",
       "    <tr>\n",
       "      <th>248716</th>\n",
       "      <td>1162</td>\n",
       "      <td>1273</td>\n",
       "      <td>YGL240W</td>\n",
       "      <td>YGR188C</td>\n",
       "      <td>-0.2090</td>\n",
       "      <td>0.003364</td>\n",
       "      <td>1.347879e-03</td>\n",
       "      <td>0</td>\n",
       "    </tr>\n",
       "    <tr>\n",
       "      <th>151502</th>\n",
       "      <td>3142</td>\n",
       "      <td>1609</td>\n",
       "      <td>YPL160W</td>\n",
       "      <td>YJL029C</td>\n",
       "      <td>-0.2070</td>\n",
       "      <td>-0.000000</td>\n",
       "      <td>1.406911e-03</td>\n",
       "      <td>0</td>\n",
       "    </tr>\n",
       "    <tr>\n",
       "      <th>193461</th>\n",
       "      <td>2530</td>\n",
       "      <td>2969</td>\n",
       "      <td>YNL005C</td>\n",
       "      <td>YOR224C</td>\n",
       "      <td>-0.1470</td>\n",
       "      <td>0.000017</td>\n",
       "      <td>2.384306e-02</td>\n",
       "      <td>0</td>\n",
       "    </tr>\n",
       "    <tr>\n",
       "      <th>...</th>\n",
       "      <td>...</td>\n",
       "      <td>...</td>\n",
       "      <td>...</td>\n",
       "      <td>...</td>\n",
       "      <td>...</td>\n",
       "      <td>...</td>\n",
       "      <td>...</td>\n",
       "      <td>...</td>\n",
       "    </tr>\n",
       "    <tr>\n",
       "      <th>133954</th>\n",
       "      <td>2289</td>\n",
       "      <td>118</td>\n",
       "      <td>YML043C</td>\n",
       "      <td>YBL087C</td>\n",
       "      <td>-0.1326</td>\n",
       "      <td>0.000482</td>\n",
       "      <td>1.466369e-02</td>\n",
       "      <td>0</td>\n",
       "    </tr>\n",
       "    <tr>\n",
       "      <th>79996</th>\n",
       "      <td>2686</td>\n",
       "      <td>1289</td>\n",
       "      <td>YNL282W</td>\n",
       "      <td>YGR218W</td>\n",
       "      <td>-0.3331</td>\n",
       "      <td>0.001988</td>\n",
       "      <td>2.565792e-02</td>\n",
       "      <td>0</td>\n",
       "    </tr>\n",
       "    <tr>\n",
       "      <th>181330</th>\n",
       "      <td>1685</td>\n",
       "      <td>1483</td>\n",
       "      <td>YJL168C</td>\n",
       "      <td>YIL004C</td>\n",
       "      <td>-0.2320</td>\n",
       "      <td>0.017844</td>\n",
       "      <td>4.461963e-03</td>\n",
       "      <td>0</td>\n",
       "    </tr>\n",
       "    <tr>\n",
       "      <th>248704</th>\n",
       "      <td>1162</td>\n",
       "      <td>661</td>\n",
       "      <td>YGL240W</td>\n",
       "      <td>YDR260C</td>\n",
       "      <td>-0.8440</td>\n",
       "      <td>0.003364</td>\n",
       "      <td>3.840616e-03</td>\n",
       "      <td>0</td>\n",
       "    </tr>\n",
       "    <tr>\n",
       "      <th>23905</th>\n",
       "      <td>299</td>\n",
       "      <td>2911</td>\n",
       "      <td>YCL016C</td>\n",
       "      <td>YOR122C</td>\n",
       "      <td>0.1858</td>\n",
       "      <td>0.000102</td>\n",
       "      <td>3.400302e-03</td>\n",
       "      <td>1</td>\n",
       "    </tr>\n",
       "  </tbody>\n",
       "</table>\n",
       "<p>34694 rows × 8 columns</p>\n",
       "</div>"
      ],
      "text/plain": [
       "         a_i   b_i        a        b   score  a_eigcent     b_eigcent  label\n",
       "227655   650  2044  YDR231C  YLR056W -0.1530   0.000512  8.443429e-07      0\n",
       "102612   753  1031  YDR434W  YGL019W -0.4233  -0.000000  3.724981e-02      0\n",
       "248716  1162  1273  YGL240W  YGR188C -0.2090   0.003364  1.347879e-03      0\n",
       "151502  3142  1609  YPL160W  YJL029C -0.2070  -0.000000  1.406911e-03      0\n",
       "193461  2530  2969  YNL005C  YOR224C -0.1470   0.000017  2.384306e-02      0\n",
       "...      ...   ...      ...      ...     ...        ...           ...    ...\n",
       "133954  2289   118  YML043C  YBL087C -0.1326   0.000482  1.466369e-02      0\n",
       "79996   2686  1289  YNL282W  YGR218W -0.3331   0.001988  2.565792e-02      0\n",
       "181330  1685  1483  YJL168C  YIL004C -0.2320   0.017844  4.461963e-03      0\n",
       "248704  1162   661  YGL240W  YDR260C -0.8440   0.003364  3.840616e-03      0\n",
       "23905    299  2911  YCL016C  YOR122C  0.1858   0.000102  3.400302e-03      1\n",
       "\n",
       "[34694 rows x 8 columns]"
      ]
     },
     "metadata": {},
     "output_type": "display_data"
    }
   ],
   "source": [
    "thresh = 0;\n",
    "\n",
    "samples = gint\n",
    "samples['label'] = (samples['score']>0).astype(np.int)\n",
    "samples['a_eigcent'] = pfvec[samples['a_i']]\n",
    "samples['b_eigcent'] = pfvec[samples['b_i']]\n",
    "#append columns of pi matrix\n",
    "samples = samples\n",
    "\n",
    "#look at subset\n",
    "small_samples = samples.sample(frac=0.2)\n",
    "small_training = small_samples.iloc[:len(small_samples)//2]\n",
    "small_testing = small_samples.iloc[len(small_samples)//2:]\n",
    "display(samples)\n",
    "display(small_samples)"
   ]
  },
  {
   "cell_type": "code",
   "execution_count": 41,
   "metadata": {},
   "outputs": [
    {
     "data": {
      "text/plain": [
       "0.1479860954983311"
      ]
     },
     "execution_count": 41,
     "metadata": {},
     "output_type": "execute_result"
    }
   ],
   "source": [
    "np.count_nonzero(samples['label'])/len(samples)"
   ]
  },
  {
   "cell_type": "code",
   "execution_count": 44,
   "metadata": {},
   "outputs": [
    {
     "data": {
      "text/plain": [
       "0.14169597048481006"
      ]
     },
     "execution_count": 44,
     "metadata": {},
     "output_type": "execute_result"
    }
   ],
   "source": [
    "np.count_nonzero(small_testing['label'])/len(small_testing)"
   ]
  },
  {
   "cell_type": "code",
   "execution_count": 61,
   "metadata": {},
   "outputs": [
    {
     "data": {
      "image/png": "[encoded data removed]",
      "text/plain": [
       "<Figure size 432x288 with 2 Axes>"
      ]
     },
     "metadata": {
      "needs_background": "light"
     },
     "output_type": "display_data"
    }
   ],
   "source": [
    "plot_sample = samples.sample(n=500)\n",
    "plot_sample.plot.scatter(x='a_eigcent',y='b_eigcent',\n",
    "                         c = plot_sample['label'],cmap='bwr',s=1)\n",
    "plt.show()"
   ]
  },
  {
   "cell_type": "markdown",
   "metadata": {},
   "source": [
    "# logistic regression"
   ]
  },
  {
   "cell_type": "code",
   "execution_count": 52,
   "metadata": {},
   "outputs": [],
   "source": [
    "from sklearn.linear_model import LogisticRegression\n",
    "model = LogisticRegression()"
   ]
  },
  {
   "cell_type": "code",
   "execution_count": 53,
   "metadata": {},
   "outputs": [
    {
     "data": {
      "text/plain": [
       "LogisticRegression(C=1.0, class_weight=None, dual=False, fit_intercept=True,\n",
       "                   intercept_scaling=1, l1_ratio=None, max_iter=100,\n",
       "                   multi_class='auto', n_jobs=None, penalty='l2',\n",
       "                   random_state=None, solver='lbfgs', tol=0.0001, verbose=0,\n",
       "                   warm_start=False)"
      ]
     },
     "execution_count": 53,
     "metadata": {},
     "output_type": "execute_result"
    }
   ],
   "source": [
    "model.fit(small_training[['a_eigcent','b_eigcent']],\n",
    "          small_training['label']\n",
    "         )"
   ]
  },
  {
   "cell_type": "code",
   "execution_count": 54,
   "metadata": {},
   "outputs": [
    {
     "data": {
      "text/plain": [
       "0"
      ]
     },
     "execution_count": 54,
     "metadata": {},
     "output_type": "execute_result"
    }
   ],
   "source": [
    "test_results = model.predict(small_testing[['a_eigcent','b_eigcent']])\n",
    "np.count_nonzero(test_results)"
   ]
  },
  {
   "cell_type": "markdown",
   "metadata": {},
   "source": [
    "# SVM"
   ]
  },
  {
   "cell_type": "code",
   "execution_count": 45,
   "metadata": {},
   "outputs": [],
   "source": [
    "from sklearn import svm\n",
    "model = svm.SVC()"
   ]
  },
  {
   "cell_type": "code",
   "execution_count": 46,
   "metadata": {},
   "outputs": [
    {
     "data": {
      "text/plain": [
       "SVC(C=1.0, break_ties=False, cache_size=200, class_weight=None, coef0=0.0,\n",
       "    decision_function_shape='ovr', degree=3, gamma='scale', kernel='rbf',\n",
       "    max_iter=-1, probability=False, random_state=None, shrinking=True,\n",
       "    tol=0.001, verbose=False)"
      ]
     },
     "execution_count": 46,
     "metadata": {},
     "output_type": "execute_result"
    }
   ],
   "source": [
    "model.fit(small_training[['a_eigcent','b_eigcent']],\n",
    "          small_training['label']\n",
    "         )"
   ]
  },
  {
   "cell_type": "code",
   "execution_count": 47,
   "metadata": {},
   "outputs": [],
   "source": [
    "test_results = model.predict(small_testing[['a_eigcent','b_eigcent']])"
   ]
  },
  {
   "cell_type": "code",
   "execution_count": 48,
   "metadata": {},
   "outputs": [
    {
     "data": {
      "text/plain": [
       "0"
      ]
     },
     "execution_count": 48,
     "metadata": {},
     "output_type": "execute_result"
    }
   ],
   "source": [
    "np.count_nonzero(test_results)"
   ]
  },
  {
   "cell_type": "code",
   "execution_count": 35,
   "metadata": {},
   "outputs": [
    {
     "data": {
      "text/plain": [
       "261"
      ]
     },
     "execution_count": 35,
     "metadata": {},
     "output_type": "execute_result"
    }
   ],
   "source": [
    "np.count_nonzero(~(small_testing['label'] == test_results))"
   ]
  },
  {
   "cell_type": "markdown",
   "metadata": {
    "heading_collapsed": true
   },
   "source": [
    "# counting things"
   ]
  },
  {
   "cell_type": "code",
   "execution_count": 185,
   "metadata": {
    "hidden": true
   },
   "outputs": [
    {
     "data": {
      "text/plain": [
       "(3307, 3307)"
      ]
     },
     "execution_count": 185,
     "metadata": {},
     "output_type": "execute_result"
    }
   ],
   "source": [
    "gi_sparse.shape"
   ]
  },
  {
   "cell_type": "code",
   "execution_count": 186,
   "metadata": {
    "hidden": true
   },
   "outputs": [
    {
     "data": {
      "text/plain": [
       "(3306, 3307)"
      ]
     },
     "execution_count": 186,
     "metadata": {},
     "output_type": "execute_result"
    }
   ],
   "source": [
    "pi_sparse.shape"
   ]
  },
  {
   "cell_type": "code",
   "execution_count": 152,
   "metadata": {
    "hidden": true
   },
   "outputs": [],
   "source": [
    "costanzo_genes = list(set(costanzo_unique['a'].append(costanzo_unique['b'])))"
   ]
  },
  {
   "cell_type": "code",
   "execution_count": 153,
   "metadata": {
    "hidden": true
   },
   "outputs": [
    {
     "data": {
      "text/plain": [
       "5293"
      ]
     },
     "execution_count": 153,
     "metadata": {},
     "output_type": "execute_result"
    }
   ],
   "source": [
    "len(costanzo_genes)"
   ]
  },
  {
   "cell_type": "code",
   "execution_count": 154,
   "metadata": {
    "hidden": true
   },
   "outputs": [
    {
     "data": {
      "text/plain": [
       "5293"
      ]
     },
     "execution_count": 154,
     "metadata": {},
     "output_type": "execute_result"
    }
   ],
   "source": [
    "len(costanzo_genes)"
   ]
  },
  {
   "cell_type": "code",
   "execution_count": 155,
   "metadata": {
    "hidden": true
   },
   "outputs": [
    {
     "data": {
      "text/plain": [
       "3307"
      ]
     },
     "execution_count": 155,
     "metadata": {},
     "output_type": "execute_result"
    }
   ],
   "source": [
    "len(gene_names)"
   ]
  },
  {
   "cell_type": "code",
   "execution_count": 156,
   "metadata": {
    "hidden": true
   },
   "outputs": [
    {
     "data": {
      "text/plain": [
       "5646"
      ]
     },
     "execution_count": 156,
     "metadata": {},
     "output_type": "execute_result"
    }
   ],
   "source": [
    "len(set(costanzo_genes + gene_names))"
   ]
  },
  {
   "cell_type": "code",
   "execution_count": 148,
   "metadata": {
    "hidden": true
   },
   "outputs": [
    {
     "data": {
      "text/plain": [
       "2131"
      ]
     },
     "execution_count": 148,
     "metadata": {},
     "output_type": "execute_result"
    }
   ],
   "source": [
    "3885 + 3307 - 5061"
   ]
  },
  {
   "cell_type": "code",
   "execution_count": 157,
   "metadata": {
    "hidden": true
   },
   "outputs": [
    {
     "data": {
      "text/plain": [
       "2954"
      ]
     },
     "execution_count": 157,
     "metadata": {},
     "output_type": "execute_result"
    }
   ],
   "source": [
    "5293 + 3307 - 5646"
   ]
  },
  {
   "cell_type": "code",
   "execution_count": 158,
   "metadata": {
    "hidden": true
   },
   "outputs": [
    {
     "data": {
      "text/plain": [
       "0.0090775"
      ]
     },
     "execution_count": 158,
     "metadata": {},
     "output_type": "execute_result"
    }
   ],
   "source": [
    "326790/(6000**2)"
   ]
  },
  {
   "cell_type": "code",
   "execution_count": null,
   "metadata": {
    "hidden": true
   },
   "outputs": [],
   "source": []
  }
 ],
 "metadata": {
  "kernelspec": {
   "display_name": "Python 3",
   "language": "python",
   "name": "python3"
  },
  "language_info": {
   "codemirror_mode": {
    "name": "ipython",
    "version": 3
   },
   "file_extension": ".py",
   "mimetype": "text/x-python",
   "name": "python",
   "nbconvert_exporter": "python",
   "pygments_lexer": "ipython3",
   "version": "3.7.6"
  },
  "latex_envs": {
   "LaTeX_envs_menu_present": true,
   "autoclose": false,
   "autocomplete": true,
   "bibliofile": "biblio.bib",
   "cite_by": "apalike",
   "current_citInitial": 1,
   "eqLabelWithNumbers": true,
   "eqNumInitial": 1,
   "hotkeys": {
    "equation": "Ctrl-E",
    "itemize": "Ctrl-I"
   },
   "labels_anchors": false,
   "latex_user_defs": false,
   "report_style_numbering": false,
   "user_envs_cfg": false
  },
  "toc": {
   "nav_menu": {},
   "number_sections": true,
   "sideBar": true,
   "skip_h1_title": false,
   "toc_cell": false,
   "toc_position": {},
   "toc_section_display": true,
   "toc_window_display": false
  },
  "varInspector": {
   "cols": {
    "lenName": 16,
    "lenType": 16,
    "lenVar": 40
   },
   "kernels_config": {
    "python": {
     "delete_cmd_postfix": "",
     "delete_cmd_prefix": "del ",
     "library": "var_list.py",
     "varRefreshCmd": "print(var_dic_list())"
    },
    "r": {
     "delete_cmd_postfix": ") ",
     "delete_cmd_prefix": "rm(",
     "library": "var_list.r",
     "varRefreshCmd": "cat(var_dic_list()) "
    }
   },
   "position": {
    "height": "581px",
    "left": "954px",
    "right": "20px",
    "top": "120px",
    "width": "350px"
   },
   "types_to_exclude": [
    "module",
    "function",
    "builtin_function_or_method",
    "instance",
    "_Feature"
   ],
   "window_display": false
  }
 },
 "nbformat": 4,
 "nbformat_minor": 4
}
