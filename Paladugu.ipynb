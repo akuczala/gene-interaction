{
 "cells": [
  {
   "cell_type": "code",
   "execution_count": 29,
   "metadata": {},
   "outputs": [],
   "source": [
    "import pandas as pd\n",
    "import numpy as np\n",
    "import matplotlib.pyplot as plt\n",
    "import scipy.linalg as lin\n",
    "import scipy.sparse.linalg as slin\n",
    "import itertools\n",
    "import sklearn\n",
    "from IPython.display import display_markdown, Markdown\n",
    "%matplotlib inline"
   ]
  },
  {
   "cell_type": "markdown",
   "metadata": {},
   "source": [
    "# read data"
   ]
  },
  {
   "cell_type": "markdown",
   "metadata": {
    "heading_collapsed": true
   },
   "source": [
    "## read Reguly 06 data"
   ]
  },
  {
   "cell_type": "code",
   "execution_count": 2,
   "metadata": {
    "hidden": true
   },
   "outputs": [
    {
     "data": {
      "text/html": [
       "<div>\n",
       "<style scoped>\n",
       "    .dataframe tbody tr th:only-of-type {\n",
       "        vertical-align: middle;\n",
       "    }\n",
       "\n",
       "    .dataframe tbody tr th {\n",
       "        vertical-align: top;\n",
       "    }\n",
       "\n",
       "    .dataframe thead th {\n",
       "        text-align: right;\n",
       "    }\n",
       "</style>\n",
       "<table border=\"1\" class=\"dataframe\">\n",
       "  <thead>\n",
       "    <tr style=\"text-align: right;\">\n",
       "      <th></th>\n",
       "      <th>Bait gene/protein</th>\n",
       "      <th>Hit gene/protein</th>\n",
       "      <th>Bait Standard Name</th>\n",
       "      <th>Hit Standard Name</th>\n",
       "      <th>Experimental System</th>\n",
       "      <th>Source</th>\n",
       "      <th>PubMed ID</th>\n",
       "    </tr>\n",
       "  </thead>\n",
       "  <tbody>\n",
       "    <tr>\n",
       "      <th>0</th>\n",
       "      <td>YBR236C</td>\n",
       "      <td>YML010W</td>\n",
       "      <td>ABD1</td>\n",
       "      <td>SPT5</td>\n",
       "      <td>Affinity Capture-MS</td>\n",
       "      <td>Lindstrom DL et al</td>\n",
       "      <td>12556496</td>\n",
       "    </tr>\n",
       "  </tbody>\n",
       "</table>\n",
       "</div>"
      ],
      "text/plain": [
       "  Bait gene/protein Hit gene/protein Bait Standard Name Hit Standard Name  \\\n",
       "0           YBR236C          YML010W               ABD1              SPT5   \n",
       "\n",
       "   Experimental System              Source  PubMed ID  \n",
       "0  Affinity Capture-MS  Lindstrom DL et al   12556496  "
      ]
     },
     "execution_count": 2,
     "metadata": {},
     "output_type": "execute_result"
    }
   ],
   "source": [
    "pd.read_csv('data/yeast/reguly06/LC_BIOCHEMICAL_011906_MinusRNA.txt',sep='\\t', nrows = 1)\n"
   ]
  },
  {
   "cell_type": "code",
   "execution_count": 2,
   "metadata": {
    "hidden": true
   },
   "outputs": [
    {
     "data": {
      "text/html": [
       "<div>\n",
       "<style scoped>\n",
       "    .dataframe tbody tr th:only-of-type {\n",
       "        vertical-align: middle;\n",
       "    }\n",
       "\n",
       "    .dataframe tbody tr th {\n",
       "        vertical-align: top;\n",
       "    }\n",
       "\n",
       "    .dataframe thead th {\n",
       "        text-align: right;\n",
       "    }\n",
       "</style>\n",
       "<table border=\"1\" class=\"dataframe\">\n",
       "  <thead>\n",
       "    <tr style=\"text-align: right;\">\n",
       "      <th></th>\n",
       "      <th>bait</th>\n",
       "      <th>hit</th>\n",
       "    </tr>\n",
       "  </thead>\n",
       "  <tbody>\n",
       "    <tr>\n",
       "      <th>0</th>\n",
       "      <td>YBR236C</td>\n",
       "      <td>YML010W</td>\n",
       "    </tr>\n",
       "    <tr>\n",
       "      <th>1</th>\n",
       "      <td>YML010W</td>\n",
       "      <td>YBR236C</td>\n",
       "    </tr>\n",
       "    <tr>\n",
       "      <th>2</th>\n",
       "      <td>YDR448W</td>\n",
       "      <td>YPL254W</td>\n",
       "    </tr>\n",
       "    <tr>\n",
       "      <th>3</th>\n",
       "      <td>YDR448W</td>\n",
       "      <td>YDR176W</td>\n",
       "    </tr>\n",
       "    <tr>\n",
       "      <th>4</th>\n",
       "      <td>YDR448W</td>\n",
       "      <td>YOR257W</td>\n",
       "    </tr>\n",
       "    <tr>\n",
       "      <th>...</th>\n",
       "      <td>...</td>\n",
       "      <td>...</td>\n",
       "    </tr>\n",
       "    <tr>\n",
       "      <th>21130</th>\n",
       "      <td>YKL138C-A</td>\n",
       "      <td>YDR201W</td>\n",
       "    </tr>\n",
       "    <tr>\n",
       "      <th>21131</th>\n",
       "      <td>YKL138C-A</td>\n",
       "      <td>YKR083C</td>\n",
       "    </tr>\n",
       "    <tr>\n",
       "      <th>21132</th>\n",
       "      <td>YKL138C-A</td>\n",
       "      <td>YDR016C</td>\n",
       "    </tr>\n",
       "    <tr>\n",
       "      <th>21133</th>\n",
       "      <td>YKL138C-A</td>\n",
       "      <td>YBR233W-A</td>\n",
       "    </tr>\n",
       "    <tr>\n",
       "      <th>21134</th>\n",
       "      <td>YKL138C-A</td>\n",
       "      <td>YDR320C-A</td>\n",
       "    </tr>\n",
       "  </tbody>\n",
       "</table>\n",
       "<p>21135 rows × 2 columns</p>\n",
       "</div>"
      ],
      "text/plain": [
       "            bait        hit\n",
       "0        YBR236C    YML010W\n",
       "1        YML010W    YBR236C\n",
       "2        YDR448W    YPL254W\n",
       "3        YDR448W    YDR176W\n",
       "4        YDR448W    YOR257W\n",
       "...          ...        ...\n",
       "21130  YKL138C-A    YDR201W\n",
       "21131  YKL138C-A    YKR083C\n",
       "21132  YKL138C-A    YDR016C\n",
       "21133  YKL138C-A  YBR233W-A\n",
       "21134  YKL138C-A  YDR320C-A\n",
       "\n",
       "[21135 rows x 2 columns]"
      ]
     },
     "metadata": {},
     "output_type": "display_data"
    },
    {
     "name": "stdout",
     "output_type": "stream",
     "text": [
      "6966 duplicates\n",
      "14169 unique\n"
     ]
    }
   ],
   "source": [
    "usecols = 'Bait gene/protein,Hit gene/protein'.split(',')\n",
    "colnames = 'bait,hit'.split(',')\n",
    "reguly = pd.read_csv('data/yeast/reguly06/LC_BIOCHEMICAL_011906_MinusRNA.txt',sep='\\t', usecols = usecols,\n",
    "                     dtype=\"str\")\n",
    "reguly = reguly.rename(columns={k : v for k,v in zip(usecols,colnames)})\n",
    "display(reguly)\n",
    "print(np.count_nonzero(reguly.duplicated()), 'duplicates')\n",
    "print(len(reguly) - np.count_nonzero(reguly.duplicated()), 'unique')"
   ]
  },
  {
   "cell_type": "code",
   "execution_count": 3,
   "metadata": {
    "hidden": true
   },
   "outputs": [
    {
     "data": {
      "text/html": [
       "<div>\n",
       "<style scoped>\n",
       "    .dataframe tbody tr th:only-of-type {\n",
       "        vertical-align: middle;\n",
       "    }\n",
       "\n",
       "    .dataframe tbody tr th {\n",
       "        vertical-align: top;\n",
       "    }\n",
       "\n",
       "    .dataframe thead th {\n",
       "        text-align: right;\n",
       "    }\n",
       "</style>\n",
       "<table border=\"1\" class=\"dataframe\">\n",
       "  <thead>\n",
       "    <tr style=\"text-align: right;\">\n",
       "      <th></th>\n",
       "      <th>a</th>\n",
       "      <th>b</th>\n",
       "    </tr>\n",
       "  </thead>\n",
       "  <tbody>\n",
       "    <tr>\n",
       "      <th>0</th>\n",
       "      <td>YBR236C</td>\n",
       "      <td>YML010W</td>\n",
       "    </tr>\n",
       "    <tr>\n",
       "      <th>1</th>\n",
       "      <td>YBR236C</td>\n",
       "      <td>YML010W</td>\n",
       "    </tr>\n",
       "    <tr>\n",
       "      <th>2</th>\n",
       "      <td>YDR448W</td>\n",
       "      <td>YPL254W</td>\n",
       "    </tr>\n",
       "    <tr>\n",
       "      <th>3</th>\n",
       "      <td>YDR176W</td>\n",
       "      <td>YDR448W</td>\n",
       "    </tr>\n",
       "    <tr>\n",
       "      <th>4</th>\n",
       "      <td>YDR448W</td>\n",
       "      <td>YOR257W</td>\n",
       "    </tr>\n",
       "    <tr>\n",
       "      <th>...</th>\n",
       "      <td>...</td>\n",
       "      <td>...</td>\n",
       "    </tr>\n",
       "    <tr>\n",
       "      <th>21130</th>\n",
       "      <td>YDR201W</td>\n",
       "      <td>YKL138C-A</td>\n",
       "    </tr>\n",
       "    <tr>\n",
       "      <th>21131</th>\n",
       "      <td>YKL138C-A</td>\n",
       "      <td>YKR083C</td>\n",
       "    </tr>\n",
       "    <tr>\n",
       "      <th>21132</th>\n",
       "      <td>YDR016C</td>\n",
       "      <td>YKL138C-A</td>\n",
       "    </tr>\n",
       "    <tr>\n",
       "      <th>21133</th>\n",
       "      <td>YBR233W-A</td>\n",
       "      <td>YKL138C-A</td>\n",
       "    </tr>\n",
       "    <tr>\n",
       "      <th>21134</th>\n",
       "      <td>YDR320C-A</td>\n",
       "      <td>YKL138C-A</td>\n",
       "    </tr>\n",
       "  </tbody>\n",
       "</table>\n",
       "<p>21135 rows × 2 columns</p>\n",
       "</div>"
      ],
      "text/plain": [
       "               a          b\n",
       "0        YBR236C    YML010W\n",
       "1        YBR236C    YML010W\n",
       "2        YDR448W    YPL254W\n",
       "3        YDR176W    YDR448W\n",
       "4        YDR448W    YOR257W\n",
       "...          ...        ...\n",
       "21130    YDR201W  YKL138C-A\n",
       "21131  YKL138C-A    YKR083C\n",
       "21132    YDR016C  YKL138C-A\n",
       "21133  YBR233W-A  YKL138C-A\n",
       "21134  YDR320C-A  YKL138C-A\n",
       "\n",
       "[21135 rows x 2 columns]"
      ]
     },
     "metadata": {},
     "output_type": "display_data"
    },
    {
     "name": "stdout",
     "output_type": "stream",
     "text": [
      "9277 duplicates\n",
      "11858 unique\n"
     ]
    }
   ],
   "source": [
    "# sort each (bait, hit) row since we are only interested in undirected edges\n",
    "# this will cause transposes to look like duplicates, which then get removed\n",
    "pint = pd.DataFrame(np.sort(reguly,axis=1),columns=['a','b'])\n",
    "display(pint)\n",
    "duplicated = pint.duplicated()\n",
    "print(np.count_nonzero(duplicated), 'duplicates')\n",
    "pint = pint[~duplicated]\n",
    "print(len(pint), 'unique')"
   ]
  },
  {
   "cell_type": "code",
   "execution_count": 4,
   "metadata": {
    "hidden": true
   },
   "outputs": [
    {
     "name": "stdout",
     "output_type": "stream",
     "text": [
      "3307 genes\n"
     ]
    }
   ],
   "source": [
    "gene_names = list(set(pint['a'].append(pint['b']))) #find unique gene names\n",
    "gene_names.sort()\n",
    "n_genes = len(gene_names)\n",
    "print(n_genes,'genes')\n",
    "gene_name_hash = {k : v for k,v in zip(gene_names,range(len(gene_names)))}"
   ]
  },
  {
   "cell_type": "code",
   "execution_count": 198,
   "metadata": {
    "hidden": true
   },
   "outputs": [
    {
     "data": {
      "text/plain": [
       "0     Q0045\n",
       "1     Q0080\n",
       "2     Q0085\n",
       "3     Q0105\n",
       "4     Q0115\n",
       "5     Q0120\n",
       "6     Q0130\n",
       "7     Q0140\n",
       "8     Q0160\n",
       "9     Q0250\n",
       "10    Q0275\n",
       "dtype: object"
      ]
     },
     "execution_count": 198,
     "metadata": {},
     "output_type": "execute_result"
    }
   ],
   "source": [
    "#look for mitochondrial genes?\n",
    "gene_series = pd.Series(gene_names)\n",
    "gene_series[gene_series.str.match(r'Q.*')]"
   ]
  },
  {
   "cell_type": "code",
   "execution_count": 5,
   "metadata": {
    "hidden": true
   },
   "outputs": [
    {
     "name": "stderr",
     "output_type": "stream",
     "text": [
      "/home/akuczala/miniconda3/lib/python3.7/site-packages/scipy/sparse/_index.py:126: SparseEfficiencyWarning: Changing the sparsity structure of a csc_matrix is expensive. lil_matrix is more efficient.\n",
      "  self._set_arrayXarray(i, j, x)\n"
     ]
    }
   ],
   "source": [
    "import scipy.sparse as sparse\n",
    "ai = pint.loc[:,'a'].apply(lambda x: gene_name_hash[x])\n",
    "bi = pint.loc[:,'b'].apply(lambda x: gene_name_hash[x])\n",
    "#define upper triangle of protein interaction matrix\n",
    "pi_ut_coo = sparse.coo_matrix((np.ones(len(pint)),(ai,bi)),shape = (n_genes,n_genes))\n",
    "#convert to csc for efficiency and flexibility\n",
    "pi_csc = sparse.csc_matrix(pi_ut_coo,dtype=np.int)\n",
    "#symmetrize csc matrix\n",
    "rows, cols = pi_csc.nonzero()\n",
    "pi_csc[cols, rows] = pi_csc[rows, cols]"
   ]
  },
  {
   "cell_type": "markdown",
   "metadata": {
    "hidden": true
   },
   "source": [
    "According to Paladugu, there are 3289 proteins and 11334 interactions (excluding mitochrondrial genes)"
   ]
  },
  {
   "cell_type": "code",
   "execution_count": 6,
   "metadata": {
    "hidden": true
   },
   "outputs": [
    {
     "name": "stdout",
     "output_type": "stream",
     "text": [
      "3307 genes 11858 interactions\n"
     ]
    }
   ],
   "source": [
    "print(n_genes,\"genes\",len(ai),\"interactions\")"
   ]
  },
  {
   "cell_type": "markdown",
   "metadata": {
    "heading_collapsed": true,
    "hidden": true
   },
   "source": [
    "### visualization"
   ]
  },
  {
   "cell_type": "code",
   "execution_count": 44,
   "metadata": {
    "hidden": true
   },
   "outputs": [
    {
     "data": {
      "text/plain": [
       "<matplotlib.image.AxesImage at 0x7f93dbcfce90>"
      ]
     },
     "execution_count": 44,
     "metadata": {},
     "output_type": "execute_result"
    },
    {
     "data": {
      "image/png": "[encoded data removed]",
      "text/plain": [
       "<Figure size 432x288 with 1 Axes>"
      ]
     },
     "metadata": {
      "needs_background": "light"
     },
     "output_type": "display_data"
    }
   ],
   "source": [
    "pi_dense = pi_csc.toarray()\n",
    "plt.imshow(pi_dense,cmap='gray_r')"
   ]
  },
  {
   "cell_type": "code",
   "execution_count": 51,
   "metadata": {
    "hidden": true
   },
   "outputs": [
    {
     "data": {
      "image/png": "[encoded data removed]",
      "text/plain": [
       "<Figure size 432x288 with 1 Axes>"
      ]
     },
     "metadata": {},
     "output_type": "display_data"
    }
   ],
   "source": [
    "import networkx as nx\n",
    "pi_graph = nx.from_scipy_sparse_matrix(pi_csc)\n",
    "nx.draw(pi_graph)"
   ]
  },
  {
   "cell_type": "code",
   "execution_count": 49,
   "metadata": {
    "hidden": true
   },
   "outputs": [
    {
     "data": {
      "text/plain": [
       "524"
      ]
     },
     "execution_count": 49,
     "metadata": {},
     "output_type": "execute_result"
    }
   ],
   "source": [
    "np.count_nonzero(np.diag(pi_dense))"
   ]
  },
  {
   "cell_type": "code",
   "execution_count": 40,
   "metadata": {
    "hidden": true
   },
   "outputs": [
    {
     "data": {
      "image/png": "[encoded data removed]",
      "text/plain": [
       "<Figure size 432x288 with 1 Axes>"
      ]
     },
     "metadata": {},
     "output_type": "display_data"
    }
   ],
   "source": []
  },
  {
   "cell_type": "code",
   "execution_count": 17,
   "metadata": {
    "hidden": true
   },
   "outputs": [
    {
     "data": {
      "text/plain": [
       "<0x3307 sparse matrix of type '<class 'numpy.float64'>'\n",
       "\twith 0 stored elements in Compressed Sparse Row format>"
      ]
     },
     "execution_count": 17,
     "metadata": {},
     "output_type": "execute_result"
    }
   ],
   "source": [
    "cluster_model.cluster_centers_"
   ]
  },
  {
   "cell_type": "markdown",
   "metadata": {
    "heading_collapsed": true
   },
   "source": [
    "## read Costanzo 10 or 16 data"
   ]
  },
  {
   "cell_type": "code",
   "execution_count": 52,
   "metadata": {
    "hidden": true,
    "scrolled": true
   },
   "outputs": [
    {
     "data": {
      "text/html": [
       "<div>\n",
       "<style scoped>\n",
       "    .dataframe tbody tr th:only-of-type {\n",
       "        vertical-align: middle;\n",
       "    }\n",
       "\n",
       "    .dataframe tbody tr th {\n",
       "        vertical-align: top;\n",
       "    }\n",
       "\n",
       "    .dataframe thead th {\n",
       "        text-align: right;\n",
       "    }\n",
       "</style>\n",
       "<table border=\"1\" class=\"dataframe\">\n",
       "  <thead>\n",
       "    <tr style=\"text-align: right;\">\n",
       "      <th></th>\n",
       "      <th>#BioGRID Interaction ID</th>\n",
       "      <th>Entrez Gene Interactor A</th>\n",
       "      <th>Entrez Gene Interactor B</th>\n",
       "      <th>BioGRID ID Interactor A</th>\n",
       "      <th>BioGRID ID Interactor B</th>\n",
       "      <th>Systematic Name Interactor A</th>\n",
       "      <th>Systematic Name Interactor B</th>\n",
       "      <th>Official Symbol Interactor A</th>\n",
       "      <th>Official Symbol Interactor B</th>\n",
       "      <th>Synonyms Interactor A</th>\n",
       "      <th>...</th>\n",
       "      <th>Pubmed ID</th>\n",
       "      <th>Organism Interactor A</th>\n",
       "      <th>Organism Interactor B</th>\n",
       "      <th>Throughput</th>\n",
       "      <th>Score</th>\n",
       "      <th>Modification</th>\n",
       "      <th>Phenotypes</th>\n",
       "      <th>Qualifications</th>\n",
       "      <th>Tags</th>\n",
       "      <th>Source Database</th>\n",
       "    </tr>\n",
       "  </thead>\n",
       "  <tbody>\n",
       "    <tr>\n",
       "      <th>0</th>\n",
       "      <td>354378</td>\n",
       "      <td>851236</td>\n",
       "      <td>850395</td>\n",
       "      <td>31767</td>\n",
       "      <td>31012</td>\n",
       "      <td>YAL063C</td>\n",
       "      <td>YCR028C-A</td>\n",
       "      <td>FLO9</td>\n",
       "      <td>RIM1</td>\n",
       "      <td>flocculin FLO9|L000003331</td>\n",
       "      <td>...</td>\n",
       "      <td>20093466</td>\n",
       "      <td>559292</td>\n",
       "      <td>559292</td>\n",
       "      <td>High Throughput</td>\n",
       "      <td>-0.1969</td>\n",
       "      <td>-</td>\n",
       "      <td>colony size</td>\n",
       "      <td>A Synthetic Genetic Array (SGA) analysis was c...</td>\n",
       "      <td>-</td>\n",
       "      <td>BIOGRID</td>\n",
       "    </tr>\n",
       "  </tbody>\n",
       "</table>\n",
       "<p>1 rows × 24 columns</p>\n",
       "</div>"
      ],
      "text/plain": [
       "   #BioGRID Interaction ID  Entrez Gene Interactor A  \\\n",
       "0                   354378                    851236   \n",
       "\n",
       "   Entrez Gene Interactor B  BioGRID ID Interactor A  BioGRID ID Interactor B  \\\n",
       "0                    850395                    31767                    31012   \n",
       "\n",
       "  Systematic Name Interactor A Systematic Name Interactor B  \\\n",
       "0                      YAL063C                    YCR028C-A   \n",
       "\n",
       "  Official Symbol Interactor A Official Symbol Interactor B  \\\n",
       "0                         FLO9                         RIM1   \n",
       "\n",
       "       Synonyms Interactor A  ... Pubmed ID Organism Interactor A  \\\n",
       "0  flocculin FLO9|L000003331  ...  20093466                559292   \n",
       "\n",
       "  Organism Interactor B       Throughput   Score  Modification   Phenotypes  \\\n",
       "0                559292  High Throughput -0.1969             -  colony size   \n",
       "\n",
       "                                      Qualifications  Tags Source Database  \n",
       "0  A Synthetic Genetic Array (SGA) analysis was c...     -         BIOGRID  \n",
       "\n",
       "[1 rows x 24 columns]"
      ]
     },
     "execution_count": 52,
     "metadata": {},
     "output_type": "execute_result"
    }
   ],
   "source": [
    "pd.read_csv('data/yeast/costanzo10.txt',sep='\\t', nrows = 1)"
   ]
  },
  {
   "cell_type": "code",
   "execution_count": 7,
   "metadata": {
    "hidden": true,
    "scrolled": false
   },
   "outputs": [
    {
     "data": {
      "text/html": [
       "<div>\n",
       "<style scoped>\n",
       "    .dataframe tbody tr th:only-of-type {\n",
       "        vertical-align: middle;\n",
       "    }\n",
       "\n",
       "    .dataframe tbody tr th {\n",
       "        vertical-align: top;\n",
       "    }\n",
       "\n",
       "    .dataframe thead th {\n",
       "        text-align: right;\n",
       "    }\n",
       "</style>\n",
       "<table border=\"1\" class=\"dataframe\">\n",
       "  <thead>\n",
       "    <tr style=\"text-align: right;\">\n",
       "      <th></th>\n",
       "      <th>a</th>\n",
       "      <th>b</th>\n",
       "      <th>score</th>\n",
       "    </tr>\n",
       "  </thead>\n",
       "  <tbody>\n",
       "    <tr>\n",
       "      <th>0</th>\n",
       "      <td>YAL001C</td>\n",
       "      <td>YDL126C</td>\n",
       "      <td>0.1745</td>\n",
       "    </tr>\n",
       "    <tr>\n",
       "      <th>1</th>\n",
       "      <td>YAL001C</td>\n",
       "      <td>YDL145C</td>\n",
       "      <td>0.1957</td>\n",
       "    </tr>\n",
       "    <tr>\n",
       "      <th>2</th>\n",
       "      <td>YAL001C</td>\n",
       "      <td>YDR238C</td>\n",
       "      <td>0.2682</td>\n",
       "    </tr>\n",
       "    <tr>\n",
       "      <th>3</th>\n",
       "      <td>YAL001C</td>\n",
       "      <td>YDR280W</td>\n",
       "      <td>0.2291</td>\n",
       "    </tr>\n",
       "    <tr>\n",
       "      <th>4</th>\n",
       "      <td>YAL001C</td>\n",
       "      <td>YDR292C</td>\n",
       "      <td>0.1834</td>\n",
       "    </tr>\n",
       "    <tr>\n",
       "      <th>...</th>\n",
       "      <td>...</td>\n",
       "      <td>...</td>\n",
       "      <td>...</td>\n",
       "    </tr>\n",
       "    <tr>\n",
       "      <th>326785</th>\n",
       "      <td>YPR201W</td>\n",
       "      <td>YOR140W</td>\n",
       "      <td>-0.1497</td>\n",
       "    </tr>\n",
       "    <tr>\n",
       "      <th>326786</th>\n",
       "      <td>YPR201W</td>\n",
       "      <td>YOR270C</td>\n",
       "      <td>-0.1228</td>\n",
       "    </tr>\n",
       "    <tr>\n",
       "      <th>326787</th>\n",
       "      <td>YPR201W</td>\n",
       "      <td>YPL101W</td>\n",
       "      <td>-0.1839</td>\n",
       "    </tr>\n",
       "    <tr>\n",
       "      <th>326788</th>\n",
       "      <td>YPR201W</td>\n",
       "      <td>YPL106C</td>\n",
       "      <td>-0.1640</td>\n",
       "    </tr>\n",
       "    <tr>\n",
       "      <th>326789</th>\n",
       "      <td>YPR201W</td>\n",
       "      <td>YPL213W</td>\n",
       "      <td>-0.1576</td>\n",
       "    </tr>\n",
       "  </tbody>\n",
       "</table>\n",
       "<p>326790 rows × 3 columns</p>\n",
       "</div>"
      ],
      "text/plain": [
       "              a        b   score\n",
       "0       YAL001C  YDL126C  0.1745\n",
       "1       YAL001C  YDL145C  0.1957\n",
       "2       YAL001C  YDR238C  0.2682\n",
       "3       YAL001C  YDR280W  0.2291\n",
       "4       YAL001C  YDR292C  0.1834\n",
       "...         ...      ...     ...\n",
       "326785  YPR201W  YOR140W -0.1497\n",
       "326786  YPR201W  YOR270C -0.1228\n",
       "326787  YPR201W  YPL101W -0.1839\n",
       "326788  YPR201W  YPL106C -0.1640\n",
       "326789  YPR201W  YPL213W -0.1576\n",
       "\n",
       "[326790 rows x 3 columns]"
      ]
     },
     "execution_count": 7,
     "metadata": {},
     "output_type": "execute_result"
    }
   ],
   "source": [
    "usecols = 'Systematic Name Interactor A,Systematic Name Interactor B,Score'.split(',')\n",
    "names = {k : v for k,v in zip(usecols,'a,b,score'.split(','))}\n",
    "\n",
    "costanzo = pd.read_csv('data/yeast/costanzo16.tab2',\n",
    "                 sep='\\t', usecols = usecols,\n",
    "                 dtype = {k : v for k,v in zip(usecols,[np.str,np.str,np.float])},\n",
    "                na_values = ['-'])\n",
    "costanzo = costanzo.rename(columns = names)\n",
    "costanzo"
   ]
  },
  {
   "cell_type": "code",
   "execution_count": 8,
   "metadata": {
    "hidden": true
   },
   "outputs": [
    {
     "name": "stdout",
     "output_type": "stream",
     "text": [
      "1156 duplicates\n",
      "325634 unique\n"
     ]
    }
   ],
   "source": [
    "duplicated = costanzo.drop('score',axis=1).duplicated()\n",
    "print(np.count_nonzero(duplicated), 'duplicates')\n",
    "costanzo_unique = costanzo[~duplicated]\n",
    "print(len(costanzo_unique),'unique')"
   ]
  },
  {
   "cell_type": "code",
   "execution_count": 204,
   "metadata": {
    "hidden": true
   },
   "outputs": [
    {
     "data": {
      "text/html": [
       "<div>\n",
       "<style scoped>\n",
       "    .dataframe tbody tr th:only-of-type {\n",
       "        vertical-align: middle;\n",
       "    }\n",
       "\n",
       "    .dataframe tbody tr th {\n",
       "        vertical-align: top;\n",
       "    }\n",
       "\n",
       "    .dataframe thead th {\n",
       "        text-align: right;\n",
       "    }\n",
       "</style>\n",
       "<table border=\"1\" class=\"dataframe\">\n",
       "  <thead>\n",
       "    <tr style=\"text-align: right;\">\n",
       "      <th></th>\n",
       "      <th>a</th>\n",
       "      <th>b</th>\n",
       "      <th>score</th>\n",
       "    </tr>\n",
       "  </thead>\n",
       "  <tbody>\n",
       "  </tbody>\n",
       "</table>\n",
       "</div>"
      ],
      "text/plain": [
       "Empty DataFrame\n",
       "Columns: [a, b, score]\n",
       "Index: []"
      ]
     },
     "execution_count": 204,
     "metadata": {},
     "output_type": "execute_result"
    }
   ],
   "source": [
    "#attempt to find mitochondrial genes?\n",
    "costanzo_unique[costanzo_unique.a.str.match(r't.*')]"
   ]
  },
  {
   "cell_type": "markdown",
   "metadata": {},
   "source": [
    "## assign indices to gene interaction network"
   ]
  },
  {
   "cell_type": "code",
   "execution_count": 9,
   "metadata": {},
   "outputs": [],
   "source": [
    "def hashbrown(name):\n",
    "    try:\n",
    "        return gene_name_hash[name]\n",
    "    except:\n",
    "        return -1"
   ]
  },
  {
   "cell_type": "markdown",
   "metadata": {},
   "source": [
    "Build gene interaction dataframe `gint`"
   ]
  },
  {
   "cell_type": "code",
   "execution_count": 10,
   "metadata": {},
   "outputs": [
    {
     "data": {
      "text/html": [
       "<div>\n",
       "<style scoped>\n",
       "    .dataframe tbody tr th:only-of-type {\n",
       "        vertical-align: middle;\n",
       "    }\n",
       "\n",
       "    .dataframe tbody tr th {\n",
       "        vertical-align: top;\n",
       "    }\n",
       "\n",
       "    .dataframe thead tr th {\n",
       "        text-align: left;\n",
       "    }\n",
       "</style>\n",
       "<table border=\"1\" class=\"dataframe\">\n",
       "  <thead>\n",
       "    <tr>\n",
       "      <th></th>\n",
       "      <th>a</th>\n",
       "      <th>b</th>\n",
       "      <th>a</th>\n",
       "      <th>b</th>\n",
       "      <th>score</th>\n",
       "    </tr>\n",
       "    <tr>\n",
       "      <th></th>\n",
       "      <th>i</th>\n",
       "      <th>i</th>\n",
       "      <th>name</th>\n",
       "      <th>name</th>\n",
       "      <th></th>\n",
       "    </tr>\n",
       "  </thead>\n",
       "  <tbody>\n",
       "    <tr>\n",
       "      <th>0</th>\n",
       "      <td>11</td>\n",
       "      <td>445</td>\n",
       "      <td>YAL001C</td>\n",
       "      <td>YDL126C</td>\n",
       "      <td>0.1745</td>\n",
       "    </tr>\n",
       "    <tr>\n",
       "      <th>1</th>\n",
       "      <td>11</td>\n",
       "      <td>459</td>\n",
       "      <td>YAL001C</td>\n",
       "      <td>YDL145C</td>\n",
       "      <td>0.1957</td>\n",
       "    </tr>\n",
       "    <tr>\n",
       "      <th>2</th>\n",
       "      <td>11</td>\n",
       "      <td>653</td>\n",
       "      <td>YAL001C</td>\n",
       "      <td>YDR238C</td>\n",
       "      <td>0.2682</td>\n",
       "    </tr>\n",
       "    <tr>\n",
       "      <th>3</th>\n",
       "      <td>11</td>\n",
       "      <td>669</td>\n",
       "      <td>YAL001C</td>\n",
       "      <td>YDR280W</td>\n",
       "      <td>0.2291</td>\n",
       "    </tr>\n",
       "    <tr>\n",
       "      <th>4</th>\n",
       "      <td>11</td>\n",
       "      <td>674</td>\n",
       "      <td>YAL001C</td>\n",
       "      <td>YDR292C</td>\n",
       "      <td>0.1834</td>\n",
       "    </tr>\n",
       "    <tr>\n",
       "      <th>...</th>\n",
       "      <td>...</td>\n",
       "      <td>...</td>\n",
       "      <td>...</td>\n",
       "      <td>...</td>\n",
       "      <td>...</td>\n",
       "    </tr>\n",
       "    <tr>\n",
       "      <th>326785</th>\n",
       "      <td>3306</td>\n",
       "      <td>2922</td>\n",
       "      <td>YPR201W</td>\n",
       "      <td>YOR140W</td>\n",
       "      <td>-0.1497</td>\n",
       "    </tr>\n",
       "    <tr>\n",
       "      <th>326786</th>\n",
       "      <td>3306</td>\n",
       "      <td>2995</td>\n",
       "      <td>YPR201W</td>\n",
       "      <td>YOR270C</td>\n",
       "      <td>-0.1228</td>\n",
       "    </tr>\n",
       "    <tr>\n",
       "      <th>326787</th>\n",
       "      <td>3306</td>\n",
       "      <td>3105</td>\n",
       "      <td>YPR201W</td>\n",
       "      <td>YPL101W</td>\n",
       "      <td>-0.1839</td>\n",
       "    </tr>\n",
       "    <tr>\n",
       "      <th>326788</th>\n",
       "      <td>3306</td>\n",
       "      <td>3107</td>\n",
       "      <td>YPR201W</td>\n",
       "      <td>YPL106C</td>\n",
       "      <td>-0.1640</td>\n",
       "    </tr>\n",
       "    <tr>\n",
       "      <th>326789</th>\n",
       "      <td>3306</td>\n",
       "      <td>3168</td>\n",
       "      <td>YPR201W</td>\n",
       "      <td>YPL213W</td>\n",
       "      <td>-0.1576</td>\n",
       "    </tr>\n",
       "  </tbody>\n",
       "</table>\n",
       "<p>173469 rows × 5 columns</p>\n",
       "</div>"
      ],
      "text/plain": [
       "           a     b        a        b   score\n",
       "           i     i     name     name        \n",
       "0         11   445  YAL001C  YDL126C  0.1745\n",
       "1         11   459  YAL001C  YDL145C  0.1957\n",
       "2         11   653  YAL001C  YDR238C  0.2682\n",
       "3         11   669  YAL001C  YDR280W  0.2291\n",
       "4         11   674  YAL001C  YDR292C  0.1834\n",
       "...      ...   ...      ...      ...     ...\n",
       "326785  3306  2922  YPR201W  YOR140W -0.1497\n",
       "326786  3306  2995  YPR201W  YOR270C -0.1228\n",
       "326787  3306  3105  YPR201W  YPL101W -0.1839\n",
       "326788  3306  3107  YPR201W  YPL106C -0.1640\n",
       "326789  3306  3168  YPR201W  YPL213W -0.1576\n",
       "\n",
       "[173469 rows x 5 columns]"
      ]
     },
     "metadata": {},
     "output_type": "display_data"
    }
   ],
   "source": [
    "gint = costanzo_unique[['a','b']].applymap(hashbrown)\n",
    "gint.columns = [gint.columns,['i','i']]\n",
    "gint['a','name'] = costanzo_unique['a']\n",
    "gint['b','name'] = costanzo_unique['b']\n",
    "gint['score'] = costanzo_unique['score']\n",
    "gint = gint[np.logical_and(gint.a.i > -1,gint.b.i > -1) ]\n",
    "display(gint)\n",
    "\n",
    "gi_coo = sparse.coo_matrix((gint['score'],(gint.a.i,gint.b.i)))\n",
    "gi_csc = sparse.csc_matrix(gi_coo)\n",
    "\n",
    "assert(gi_csc.shape == pi_csc.shape)"
   ]
  },
  {
   "cell_type": "markdown",
   "metadata": {
    "heading_collapsed": true
   },
   "source": [
    "### visualization"
   ]
  },
  {
   "cell_type": "code",
   "execution_count": 60,
   "metadata": {
    "hidden": true
   },
   "outputs": [
    {
     "data": {
      "text/plain": [
       "<matplotlib.colorbar.Colorbar at 0x7f93d82a6cd0>"
      ]
     },
     "execution_count": 60,
     "metadata": {},
     "output_type": "execute_result"
    },
    {
     "data": {
      "image/png": "[encoded data removed]",
      "text/plain": [
       "<Figure size 360x360 with 2 Axes>"
      ]
     },
     "metadata": {
      "needs_background": "light"
     },
     "output_type": "display_data"
    }
   ],
   "source": [
    "def bwr_plot(arr,**kwargs):\n",
    "    vmax = np.max(np.abs(arr))\n",
    "    plt.imshow(arr,vmax=vmax,vmin=-vmax,cmap='bwr')\n",
    "plt.figure(figsize=(5,5))\n",
    "bwr_plot(gi_csc.toarray());plt.colorbar()"
   ]
  },
  {
   "cell_type": "code",
   "execution_count": 64,
   "metadata": {
    "hidden": true
   },
   "outputs": [
    {
     "data": {
      "text/plain": [
       "Text(0.5, 0, 'score')"
      ]
     },
     "execution_count": 64,
     "metadata": {},
     "output_type": "execute_result"
    },
    {
     "data": {
      "image/png": "[encoded data removed]",
      "text/plain": [
       "<Figure size 432x288 with 1 Axes>"
      ]
     },
     "metadata": {
      "needs_background": "light"
     },
     "output_type": "display_data"
    }
   ],
   "source": [
    "plt.hist(gint['score'],bins = int(np.sqrt(len(gint))));\n",
    "plt.xlabel('score')"
   ]
  },
  {
   "cell_type": "markdown",
   "metadata": {},
   "source": [
    "# compute PI network properties"
   ]
  },
  {
   "cell_type": "code",
   "execution_count": 11,
   "metadata": {},
   "outputs": [],
   "source": [
    "import networkx as nx\n",
    "pi_graph = nx.from_scipy_sparse_matrix(pi_csc,create_using=nx.Graph)"
   ]
  },
  {
   "cell_type": "code",
   "execution_count": 12,
   "metadata": {},
   "outputs": [],
   "source": [
    "def dict_to_np(d,n): #ensures proper ordering, if for whatever reason the keys are out of numerical order\n",
    "    return np.array([d[i] for i in range(len(d))])"
   ]
  },
  {
   "cell_type": "markdown",
   "metadata": {},
   "source": [
    "## centrality measures"
   ]
  },
  {
   "cell_type": "markdown",
   "metadata": {
    "heading_collapsed": true
   },
   "source": [
    "### closeness"
   ]
  },
  {
   "cell_type": "code",
   "execution_count": 272,
   "metadata": {
    "hidden": true
   },
   "outputs": [],
   "source": [
    "closeness_dict = dict_to_np(nx.closeness_centrality(pi_graph))"
   ]
  },
  {
   "cell_type": "code",
   "execution_count": 13,
   "metadata": {
    "hidden": true
   },
   "outputs": [],
   "source": [
    "#closeness = np.load('closeness-arr-032720.npy')"
   ]
  },
  {
   "cell_type": "code",
   "execution_count": 284,
   "metadata": {
    "hidden": true
   },
   "outputs": [],
   "source": [
    "#np.save('closeness-arr-03272fff0.npy',closeness_arr)"
   ]
  },
  {
   "cell_type": "code",
   "execution_count": 327,
   "metadata": {
    "hidden": true
   },
   "outputs": [
    {
     "data": {
      "image/png": "[encoded data removed]",
      "text/plain": [
       "<Figure size 432x288 with 1 Axes>"
      ]
     },
     "metadata": {
      "needs_background": "light"
     },
     "output_type": "display_data"
    }
   ],
   "source": [
    "plt.hist(closeness,bins = int(np.sqrt(n_genes)));"
   ]
  },
  {
   "cell_type": "markdown",
   "metadata": {
    "heading_collapsed": true
   },
   "source": [
    "### degree"
   ]
  },
  {
   "cell_type": "code",
   "execution_count": 14,
   "metadata": {
    "hidden": true
   },
   "outputs": [
    {
     "data": {
      "image/png": "[encoded data removed]",
      "text/plain": [
       "<Figure size 432x288 with 1 Axes>"
      ]
     },
     "metadata": {
      "needs_background": "light"
     },
     "output_type": "display_data"
    }
   ],
   "source": [
    "degree = np.array(pi_csc.sum(axis=1)).ravel()\n",
    "plt.hist(np.log10(degree),bins = int(np.sqrt(n_genes)));\n",
    "plt.xlabel('log10 degree')\n",
    "plt.show()"
   ]
  },
  {
   "cell_type": "markdown",
   "metadata": {
    "heading_collapsed": true
   },
   "source": [
    "### eigenvector centrality"
   ]
  },
  {
   "cell_type": "markdown",
   "metadata": {
    "hidden": true
   },
   "source": [
    "find the perron-frobenius eigenvector"
   ]
  },
  {
   "cell_type": "code",
   "execution_count": 15,
   "metadata": {
    "hidden": true
   },
   "outputs": [
    {
     "name": "stdout",
     "output_type": "stream",
     "text": [
      "84 are zero\n"
     ]
    },
    {
     "data": {
      "image/png": "[encoded data removed]",
      "text/plain": [
       "<Figure size 432x288 with 1 Axes>"
      ]
     },
     "metadata": {
      "needs_background": "light"
     },
     "output_type": "display_data"
    }
   ],
   "source": [
    "eigs, vecs = slin.eigsh(pi_csc.astype(np.float),k=1)\n",
    "pfeig, pfvec = eigs[0], vecs[:,0]\n",
    "#clean up pfvec\n",
    "pfvec[np.isclose(pfvec,0)] = 0\n",
    "\n",
    "pfvec = pfvec/np.sign(pfvec.sum())\n",
    "assert(not np.any(pfvec < 0)) #assert non-negativity of pfvec\n",
    "print(np.count_nonzero(np.isclose(pfvec,0)),'are zero')\n",
    "\n",
    "pfvec_normed = pfvec/np.sum(pfvec)\n",
    "plt.hist(np.log10(pfvec_normed[pfvec>0]),bins=int(np.sqrt(n_genes)));\n",
    "plt.axvline(np.log10(1/n_genes),c='black')\n",
    "plt.title('nonzero pfvec_normed_i')\n",
    "plt.xlabel('log pfvec_normed_i')\n",
    "plt.show()"
   ]
  },
  {
   "cell_type": "markdown",
   "metadata": {
    "heading_collapsed": true
   },
   "source": [
    "### Betweenness centrality"
   ]
  },
  {
   "cell_type": "code",
   "execution_count": 328,
   "metadata": {
    "hidden": true
   },
   "outputs": [],
   "source": [
    "betweenness_dict = nx.betweenness_centrality(pi_graph)\n",
    "betweenness = dict_to_np(betweenness_dict)"
   ]
  },
  {
   "cell_type": "code",
   "execution_count": 17,
   "metadata": {
    "hidden": true
   },
   "outputs": [],
   "source": [
    "#betweenness = np.load('betweenness-032720.npy')"
   ]
  },
  {
   "cell_type": "code",
   "execution_count": 332,
   "metadata": {
    "hidden": true
   },
   "outputs": [],
   "source": [
    "#np.save('betweenness-032720fff.npy',betweenness)"
   ]
  },
  {
   "cell_type": "markdown",
   "metadata": {},
   "source": [
    "## protein pair metrics"
   ]
  },
  {
   "cell_type": "markdown",
   "metadata": {},
   "source": [
    "### Shortest paths"
   ]
  },
  {
   "cell_type": "code",
   "execution_count": 357,
   "metadata": {},
   "outputs": [
    {
     "name": "stdout",
     "output_type": "stream",
     "text": [
      "CPU times: user 1min 42s, sys: 4 ms, total: 1min 42s\n",
      "Wall time: 1min 42s\n"
     ]
    }
   ],
   "source": [
    "%%time\n",
    "shortest_iter = nx.shortest_path_length(pi_graph)\n",
    "shortest_mat_lt = np.full([n_genes,n_genes],0)\n",
    "for source, targets in shortest_iter:\n",
    "    for target, dist in targets.items():\n",
    "        if target < source:\n",
    "            shortest_mat_lt[source,target] = dist\n",
    "shortest_mat = shortest_mat_lt + shortest_mat_lt.T #symmetrize"
   ]
  },
  {
   "cell_type": "code",
   "execution_count": 37,
   "metadata": {},
   "outputs": [
    {
     "name": "stdout",
     "output_type": "stream",
     "text": [
      "saved\n"
     ]
    }
   ],
   "source": [
    "#consider storing a sparse csc upper triangular matrix\n",
    "#stores dense matrix \n",
    "if np.max(shortest_mat) <= 255:\n",
    "    np.save('cached/yeast/032720/shortestu8.npy',shortest_mat.astype(np.uint8))\n",
    "    print('saved')"
   ]
  },
  {
   "cell_type": "code",
   "execution_count": 19,
   "metadata": {},
   "outputs": [],
   "source": [
    "#shortest_mat_lt = np.load('shortest_mat_lt-032730.npy')"
   ]
  },
  {
   "cell_type": "code",
   "execution_count": 20,
   "metadata": {},
   "outputs": [
    {
     "data": {
      "image/png": "[encoded data removed]",
      "text/plain": [
       "<Figure size 432x288 with 2 Axes>"
      ]
     },
     "metadata": {
      "needs_background": "light"
     },
     "output_type": "display_data"
    },
    {
     "name": "stderr",
     "output_type": "stream",
     "text": [
      "/home/akuczala/miniconda3/lib/python3.7/site-packages/ipykernel_launcher.py:3: RuntimeWarning: divide by zero encountered in true_divide\n",
      "  This is separate from the ipykernel package so we can avoid doing imports until\n"
     ]
    },
    {
     "data": {
      "image/png": "[encoded data removed]",
      "text/plain": [
       "<Figure size 432x288 with 2 Axes>"
      ]
     },
     "metadata": {
      "needs_background": "light"
     },
     "output_type": "display_data"
    }
   ],
   "source": [
    "\n",
    "plt.imshow(shortest_mat); plt.colorbar(); plt.show()\n",
    "inv_dist_mat = 1./shortest_mat\n",
    "inv_dist_mat[shortest_mat == 0] = 0\n",
    "plt.imshow(inv_dist_mat); plt.colorbar(); plt.show()"
   ]
  },
  {
   "cell_type": "markdown",
   "metadata": {
    "heading_collapsed": true
   },
   "source": [
    "### Common neighbors"
   ]
  },
  {
   "cell_type": "code",
   "execution_count": 426,
   "metadata": {
    "hidden": true
   },
   "outputs": [
    {
     "name": "stdout",
     "output_type": "stream",
     "text": [
      "CPU times: user 1min 18s, sys: 616 ms, total: 1min 19s\n",
      "Wall time: 1min 19s\n"
     ]
    }
   ],
   "source": [
    "%%time\n",
    "def n_neighbors(pi_graph,i,j):\n",
    "    return len(list(nx.common_neighbors(pi_graph,i,j)))\n",
    "neighbor_pairs, ilist, jlist = list(zip(*[\n",
    "    (n_neighbors(pi_graph,i,j),i,j)\n",
    "    for i,j in itertools.product(range(n_genes),range(n_genes))\n",
    "    if i < j]))\n",
    "#create symmetric matrix\n",
    "neighbor_mat_csc = sparse.csc_matrix(sparse.coo_matrix(\n",
    "        (neighbor_pairs + neighbor_pairs,(ilist + jlist,jlist + ilist))\n",
    "))"
   ]
  },
  {
   "cell_type": "code",
   "execution_count": 438,
   "metadata": {
    "hidden": true
   },
   "outputs": [],
   "source": [
    "#sparse.save_npz('neighbors-03272fff0.npz',neighbor_mat_coo)"
   ]
  },
  {
   "cell_type": "code",
   "execution_count": 21,
   "metadata": {
    "hidden": true
   },
   "outputs": [],
   "source": [
    "neighbor_mat_csc=sparse.load_npz('neighbors-032720.npz')"
   ]
  },
  {
   "cell_type": "code",
   "execution_count": 22,
   "metadata": {
    "hidden": true
   },
   "outputs": [
    {
     "data": {
      "text/plain": [
       "<matplotlib.colorbar.Colorbar at 0x7f1fdae1ead0>"
      ]
     },
     "execution_count": 22,
     "metadata": {},
     "output_type": "execute_result"
    },
    {
     "data": {
      "image/png": "[encoded data removed]",
      "text/plain": [
       "<Figure size 432x288 with 2 Axes>"
      ]
     },
     "metadata": {
      "needs_background": "light"
     },
     "output_type": "display_data"
    }
   ],
   "source": [
    "plt.imshow(neighbor_mat_csc.toarray()[:50,:50],cmap='gray_r'); plt.colorbar()"
   ]
  },
  {
   "cell_type": "markdown",
   "metadata": {
    "heading_collapsed": true
   },
   "source": [
    "# make samples, labels"
   ]
  },
  {
   "cell_type": "markdown",
   "metadata": {
    "hidden": true
   },
   "source": [
    "Paladugu excludes proteins localized to mitochondria"
   ]
  },
  {
   "cell_type": "code",
   "execution_count": 23,
   "metadata": {
    "hidden": true
   },
   "outputs": [
    {
     "data": {
      "image/png": "[encoded data removed]",
      "text/plain": [
       "<Figure size 432x288 with 1 Axes>"
      ]
     },
     "metadata": {
      "needs_background": "light"
     },
     "output_type": "display_data"
    },
    {
     "name": "stdout",
     "output_type": "stream",
     "text": [
      "left 147798\n",
      "right 25671\n"
     ]
    }
   ],
   "source": [
    "class_sign = -1\n",
    "label_thresh = 0\n",
    "plt.hist(gint['score'],bins = int(np.sqrt(len(gint))));\n",
    "plt.axvline(label_thresh,c='black')\n",
    "plt.xlabel('score'); plt.show()\n",
    "print(\"left\", np.count_nonzero(gint['score']<label_thresh))\n",
    "print(\"right\", np.count_nonzero(gint['score']>label_thresh))\n"
   ]
  },
  {
   "cell_type": "code",
   "execution_count": 24,
   "metadata": {
    "hidden": true
   },
   "outputs": [
    {
     "name": "stdout",
     "output_type": "stream",
     "text": [
      "number of small samples: 10154\n",
      "number of samples: 173469\n"
     ]
    }
   ],
   "source": [
    "ab_names = ['a','b']\n",
    "vertex_features = 'deg,eigcent,closeness,betweenness'.split(',')\n",
    "vertex_data = [degree,pfvec_normed,closeness,betweenness]\n",
    "pair_features = 'invdist,comneigh'.split(',')\n",
    "pair_data = [inv_dist_mat,neighbor_mat_csc.toarray()] #seems like i shouldn't need to turn into a np array here\n",
    "features = list(itertools.product(ab_names,vertex_features)) + list(itertools.product(['pair'],pair_features))\n",
    "samples = gint.copy()\n",
    "\n",
    "samples['label'] = samples['score']*class_sign>label_thresh*class_sign\n",
    "\n",
    "#map vertex features to samples\n",
    "for vfeat, vdat in zip(vertex_features,vertex_data):\n",
    "    samples['a',vfeat] = vdat[samples.a.i]\n",
    "    samples['b',vfeat] = vdat[samples.b.i]\n",
    "#vertex pair features\n",
    "for pfeat, pmat in zip(pair_features,pair_data):\n",
    "    samples['pair',pfeat] = pmat[samples.a.i,samples.b.i]\n",
    "    \n",
    "#take subset with equal number of positive and negative scores\n",
    "\n",
    "neg_samples = samples[samples['score'] < -0.5].sample(frac=0.9)\n",
    "assert len(neg_samples) < len(samples[samples.score > 0]), 'Not enough positive scores'\n",
    "pos_samples = samples[samples['score'] > 0].sample(n = len(neg_samples))\n",
    "#join positive and negative samples, and randomize\n",
    "small_samples = neg_samples.append(pos_samples,verify_integrity = True).sample(frac=1)\n",
    "n_small_samples = len(small_samples)\n",
    "\n",
    "#divide into training, testing\n",
    "frac_test = 0.2\n",
    "n_test = int(n_small_samples*frac_test)\n",
    "n_train = n_small_samples - n_test\n",
    "\n",
    "small_training = small_samples.iloc[:n_train]\n",
    "small_testing = small_samples.iloc[n_train:]\n",
    "#display(samples)\n",
    "#display(small_samples)\n",
    "print('number of small samples:',n_small_samples)\n",
    "print('number of samples:',len(samples))"
   ]
  },
  {
   "cell_type": "code",
   "execution_count": 466,
   "metadata": {
    "hidden": true,
    "scrolled": true
   },
   "outputs": [
    {
     "data": {
      "image/png": "[encoded data removed]",
      "text/plain": [
       "<Figure size 432x288 with 2 Axes>"
      ]
     },
     "metadata": {
      "needs_background": "light"
     },
     "output_type": "display_data"
    }
   ],
   "source": [
    "plot_sample = samples.sample(n=500)\n",
    "plot_sample.plot.scatter(x=('a','eigcent'),y=('b','eigcent'),\n",
    "                         c = plot_sample['label'],cmap='bwr',s=1)\n",
    "plt.show()"
   ]
  },
  {
   "cell_type": "markdown",
   "metadata": {},
   "source": [
    "# fit data"
   ]
  },
  {
   "cell_type": "markdown",
   "metadata": {
    "heading_collapsed": true
   },
   "source": [
    "## imports"
   ]
  },
  {
   "cell_type": "code",
   "execution_count": 31,
   "metadata": {
    "hidden": true
   },
   "outputs": [],
   "source": [
    "from sklearn.model_selection import cross_val_score\n",
    "\n",
    "from sklearn.linear_model import LogisticRegression\n",
    "from sklearn.ensemble import RandomForestClassifier\n",
    "from sklearn.svm import SVC\n",
    "\n",
    "import sklearn.metrics as metrics\n",
    "from sklearn.inspection import permutation_importance"
   ]
  },
  {
   "cell_type": "markdown",
   "metadata": {},
   "source": [
    "## functions"
   ]
  },
  {
   "cell_type": "code",
   "execution_count": 26,
   "metadata": {},
   "outputs": [],
   "source": [
    "def train(model,train_samples,features):\n",
    "    model.fit(train_samples[features],train_samples['label'])\n",
    "\n",
    "def predict(model,test_samples,features):\n",
    "    model.predict(test_samples[features])\n",
    "\n",
    "def cross_validate(model,samples,features):\n",
    "    scores = cross_val_score(model, samples[features], samples['label'], cv=5)\n",
    "    print(\"Accuracy: %0.2f (+/- %0.2f)\" % (scores.mean(), scores.std() * 2))\n",
    "    return scores\n",
    "\n",
    "def calc_matt_coef(model,test_samples,features):\n",
    "    return metrics.matthews_corrcoef(test_samples['label'],model.predict(test_samples[features]))\n",
    "\n",
    "def plot_pr_curve(model,test_samples,features,ax = None):\n",
    "    if ax is None:\n",
    "        ax = plt.gca()\n",
    "    metrics.plot_precision_recall_curve(model,test_samples[features],test_samples['label'],ax = ax)\n",
    "    \n",
    "def plot_roc_curve(model,test_samples,features,ax=None):\n",
    "    if ax is None:\n",
    "        ax = plt.gca()\n",
    "    metrics.plot_roc_curve(model,test_samples[features],test_samples['label'],ax =ax)\n",
    "    ax.plot([0,1],[0,1],c='gray',linestyle='--')\n",
    "    ax.set_aspect(1)\n",
    "    \n",
    "def plot_confusion_matrix(model,samples,features,ax=None):\n",
    "    if ax is None:\n",
    "        ax = plt.gca()\n",
    "    return metrics.plot_confusion_matrix(model,samples[features],samples['label'],ax = ax)"
   ]
  },
  {
   "cell_type": "code",
   "execution_count": 27,
   "metadata": {},
   "outputs": [],
   "source": [
    "def calc_importance(model,samples,features):\n",
    "    importance_dict = permutation_importance(\n",
    "        model,samples[features],samples['label'])\n",
    "    return importance_dict\n",
    "\n",
    "def plot_importances(features,importances,axes = None):\n",
    "    if axes is None:\n",
    "        fig, axes = plt.subplots(1,2,figsize=(18,6))\n",
    "    \n",
    "    #convert importance matrix to dataframe\n",
    "    imdf = pd.DataFrame(importances['importances'].T,\n",
    "                        columns = pd.MultiIndex.from_tuples(features))\n",
    "    #combine features from a, b\n",
    "    imdf_ab = imdf.stack(level=0)\n",
    "    \n",
    "    #compute importance statistics\n",
    "    imdf_stats = \\\n",
    "         imdf \\\n",
    "        .agg([np.mean,np.std]) \\\n",
    "        .transpose() \\\n",
    "        .sort_values('mean',axis=0,ascending=False)\n",
    "    #display(imdf_stats)\n",
    "\n",
    "    #errorbar plot of feature importance\n",
    "    imdf_stats.plot(y='mean',ax=axes[0])\n",
    "    axes[0].errorbar(np.arange(len(imdf_stats)),imdf_stats['mean'],\n",
    "                 yerr=imdf_stats['std'],linestyle='',capsize=10,marker='o')\n",
    "    axes[0].set_ylabel('importance')\n",
    "    \n",
    "    #box plot of feature importance\n",
    "    imdf_ab.reindex(imdf_ab.mean().sort_values(ascending=False).index, axis=1).boxplot(ax=axes[1])"
   ]
  },
  {
   "cell_type": "markdown",
   "metadata": {},
   "source": [
    "## Benchmarking"
   ]
  },
  {
   "cell_type": "code",
   "execution_count": 32,
   "metadata": {
    "scrolled": false
   },
   "outputs": [
    {
     "data": {
      "text/markdown": [
       "## Logistic"
      ]
     },
     "metadata": {},
     "output_type": "display_data"
    },
    {
     "name": "stdout",
     "output_type": "stream",
     "text": [
      "Accuracy: 0.65 (+/- 0.01)\n"
     ]
    },
    {
     "data": {
      "image/png": "[encoded data removed]",
      "text/plain": [
       "<Figure size 1080x1080 with 5 Axes>"
      ]
     },
     "metadata": {
      "needs_background": "light"
     },
     "output_type": "display_data"
    },
    {
     "data": {
      "text/markdown": [
       "## Random Forest"
      ]
     },
     "metadata": {},
     "output_type": "display_data"
    },
    {
     "name": "stdout",
     "output_type": "stream",
     "text": [
      "Accuracy: 0.72 (+/- 0.02)\n"
     ]
    },
    {
     "data": {
      "image/png": "[encoded data removed]",
      "text/plain": [
       "<Figure size 1080x1080 with 5 Axes>"
      ]
     },
     "metadata": {
      "needs_background": "light"
     },
     "output_type": "display_data"
    },
    {
     "data": {
      "text/markdown": [
       "## SVM"
      ]
     },
     "metadata": {},
     "output_type": "display_data"
    },
    {
     "name": "stdout",
     "output_type": "stream",
     "text": [
      "Accuracy: 0.61 (+/- 0.01)\n"
     ]
    },
    {
     "data": {
      "image/png": "[encoded data removed]",
      "text/plain": [
       "<Figure size 1080x1080 with 5 Axes>"
      ]
     },
     "metadata": {
      "needs_background": "light"
     },
     "output_type": "display_data"
    }
   ],
   "source": [
    "models = [LogisticRegression(max_iter=500),RandomForestClassifier(),SVC()]\n",
    "model_names = ['Logistic','Random Forest','SVM']\n",
    "for model, model_name in list(zip(models,model_names)):\n",
    "    display_markdown(Markdown('## ' + model_name))\n",
    "    cross_validate(model,small_samples,features)\n",
    "    train(model,small_samples,features)\n",
    "    test_results = predict(model,small_testing,features)\n",
    "    \n",
    "    fig, axes = plt.subplots(2,2,figsize=(15,15))\n",
    "    plot_roc_curve(model,small_testing,features,ax = axes[0,0])\n",
    "    plot_confusion_matrix(model,small_testing,features,ax = axes[0,1])\n",
    "    plot_importances(features,calc_importance(model,small_samples,features),axes=axes[1])\n",
    "    plt.show()"
   ]
  },
  {
   "cell_type": "markdown",
   "metadata": {
    "heading_collapsed": true
   },
   "source": [
    "# misc/old"
   ]
  },
  {
   "cell_type": "code",
   "execution_count": 220,
   "metadata": {
    "hidden": true
   },
   "outputs": [
    {
     "data": {
      "text/html": [
       "<div>\n",
       "<style scoped>\n",
       "    .dataframe tbody tr th:only-of-type {\n",
       "        vertical-align: middle;\n",
       "    }\n",
       "\n",
       "    .dataframe tbody tr th {\n",
       "        vertical-align: top;\n",
       "    }\n",
       "\n",
       "    .dataframe thead th {\n",
       "        text-align: right;\n",
       "    }\n",
       "</style>\n",
       "<table border=\"1\" class=\"dataframe\">\n",
       "  <thead>\n",
       "    <tr style=\"text-align: right;\">\n",
       "      <th></th>\n",
       "      <th>n</th>\n",
       "      <th>f</th>\n",
       "    </tr>\n",
       "  </thead>\n",
       "  <tbody>\n",
       "    <tr>\n",
       "      <th>correct</th>\n",
       "      <td>9642</td>\n",
       "      <td>0.555831</td>\n",
       "    </tr>\n",
       "    <tr>\n",
       "      <th>TP</th>\n",
       "      <td>16966</td>\n",
       "      <td>0.978037</td>\n",
       "    </tr>\n",
       "    <tr>\n",
       "      <th>TN</th>\n",
       "      <td>15635</td>\n",
       "      <td>0.901309</td>\n",
       "    </tr>\n",
       "    <tr>\n",
       "      <th>FP</th>\n",
       "      <td>16011</td>\n",
       "      <td>0.922984</td>\n",
       "    </tr>\n",
       "    <tr>\n",
       "      <th>FN</th>\n",
       "      <td>15634</td>\n",
       "      <td>0.901251</td>\n",
       "    </tr>\n",
       "  </tbody>\n",
       "</table>\n",
       "</div>"
      ],
      "text/plain": [
       "             n         f\n",
       "correct   9642  0.555831\n",
       "TP       16966  0.978037\n",
       "TN       15635  0.901309\n",
       "FP       16011  0.922984\n",
       "FN       15634  0.901251"
      ]
     },
     "execution_count": 220,
     "metadata": {},
     "output_type": "execute_result"
    }
   ],
   "source": [
    "results = pd.DataFrame()\n",
    "true_results = small_testing['label']\n",
    "results['correct'] = small_testing['label'] == test_results\n",
    "results['TP'] = correct & test_results\n",
    "results['TN'] = correct & ~test_results\n",
    "results['FP'] = ~correct & test_results\n",
    "results['FN'] = ~correct & ~test_results\n",
    "#n_correct, n_true_pos, n_true_neg = map(np.count_nonzero,[correct,true_pos,true_neg])\n",
    "results_summary = pd.DataFrame(columns=['n','f'])\n",
    "for row in 'correct,TP,TN,FP,FN'.split(','):\n",
    "    results_summary.loc[row,'n'] = np.count_nonzero(results[row])\n",
    "    results_summary.loc[row,'f'] = results_summary.loc[row,'n']/len(small_testing)\n",
    "#f_correct, f_true_pos, f_true_neg = map(lambda x: x/len(small_testing),[n_correct,n_true_pos,n_true_neg])\n",
    "results_summary"
   ]
  },
  {
   "cell_type": "markdown",
   "metadata": {
    "hidden": true
   },
   "source": [
    "f1 score or matthew's correlation coef"
   ]
  },
  {
   "cell_type": "markdown",
   "metadata": {
    "heading_collapsed": true,
    "hidden": true
   },
   "source": [
    "## counting things"
   ]
  },
  {
   "cell_type": "code",
   "execution_count": 185,
   "metadata": {
    "hidden": true
   },
   "outputs": [
    {
     "data": {
      "text/plain": [
       "(3307, 3307)"
      ]
     },
     "execution_count": 185,
     "metadata": {},
     "output_type": "execute_result"
    }
   ],
   "source": [
    "gi_sparse.shape"
   ]
  },
  {
   "cell_type": "code",
   "execution_count": 186,
   "metadata": {
    "hidden": true
   },
   "outputs": [
    {
     "data": {
      "text/plain": [
       "(3306, 3307)"
      ]
     },
     "execution_count": 186,
     "metadata": {},
     "output_type": "execute_result"
    }
   ],
   "source": [
    "pi_sparse.shape"
   ]
  },
  {
   "cell_type": "code",
   "execution_count": 152,
   "metadata": {
    "hidden": true
   },
   "outputs": [],
   "source": [
    "costanzo_genes = list(set(costanzo_unique['a'].append(costanzo_unique['b'])))"
   ]
  },
  {
   "cell_type": "code",
   "execution_count": 153,
   "metadata": {
    "hidden": true
   },
   "outputs": [
    {
     "data": {
      "text/plain": [
       "5293"
      ]
     },
     "execution_count": 153,
     "metadata": {},
     "output_type": "execute_result"
    }
   ],
   "source": [
    "len(costanzo_genes)"
   ]
  },
  {
   "cell_type": "code",
   "execution_count": 154,
   "metadata": {
    "hidden": true
   },
   "outputs": [
    {
     "data": {
      "text/plain": [
       "5293"
      ]
     },
     "execution_count": 154,
     "metadata": {},
     "output_type": "execute_result"
    }
   ],
   "source": [
    "len(costanzo_genes)"
   ]
  },
  {
   "cell_type": "code",
   "execution_count": 155,
   "metadata": {
    "hidden": true
   },
   "outputs": [
    {
     "data": {
      "text/plain": [
       "3307"
      ]
     },
     "execution_count": 155,
     "metadata": {},
     "output_type": "execute_result"
    }
   ],
   "source": [
    "len(gene_names)"
   ]
  },
  {
   "cell_type": "code",
   "execution_count": 156,
   "metadata": {
    "hidden": true
   },
   "outputs": [
    {
     "data": {
      "text/plain": [
       "5646"
      ]
     },
     "execution_count": 156,
     "metadata": {},
     "output_type": "execute_result"
    }
   ],
   "source": [
    "len(set(costanzo_genes + gene_names))"
   ]
  },
  {
   "cell_type": "code",
   "execution_count": 148,
   "metadata": {
    "hidden": true
   },
   "outputs": [
    {
     "data": {
      "text/plain": [
       "2131"
      ]
     },
     "execution_count": 148,
     "metadata": {},
     "output_type": "execute_result"
    }
   ],
   "source": [
    "3885 + 3307 - 5061"
   ]
  },
  {
   "cell_type": "code",
   "execution_count": 157,
   "metadata": {
    "hidden": true
   },
   "outputs": [
    {
     "data": {
      "text/plain": [
       "2954"
      ]
     },
     "execution_count": 157,
     "metadata": {},
     "output_type": "execute_result"
    }
   ],
   "source": [
    "5293 + 3307 - 5646"
   ]
  },
  {
   "cell_type": "code",
   "execution_count": 158,
   "metadata": {
    "hidden": true
   },
   "outputs": [
    {
     "data": {
      "text/plain": [
       "0.0090775"
      ]
     },
     "execution_count": 158,
     "metadata": {},
     "output_type": "execute_result"
    }
   ],
   "source": [
    "326790/(6000**2)"
   ]
  },
  {
   "cell_type": "code",
   "execution_count": null,
   "metadata": {
    "hidden": true
   },
   "outputs": [],
   "source": []
  }
 ],
 "metadata": {
  "kernelspec": {
   "display_name": "Python 3",
   "language": "python",
   "name": "python3"
  },
  "language_info": {
   "codemirror_mode": {
    "name": "ipython",
    "version": 3
   },
   "file_extension": ".py",
   "mimetype": "text/x-python",
   "name": "python",
   "nbconvert_exporter": "python",
   "pygments_lexer": "ipython3",
   "version": "3.7.6"
  },
  "latex_envs": {
   "LaTeX_envs_menu_present": true,
   "autoclose": false,
   "autocomplete": true,
   "bibliofile": "biblio.bib",
   "cite_by": "apalike",
   "current_citInitial": 1,
   "eqLabelWithNumbers": true,
   "eqNumInitial": 1,
   "hotkeys": {
    "equation": "Ctrl-E",
    "itemize": "Ctrl-I"
   },
   "labels_anchors": false,
   "latex_user_defs": false,
   "report_style_numbering": false,
   "user_envs_cfg": false
  },
  "toc": {
   "nav_menu": {},
   "number_sections": true,
   "sideBar": true,
   "skip_h1_title": false,
   "toc_cell": false,
   "toc_position": {},
   "toc_section_display": true,
   "toc_window_display": false
  },
  "varInspector": {
   "cols": {
    "lenName": 16,
    "lenType": 16,
    "lenVar": 40
   },
   "kernels_config": {
    "python": {
     "delete_cmd_postfix": "",
     "delete_cmd_prefix": "del ",
     "library": "var_list.py",
     "varRefreshCmd": "print(var_dic_list())"
    },
    "r": {
     "delete_cmd_postfix": ") ",
     "delete_cmd_prefix": "rm(",
     "library": "var_list.r",
     "varRefreshCmd": "cat(var_dic_list()) "
    }
   },
   "position": {
    "height": "581px",
    "left": "953px",
    "right": "20px",
    "top": "120px",
    "width": "350px"
   },
   "types_to_exclude": [
    "module",
    "function",
    "builtin_function_or_method",
    "instance",
    "_Feature"
   ],
   "window_display": false
  }
 },
 "nbformat": 4,
 "nbformat_minor": 4
}
